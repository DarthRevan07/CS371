{
  "cells": [
    {
      "cell_type": "code",
      "execution_count": null,
      "metadata": {
        "colab": {
          "base_uri": "https://localhost:8080/"
        },
        "id": "v3RprH1CDIb_",
        "outputId": "265a8034-ec61-4709-c8ca-625efd0d905e"
      },
      "outputs": [
        {
          "name": "stdout",
          "output_type": "stream",
          "text": [
            "Collecting torch_geometric\n",
            "  Downloading torch_geometric-2.5.2-py3-none-any.whl (1.1 MB)\n",
            "\u001b[?25l     \u001b[90m━━━━━━━━━━━━━━━━━━━━━━━━━━━━━━━━━━━━━━━━\u001b[0m \u001b[32m0.0/1.1 MB\u001b[0m \u001b[31m?\u001b[0m eta \u001b[36m-:--:--\u001b[0m\r\u001b[2K     \u001b[91m━━━━━━━\u001b[0m\u001b[90m╺\u001b[0m\u001b[90m━━━━━━━━━━━━━━━━━━━━━━━━━━━━━━━━\u001b[0m \u001b[32m0.2/1.1 MB\u001b[0m \u001b[31m6.1 MB/s\u001b[0m eta \u001b[36m0:00:01\u001b[0m\r\u001b[2K     \u001b[90m━━━━━━━━━━━━━━━━━━━━━━━━━━━━━━━━━━━━━━━━\u001b[0m \u001b[32m1.1/1.1 MB\u001b[0m \u001b[31m19.3 MB/s\u001b[0m eta \u001b[36m0:00:00\u001b[0m\n",
            "\u001b[?25hRequirement already satisfied: tqdm in /usr/local/lib/python3.10/dist-packages (from torch_geometric) (4.66.2)\n",
            "Requirement already satisfied: numpy in /usr/local/lib/python3.10/dist-packages (from torch_geometric) (1.25.2)\n",
            "Requirement already satisfied: scipy in /usr/local/lib/python3.10/dist-packages (from torch_geometric) (1.11.4)\n",
            "Requirement already satisfied: fsspec in /usr/local/lib/python3.10/dist-packages (from torch_geometric) (2023.6.0)\n",
            "Requirement already satisfied: jinja2 in /usr/local/lib/python3.10/dist-packages (from torch_geometric) (3.1.3)\n",
            "Requirement already satisfied: aiohttp in /usr/local/lib/python3.10/dist-packages (from torch_geometric) (3.9.3)\n",
            "Requirement already satisfied: requests in /usr/local/lib/python3.10/dist-packages (from torch_geometric) (2.31.0)\n",
            "Requirement already satisfied: pyparsing in /usr/local/lib/python3.10/dist-packages (from torch_geometric) (3.1.2)\n",
            "Requirement already satisfied: scikit-learn in /usr/local/lib/python3.10/dist-packages (from torch_geometric) (1.2.2)\n",
            "Requirement already satisfied: psutil>=5.8.0 in /usr/local/lib/python3.10/dist-packages (from torch_geometric) (5.9.5)\n",
            "Requirement already satisfied: aiosignal>=1.1.2 in /usr/local/lib/python3.10/dist-packages (from aiohttp->torch_geometric) (1.3.1)\n",
            "Requirement already satisfied: attrs>=17.3.0 in /usr/local/lib/python3.10/dist-packages (from aiohttp->torch_geometric) (23.2.0)\n",
            "Requirement already satisfied: frozenlist>=1.1.1 in /usr/local/lib/python3.10/dist-packages (from aiohttp->torch_geometric) (1.4.1)\n",
            "Requirement already satisfied: multidict<7.0,>=4.5 in /usr/local/lib/python3.10/dist-packages (from aiohttp->torch_geometric) (6.0.5)\n",
            "Requirement already satisfied: yarl<2.0,>=1.0 in /usr/local/lib/python3.10/dist-packages (from aiohttp->torch_geometric) (1.9.4)\n",
            "Requirement already satisfied: async-timeout<5.0,>=4.0 in /usr/local/lib/python3.10/dist-packages (from aiohttp->torch_geometric) (4.0.3)\n",
            "Requirement already satisfied: MarkupSafe>=2.0 in /usr/local/lib/python3.10/dist-packages (from jinja2->torch_geometric) (2.1.5)\n",
            "Requirement already satisfied: charset-normalizer<4,>=2 in /usr/local/lib/python3.10/dist-packages (from requests->torch_geometric) (3.3.2)\n",
            "Requirement already satisfied: idna<4,>=2.5 in /usr/local/lib/python3.10/dist-packages (from requests->torch_geometric) (3.6)\n",
            "Requirement already satisfied: urllib3<3,>=1.21.1 in /usr/local/lib/python3.10/dist-packages (from requests->torch_geometric) (2.0.7)\n",
            "Requirement already satisfied: certifi>=2017.4.17 in /usr/local/lib/python3.10/dist-packages (from requests->torch_geometric) (2024.2.2)\n",
            "Requirement already satisfied: joblib>=1.1.1 in /usr/local/lib/python3.10/dist-packages (from scikit-learn->torch_geometric) (1.4.0)\n",
            "Requirement already satisfied: threadpoolctl>=2.0.0 in /usr/local/lib/python3.10/dist-packages (from scikit-learn->torch_geometric) (3.4.0)\n",
            "Installing collected packages: torch_geometric\n",
            "Successfully installed torch_geometric-2.5.2\n",
            "Requirement already satisfied: rich in /usr/local/lib/python3.10/dist-packages (13.7.1)\n",
            "Requirement already satisfied: markdown-it-py>=2.2.0 in /usr/local/lib/python3.10/dist-packages (from rich) (3.0.0)\n",
            "Requirement already satisfied: pygments<3.0.0,>=2.13.0 in /usr/local/lib/python3.10/dist-packages (from rich) (2.16.1)\n",
            "Requirement already satisfied: mdurl~=0.1 in /usr/local/lib/python3.10/dist-packages (from markdown-it-py>=2.2.0->rich) (0.1.2)\n",
            "Collecting opacus\n",
            "  Downloading opacus-1.4.1-py3-none-any.whl (226 kB)\n",
            "\u001b[2K     \u001b[90m━━━━━━━━━━━━━━━━━━━━━━━━━━━━━━━━━━━━━━━━\u001b[0m \u001b[32m226.7/226.7 kB\u001b[0m \u001b[31m4.9 MB/s\u001b[0m eta \u001b[36m0:00:00\u001b[0m\n",
            "\u001b[?25hRequirement already satisfied: numpy>=1.15 in /usr/local/lib/python3.10/dist-packages (from opacus) (1.25.2)\n",
            "Requirement already satisfied: torch>=2.0 in /usr/local/lib/python3.10/dist-packages (from opacus) (2.2.1+cu121)\n",
            "Requirement already satisfied: scipy>=1.2 in /usr/local/lib/python3.10/dist-packages (from opacus) (1.11.4)\n",
            "Requirement already satisfied: opt-einsum>=3.3.0 in /usr/local/lib/python3.10/dist-packages (from opacus) (3.3.0)\n",
            "Requirement already satisfied: filelock in /usr/local/lib/python3.10/dist-packages (from torch>=2.0->opacus) (3.13.4)\n",
            "Requirement already satisfied: typing-extensions>=4.8.0 in /usr/local/lib/python3.10/dist-packages (from torch>=2.0->opacus) (4.11.0)\n",
            "Requirement already satisfied: sympy in /usr/local/lib/python3.10/dist-packages (from torch>=2.0->opacus) (1.12)\n",
            "Requirement already satisfied: networkx in /usr/local/lib/python3.10/dist-packages (from torch>=2.0->opacus) (3.3)\n",
            "Requirement already satisfied: jinja2 in /usr/local/lib/python3.10/dist-packages (from torch>=2.0->opacus) (3.1.3)\n",
            "Requirement already satisfied: fsspec in /usr/local/lib/python3.10/dist-packages (from torch>=2.0->opacus) (2023.6.0)\n",
            "Collecting nvidia-cuda-nvrtc-cu12==12.1.105 (from torch>=2.0->opacus)\n",
            "  Using cached nvidia_cuda_nvrtc_cu12-12.1.105-py3-none-manylinux1_x86_64.whl (23.7 MB)\n",
            "Collecting nvidia-cuda-runtime-cu12==12.1.105 (from torch>=2.0->opacus)\n",
            "  Using cached nvidia_cuda_runtime_cu12-12.1.105-py3-none-manylinux1_x86_64.whl (823 kB)\n",
            "Collecting nvidia-cuda-cupti-cu12==12.1.105 (from torch>=2.0->opacus)\n",
            "  Using cached nvidia_cuda_cupti_cu12-12.1.105-py3-none-manylinux1_x86_64.whl (14.1 MB)\n",
            "Collecting nvidia-cudnn-cu12==8.9.2.26 (from torch>=2.0->opacus)\n",
            "  Using cached nvidia_cudnn_cu12-8.9.2.26-py3-none-manylinux1_x86_64.whl (731.7 MB)\n",
            "Collecting nvidia-cublas-cu12==12.1.3.1 (from torch>=2.0->opacus)\n",
            "  Using cached nvidia_cublas_cu12-12.1.3.1-py3-none-manylinux1_x86_64.whl (410.6 MB)\n",
            "Collecting nvidia-cufft-cu12==11.0.2.54 (from torch>=2.0->opacus)\n",
            "  Using cached nvidia_cufft_cu12-11.0.2.54-py3-none-manylinux1_x86_64.whl (121.6 MB)\n",
            "Collecting nvidia-curand-cu12==10.3.2.106 (from torch>=2.0->opacus)\n",
            "  Using cached nvidia_curand_cu12-10.3.2.106-py3-none-manylinux1_x86_64.whl (56.5 MB)\n",
            "Collecting nvidia-cusolver-cu12==11.4.5.107 (from torch>=2.0->opacus)\n",
            "  Using cached nvidia_cusolver_cu12-11.4.5.107-py3-none-manylinux1_x86_64.whl (124.2 MB)\n",
            "Collecting nvidia-cusparse-cu12==12.1.0.106 (from torch>=2.0->opacus)\n",
            "  Using cached nvidia_cusparse_cu12-12.1.0.106-py3-none-manylinux1_x86_64.whl (196.0 MB)\n",
            "Collecting nvidia-nccl-cu12==2.19.3 (from torch>=2.0->opacus)\n",
            "  Using cached nvidia_nccl_cu12-2.19.3-py3-none-manylinux1_x86_64.whl (166.0 MB)\n",
            "Collecting nvidia-nvtx-cu12==12.1.105 (from torch>=2.0->opacus)\n",
            "  Using cached nvidia_nvtx_cu12-12.1.105-py3-none-manylinux1_x86_64.whl (99 kB)\n",
            "Requirement already satisfied: triton==2.2.0 in /usr/local/lib/python3.10/dist-packages (from torch>=2.0->opacus) (2.2.0)\n",
            "Collecting nvidia-nvjitlink-cu12 (from nvidia-cusolver-cu12==11.4.5.107->torch>=2.0->opacus)\n",
            "  Using cached nvidia_nvjitlink_cu12-12.4.127-py3-none-manylinux2014_x86_64.whl (21.1 MB)\n",
            "Requirement already satisfied: MarkupSafe>=2.0 in /usr/local/lib/python3.10/dist-packages (from jinja2->torch>=2.0->opacus) (2.1.5)\n",
            "Requirement already satisfied: mpmath>=0.19 in /usr/local/lib/python3.10/dist-packages (from sympy->torch>=2.0->opacus) (1.3.0)\n",
            "Installing collected packages: nvidia-nvtx-cu12, nvidia-nvjitlink-cu12, nvidia-nccl-cu12, nvidia-curand-cu12, nvidia-cufft-cu12, nvidia-cuda-runtime-cu12, nvidia-cuda-nvrtc-cu12, nvidia-cuda-cupti-cu12, nvidia-cublas-cu12, nvidia-cusparse-cu12, nvidia-cudnn-cu12, nvidia-cusolver-cu12, opacus\n",
            "Successfully installed nvidia-cublas-cu12-12.1.3.1 nvidia-cuda-cupti-cu12-12.1.105 nvidia-cuda-nvrtc-cu12-12.1.105 nvidia-cuda-runtime-cu12-12.1.105 nvidia-cudnn-cu12-8.9.2.26 nvidia-cufft-cu12-11.0.2.54 nvidia-curand-cu12-10.3.2.106 nvidia-cusolver-cu12-11.4.5.107 nvidia-cusparse-cu12-12.1.0.106 nvidia-nccl-cu12-2.19.3 nvidia-nvjitlink-cu12-12.4.127 nvidia-nvtx-cu12-12.1.105 opacus-1.4.1\n",
            "Collecting wandb\n",
            "  Downloading wandb-0.16.6-py3-none-any.whl (2.2 MB)\n",
            "\u001b[2K     \u001b[90m━━━━━━━━━━━━━━━━━━━━━━━━━━━━━━━━━━━━━━━━\u001b[0m \u001b[32m2.2/2.2 MB\u001b[0m \u001b[31m26.2 MB/s\u001b[0m eta \u001b[36m0:00:00\u001b[0m\n",
            "\u001b[?25hRequirement already satisfied: Click!=8.0.0,>=7.1 in /usr/local/lib/python3.10/dist-packages (from wandb) (8.1.7)\n",
            "Collecting GitPython!=3.1.29,>=1.0.0 (from wandb)\n",
            "  Downloading GitPython-3.1.43-py3-none-any.whl (207 kB)\n",
            "\u001b[2K     \u001b[90m━━━━━━━━━━━━━━━━━━━━━━━━━━━━━━━━━━━━━━━━\u001b[0m \u001b[32m207.3/207.3 kB\u001b[0m \u001b[31m24.3 MB/s\u001b[0m eta \u001b[36m0:00:00\u001b[0m\n",
            "\u001b[?25hRequirement already satisfied: requests<3,>=2.0.0 in /usr/local/lib/python3.10/dist-packages (from wandb) (2.31.0)\n",
            "Requirement already satisfied: psutil>=5.0.0 in /usr/local/lib/python3.10/dist-packages (from wandb) (5.9.5)\n",
            "Collecting sentry-sdk>=1.0.0 (from wandb)\n",
            "  Downloading sentry_sdk-1.45.0-py2.py3-none-any.whl (267 kB)\n",
            "\u001b[2K     \u001b[90m━━━━━━━━━━━━━━━━━━━━━━━━━━━━━━━━━━━━━━━━\u001b[0m \u001b[32m267.1/267.1 kB\u001b[0m \u001b[31m23.7 MB/s\u001b[0m eta \u001b[36m0:00:00\u001b[0m\n",
            "\u001b[?25hCollecting docker-pycreds>=0.4.0 (from wandb)\n",
            "  Downloading docker_pycreds-0.4.0-py2.py3-none-any.whl (9.0 kB)\n",
            "Requirement already satisfied: PyYAML in /usr/local/lib/python3.10/dist-packages (from wandb) (6.0.1)\n",
            "Collecting setproctitle (from wandb)\n",
            "  Downloading setproctitle-1.3.3-cp310-cp310-manylinux_2_5_x86_64.manylinux1_x86_64.manylinux_2_17_x86_64.manylinux2014_x86_64.whl (30 kB)\n",
            "Requirement already satisfied: setuptools in /usr/local/lib/python3.10/dist-packages (from wandb) (67.7.2)\n",
            "Requirement already satisfied: appdirs>=1.4.3 in /usr/local/lib/python3.10/dist-packages (from wandb) (1.4.4)\n",
            "Requirement already satisfied: protobuf!=4.21.0,<5,>=3.19.0 in /usr/local/lib/python3.10/dist-packages (from wandb) (3.20.3)\n",
            "Requirement already satisfied: six>=1.4.0 in /usr/local/lib/python3.10/dist-packages (from docker-pycreds>=0.4.0->wandb) (1.16.0)\n",
            "Collecting gitdb<5,>=4.0.1 (from GitPython!=3.1.29,>=1.0.0->wandb)\n",
            "  Downloading gitdb-4.0.11-py3-none-any.whl (62 kB)\n",
            "\u001b[2K     \u001b[90m━━━━━━━━━━━━━━━━━━━━━━━━━━━━━━━━━━━━━━━━\u001b[0m \u001b[32m62.7/62.7 kB\u001b[0m \u001b[31m7.3 MB/s\u001b[0m eta \u001b[36m0:00:00\u001b[0m\n",
            "\u001b[?25hRequirement already satisfied: charset-normalizer<4,>=2 in /usr/local/lib/python3.10/dist-packages (from requests<3,>=2.0.0->wandb) (3.3.2)\n",
            "Requirement already satisfied: idna<4,>=2.5 in /usr/local/lib/python3.10/dist-packages (from requests<3,>=2.0.0->wandb) (3.6)\n",
            "Requirement already satisfied: urllib3<3,>=1.21.1 in /usr/local/lib/python3.10/dist-packages (from requests<3,>=2.0.0->wandb) (2.0.7)\n",
            "Requirement already satisfied: certifi>=2017.4.17 in /usr/local/lib/python3.10/dist-packages (from requests<3,>=2.0.0->wandb) (2024.2.2)\n",
            "Collecting smmap<6,>=3.0.1 (from gitdb<5,>=4.0.1->GitPython!=3.1.29,>=1.0.0->wandb)\n",
            "  Downloading smmap-5.0.1-py3-none-any.whl (24 kB)\n",
            "Installing collected packages: smmap, setproctitle, sentry-sdk, docker-pycreds, gitdb, GitPython, wandb\n",
            "Successfully installed GitPython-3.1.43 docker-pycreds-0.4.0 gitdb-4.0.11 sentry-sdk-1.45.0 setproctitle-1.3.3 smmap-5.0.1 wandb-0.16.6\n",
            "Collecting dask_jobqueue\n",
            "  Downloading dask_jobqueue-0.8.5-py2.py3-none-any.whl (47 kB)\n",
            "\u001b[2K     \u001b[90m━━━━━━━━━━━━━━━━━━━━━━━━━━━━━━━━━━━━━━━━\u001b[0m \u001b[32m47.7/47.7 kB\u001b[0m \u001b[31m1.9 MB/s\u001b[0m eta \u001b[36m0:00:00\u001b[0m\n",
            "\u001b[?25hRequirement already satisfied: dask>=2022.02.0 in /usr/local/lib/python3.10/dist-packages (from dask_jobqueue) (2023.8.1)\n",
            "Requirement already satisfied: distributed>=2022.02.0 in /usr/local/lib/python3.10/dist-packages (from dask_jobqueue) (2023.8.1)\n",
            "Requirement already satisfied: click>=8.0 in /usr/local/lib/python3.10/dist-packages (from dask>=2022.02.0->dask_jobqueue) (8.1.7)\n",
            "Requirement already satisfied: cloudpickle>=1.5.0 in /usr/local/lib/python3.10/dist-packages (from dask>=2022.02.0->dask_jobqueue) (2.2.1)\n",
            "Requirement already satisfied: fsspec>=2021.09.0 in /usr/local/lib/python3.10/dist-packages (from dask>=2022.02.0->dask_jobqueue) (2023.6.0)\n",
            "Requirement already satisfied: packaging>=20.0 in /usr/local/lib/python3.10/dist-packages (from dask>=2022.02.0->dask_jobqueue) (24.0)\n",
            "Requirement already satisfied: partd>=1.2.0 in /usr/local/lib/python3.10/dist-packages (from dask>=2022.02.0->dask_jobqueue) (1.4.1)\n",
            "Requirement already satisfied: pyyaml>=5.3.1 in /usr/local/lib/python3.10/dist-packages (from dask>=2022.02.0->dask_jobqueue) (6.0.1)\n",
            "Requirement already satisfied: toolz>=0.10.0 in /usr/local/lib/python3.10/dist-packages (from dask>=2022.02.0->dask_jobqueue) (0.12.1)\n",
            "Requirement already satisfied: importlib-metadata>=4.13.0 in /usr/local/lib/python3.10/dist-packages (from dask>=2022.02.0->dask_jobqueue) (7.1.0)\n",
            "Requirement already satisfied: jinja2>=2.10.3 in /usr/local/lib/python3.10/dist-packages (from distributed>=2022.02.0->dask_jobqueue) (3.1.3)\n",
            "Requirement already satisfied: locket>=1.0.0 in /usr/local/lib/python3.10/dist-packages (from distributed>=2022.02.0->dask_jobqueue) (1.0.0)\n",
            "Requirement already satisfied: msgpack>=1.0.0 in /usr/local/lib/python3.10/dist-packages (from distributed>=2022.02.0->dask_jobqueue) (1.0.8)\n",
            "Requirement already satisfied: psutil>=5.7.2 in /usr/local/lib/python3.10/dist-packages (from distributed>=2022.02.0->dask_jobqueue) (5.9.5)\n",
            "Requirement already satisfied: sortedcontainers>=2.0.5 in /usr/local/lib/python3.10/dist-packages (from distributed>=2022.02.0->dask_jobqueue) (2.4.0)\n",
            "Requirement already satisfied: tblib>=1.6.0 in /usr/local/lib/python3.10/dist-packages (from distributed>=2022.02.0->dask_jobqueue) (3.0.0)\n",
            "Requirement already satisfied: tornado>=6.0.4 in /usr/local/lib/python3.10/dist-packages (from distributed>=2022.02.0->dask_jobqueue) (6.3.3)\n",
            "Requirement already satisfied: urllib3>=1.24.3 in /usr/local/lib/python3.10/dist-packages (from distributed>=2022.02.0->dask_jobqueue) (2.0.7)\n",
            "Requirement already satisfied: zict>=2.2.0 in /usr/local/lib/python3.10/dist-packages (from distributed>=2022.02.0->dask_jobqueue) (3.0.0)\n",
            "Requirement already satisfied: zipp>=0.5 in /usr/local/lib/python3.10/dist-packages (from importlib-metadata>=4.13.0->dask>=2022.02.0->dask_jobqueue) (3.18.1)\n",
            "Requirement already satisfied: MarkupSafe>=2.0 in /usr/local/lib/python3.10/dist-packages (from jinja2>=2.10.3->distributed>=2022.02.0->dask_jobqueue) (2.1.5)\n",
            "Installing collected packages: dask_jobqueue\n",
            "Successfully installed dask_jobqueue-0.8.5\n",
            "Collecting torchmetrics\n",
            "  Downloading torchmetrics-1.3.2-py3-none-any.whl (841 kB)\n",
            "\u001b[2K     \u001b[90m━━━━━━━━━━━━━━━━━━━━━━━━━━━━━━━━━━━━━━━━\u001b[0m \u001b[32m841.5/841.5 kB\u001b[0m \u001b[31m12.7 MB/s\u001b[0m eta \u001b[36m0:00:00\u001b[0m\n",
            "\u001b[?25hRequirement already satisfied: numpy>1.20.0 in /usr/local/lib/python3.10/dist-packages (from torchmetrics) (1.25.2)\n",
            "Requirement already satisfied: packaging>17.1 in /usr/local/lib/python3.10/dist-packages (from torchmetrics) (24.0)\n",
            "Requirement already satisfied: torch>=1.10.0 in /usr/local/lib/python3.10/dist-packages (from torchmetrics) (2.2.1+cu121)\n",
            "Collecting lightning-utilities>=0.8.0 (from torchmetrics)\n",
            "  Downloading lightning_utilities-0.11.2-py3-none-any.whl (26 kB)\n",
            "Requirement already satisfied: setuptools in /usr/local/lib/python3.10/dist-packages (from lightning-utilities>=0.8.0->torchmetrics) (67.7.2)\n",
            "Requirement already satisfied: typing-extensions in /usr/local/lib/python3.10/dist-packages (from lightning-utilities>=0.8.0->torchmetrics) (4.11.0)\n",
            "Requirement already satisfied: filelock in /usr/local/lib/python3.10/dist-packages (from torch>=1.10.0->torchmetrics) (3.13.4)\n",
            "Requirement already satisfied: sympy in /usr/local/lib/python3.10/dist-packages (from torch>=1.10.0->torchmetrics) (1.12)\n",
            "Requirement already satisfied: networkx in /usr/local/lib/python3.10/dist-packages (from torch>=1.10.0->torchmetrics) (3.3)\n",
            "Requirement already satisfied: jinja2 in /usr/local/lib/python3.10/dist-packages (from torch>=1.10.0->torchmetrics) (3.1.3)\n",
            "Requirement already satisfied: fsspec in /usr/local/lib/python3.10/dist-packages (from torch>=1.10.0->torchmetrics) (2023.6.0)\n",
            "Requirement already satisfied: nvidia-cuda-nvrtc-cu12==12.1.105 in /usr/local/lib/python3.10/dist-packages (from torch>=1.10.0->torchmetrics) (12.1.105)\n",
            "Requirement already satisfied: nvidia-cuda-runtime-cu12==12.1.105 in /usr/local/lib/python3.10/dist-packages (from torch>=1.10.0->torchmetrics) (12.1.105)\n",
            "Requirement already satisfied: nvidia-cuda-cupti-cu12==12.1.105 in /usr/local/lib/python3.10/dist-packages (from torch>=1.10.0->torchmetrics) (12.1.105)\n",
            "Requirement already satisfied: nvidia-cudnn-cu12==8.9.2.26 in /usr/local/lib/python3.10/dist-packages (from torch>=1.10.0->torchmetrics) (8.9.2.26)\n",
            "Requirement already satisfied: nvidia-cublas-cu12==12.1.3.1 in /usr/local/lib/python3.10/dist-packages (from torch>=1.10.0->torchmetrics) (12.1.3.1)\n",
            "Requirement already satisfied: nvidia-cufft-cu12==11.0.2.54 in /usr/local/lib/python3.10/dist-packages (from torch>=1.10.0->torchmetrics) (11.0.2.54)\n",
            "Requirement already satisfied: nvidia-curand-cu12==10.3.2.106 in /usr/local/lib/python3.10/dist-packages (from torch>=1.10.0->torchmetrics) (10.3.2.106)\n",
            "Requirement already satisfied: nvidia-cusolver-cu12==11.4.5.107 in /usr/local/lib/python3.10/dist-packages (from torch>=1.10.0->torchmetrics) (11.4.5.107)\n",
            "Requirement already satisfied: nvidia-cusparse-cu12==12.1.0.106 in /usr/local/lib/python3.10/dist-packages (from torch>=1.10.0->torchmetrics) (12.1.0.106)\n",
            "Requirement already satisfied: nvidia-nccl-cu12==2.19.3 in /usr/local/lib/python3.10/dist-packages (from torch>=1.10.0->torchmetrics) (2.19.3)\n",
            "Requirement already satisfied: nvidia-nvtx-cu12==12.1.105 in /usr/local/lib/python3.10/dist-packages (from torch>=1.10.0->torchmetrics) (12.1.105)\n",
            "Requirement already satisfied: triton==2.2.0 in /usr/local/lib/python3.10/dist-packages (from torch>=1.10.0->torchmetrics) (2.2.0)\n",
            "Requirement already satisfied: nvidia-nvjitlink-cu12 in /usr/local/lib/python3.10/dist-packages (from nvidia-cusolver-cu12==11.4.5.107->torch>=1.10.0->torchmetrics) (12.4.127)\n",
            "Requirement already satisfied: MarkupSafe>=2.0 in /usr/local/lib/python3.10/dist-packages (from jinja2->torch>=1.10.0->torchmetrics) (2.1.5)\n",
            "Requirement already satisfied: mpmath>=0.19 in /usr/local/lib/python3.10/dist-packages (from sympy->torch>=1.10.0->torchmetrics) (1.3.0)\n",
            "Installing collected packages: lightning-utilities, torchmetrics\n",
            "Successfully installed lightning-utilities-0.11.2 torchmetrics-1.3.2\n"
          ]
        }
      ],
      "source": [
        "!pip install torch_geometric\n",
        "!pip install --upgrade rich\n",
        "!pip install opacus\n",
        "!pip install wandb\n",
        "!pip install dask_jobqueue\n",
        "!pip install torchmetrics"
      ]
    },
    {
      "cell_type": "code",
      "execution_count": null,
      "metadata": {
        "id": "NfH7944DCuck"
      },
      "outputs": [],
      "source": []
    },
    {
      "cell_type": "code",
      "execution_count": null,
      "metadata": {
        "colab": {
          "base_uri": "https://localhost:8080/"
        },
        "id": "4i3iZidRXGaT",
        "outputId": "262aa265-c932-4313-fe4b-aa719b6cfc89"
      },
      "outputs": [
        {
          "name": "stdout",
          "output_type": "stream",
          "text": [
            "Collecting class_resolver\n",
            "  Downloading class_resolver-0.4.3-py3-none-any.whl (25 kB)\n",
            "Installing collected packages: class_resolver\n",
            "Successfully installed class_resolver-0.4.3\n"
          ]
        }
      ],
      "source": [
        "!pip install class_resolver"
      ]
    },
    {
      "cell_type": "markdown",
      "metadata": {
        "id": "l_fSnvu5MEfI"
      },
      "source": [
        "Writing a class to download and process the Facebook dataset, which is seemingly the smallest sized-dataset upon which this analysis was performed :\n"
      ]
    },
    {
      "cell_type": "code",
      "execution_count": null,
      "metadata": {
        "id": "63nai1wMLqIo"
      },
      "outputs": [],
      "source": [
        "import os\n",
        "import ssl\n",
        "import torch\n",
        "import pandas as pd\n",
        "from scipy.io import loadmat\n",
        "from sklearn.preprocessing import LabelEncoder\n",
        "from torch_geometric.utils import subgraph, from_scipy_sparse_matrix\n",
        "from torch_geometric.data import Data, InMemoryDataset, download_url\n",
        "\n",
        "\n",
        "class Facebook(InMemoryDataset):\n",
        "    url = 'https://github.com/sisaman/pyg-datasets/raw/main/datasets/facebook100/'\n",
        "    targets = ['status', 'gender', 'major', 'minor', 'housing', 'year']\n",
        "    available_datasets = [\n",
        "        \"Villanova62\", \"UCLA26\", \"Tennessee95\", \"NYU9\", \"Carnegie49\", \"GWU54\", \"USF51\", \"Vanderbilt48\",\n",
        "        \"USC35\", \"Rutgers89\", \"UConn91\", \"MIT8\", \"USFCA72\", \"UChicago30\", \"UIllinois20\", \"UC61\", \"Cal65\",\n",
        "        \"Yale4\", \"Northeastern19\", \"Dartmouth6\", \"Vermont70\", \"Northwestern25\", \"William77\", \"Harvard1\",\n",
        "        \"Princeton12\", \"UC64\", \"Middlebury45\", \"Haverford76\", \"Bingham82\", \"UNC28\", \"Berkeley13\", \"Rochester38\",\n",
        "        \"Swarthmore42\", \"Virginia63\", \"WashU32\", \"Columbia2\", \"NotreDame57\", \"Bucknell39\", \"UVA16\", \"Maine59\",\n",
        "        \"MU78\", \"Simmons81\", \"MSU24\", \"Colgate88\", \"Temple83\", \"Cornell5\", \"Indiana69\", \"Oklahoma97\", \"Michigan23\",\n",
        "        \"BU10\", \"Brown11\", \"Auburn71\", \"FSU53\", \"UGA50\", \"UCF52\", \"Howard90\", \"UCSD34\", \"Vassar85\", \"Tufts18\",\n",
        "        \"UPenn7\", \"Baylor93\", \"UMass92\", \"Bowdoin47\", \"Maryland58\", \"Penn94\", \"Wesleyan43\", \"UC33\",\n",
        "        \"Rice31\", \"UCSC68\", \"Smith60\", \"Caltech36\", \"Hamilton46\", \"Oberlin44\", \"American75\", \"Mich67\",\n",
        "        \"Mississippi66\", \"Williams40\", \"UCSB37\", \"Amherst41\", \"Duke14\", \"Pepperdine86\", \"Wake73\", \"Lehigh96\",\n",
        "        \"Reed98\", \"Tulane29\", \"Texas84\", \"Wellesley22\", \"JMU79\", \"Santa74\", \"Wisconsin87\", \"Stanford3\",\n",
        "        \"Texas80\", \"UF21\", \"JohnsHopkins55\", \"Syracuse56\", \"BC17\", \"Georgetown15\", \"Trinity100\", \"Brandeis99\", \"Emory27\",\n",
        "    ]\n",
        "\n",
        "    def __init__(self, root: str, name: str, target='status', transform=None, pre_transform=None):\n",
        "        self.name = name\n",
        "        self.target = target\n",
        "        super().__init__(root, transform, pre_transform)\n",
        "        self.data, self.slices = torch.load(self.processed_paths[0])\n",
        "\n",
        "    @property\n",
        "    def raw_dir(self) -> str:\n",
        "        return os.path.join(self.root, self.name, 'raw')\n",
        "\n",
        "    @property\n",
        "    def raw_file_names(self) -> str:\n",
        "        return self.name + '.mat'\n",
        "\n",
        "    @property\n",
        "    def processed_dir(self) -> str:\n",
        "        return os.path.join(self.root, self.name, 'processed')\n",
        "\n",
        "    @property\n",
        "    def processed_file_names(self) -> str:\n",
        "        return f'data-{self.name}-{self.target}.pt'\n",
        "\n",
        "    def download(self):\n",
        "        context = ssl._create_default_https_context\n",
        "        ssl._create_default_https_context = ssl._create_unverified_context\n",
        "        download_url(f'{self.url}/{self.raw_file_names}', self.raw_dir)\n",
        "        ssl._create_default_https_context = context\n",
        "\n",
        "    def process(self):\n",
        "        mat = loadmat(os.path.join(self.raw_dir, self.raw_file_names))\n",
        "        features = pd.DataFrame(mat['local_info'][:, :-1], columns=self.targets)\n",
        "        y = torch.from_numpy(LabelEncoder().fit_transform(features[self.target]))\n",
        "        if 0 in features[self.target].values:\n",
        "            y = y - 1\n",
        "\n",
        "        x = features.drop(columns=self.target).replace({0: None})\n",
        "        x = torch.tensor(pd.get_dummies(x).values, dtype=torch.float)\n",
        "        edge_index = from_scipy_sparse_matrix(mat['A'])[0]\n",
        "\n",
        "        # removed unlabled nodes\n",
        "        subset = y >= 0\n",
        "        edge_index, _ = subgraph(subset, edge_index, relabel_nodes=True, num_nodes=len(y))\n",
        "        x = x[subset]\n",
        "        y = y[subset]\n",
        "\n",
        "        data = Data(x=x, edge_index=edge_index, y=y)\n",
        "\n",
        "        if self.pre_transform is not None:\n",
        "            data = self.pre_transform(data)\n",
        "\n",
        "        torch.save(self.collate([data]), self.processed_paths[0])\n",
        "\n",
        "    def __repr__(self) -> str:\n",
        "        return f'Facebook-{self.name}()'\n",
        "\n",
        "\n",
        "class FB100(InMemoryDataset):\n",
        "    url = 'https://github.com/sisaman/pyg-datasets/raw/main/datasets/facebook100/'\n",
        "    targets = ['status', 'gender', 'major', 'minor', 'housing', 'year']\n",
        "    available_datasets = [\n",
        "        \"Villanova62\", \"UCLA26\", \"Tennessee95\", \"NYU9\", \"Carnegie49\", \"GWU54\", \"USF51\", \"Vanderbilt48\",\n",
        "        \"USC35\", \"Rutgers89\", \"UConn91\", \"MIT8\", \"USFCA72\", \"UChicago30\", \"UIllinois20\", \"UC61\", \"Cal65\",\n",
        "        \"Yale4\", \"Northeastern19\", \"Dartmouth6\", \"Vermont70\", \"Northwestern25\", \"William77\", \"Harvard1\",\n",
        "        \"Princeton12\", \"UC64\", \"Middlebury45\", \"Haverford76\", \"Bingham82\", \"UNC28\", \"Berkeley13\", \"Rochester38\",\n",
        "        \"Swarthmore42\", \"Virginia63\", \"WashU32\", \"Columbia2\", \"NotreDame57\", \"Bucknell39\", \"UVA16\", \"Maine59\",\n",
        "        \"MU78\", \"Simmons81\", \"MSU24\", \"Colgate88\", \"Temple83\", \"Cornell5\", \"Indiana69\", \"Oklahoma97\", \"Michigan23\",\n",
        "        \"BU10\", \"Brown11\", \"Auburn71\", \"FSU53\", \"UGA50\", \"UCF52\", \"Howard90\", \"UCSD34\", \"Vassar85\", \"Tufts18\",\n",
        "        \"UPenn7\", \"Baylor93\", \"UMass92\", \"Bowdoin47\", \"Maryland58\", \"Penn94\", \"Wesleyan43\", \"UC33\",\n",
        "        \"Rice31\", \"UCSC68\", \"Smith60\", \"Caltech36\", \"Hamilton46\", \"Oberlin44\", \"American75\", \"Mich67\",\n",
        "        \"Mississippi66\", \"Williams40\", \"UCSB37\", \"Amherst41\", \"Duke14\", \"Pepperdine86\", \"Wake73\", \"Lehigh96\",\n",
        "        \"Reed98\", \"Tulane29\", \"Texas84\", \"Wellesley22\", \"JMU79\", \"Santa74\", \"Wisconsin87\", \"Stanford3\",\n",
        "        \"Texas80\", \"UF21\", \"JohnsHopkins55\", \"Syracuse56\", \"BC17\", \"Georgetown15\", \"Trinity100\", \"Brandeis99\", \"Emory27\",\n",
        "    ]\n",
        "\n",
        "    def __init__(self, root: str, target='status', transform=None, pre_transform=None):\n",
        "        self.target = target\n",
        "        super().__init__(root, transform, pre_transform)\n",
        "        self.data, self.slices = torch.load(self.processed_paths[0])\n",
        "\n",
        "    @property\n",
        "    def raw_dir(self) -> str:\n",
        "        return os.path.join(self.root, 'raw')\n",
        "\n",
        "    @property\n",
        "    def raw_file_names(self) -> list[str]:\n",
        "        return [f'{name}.mat' for name in self.available_datasets]\n",
        "\n",
        "    @property\n",
        "    def processed_dir(self) -> str:\n",
        "        return os.path.join(self.root, 'processed')\n",
        "\n",
        "    @property\n",
        "    def processed_file_names(self) -> str:\n",
        "        return f'data-{self.target}.pt'\n",
        "\n",
        "    def download(self):\n",
        "        context = ssl._create_default_https_context\n",
        "        ssl._create_default_https_context = ssl._create_unverified_context\n",
        "        for name in self.raw_file_names:\n",
        "            download_url(f'{self.url}/{name}', self.raw_dir)\n",
        "        ssl._create_default_https_context = context\n",
        "\n",
        "    def process(self):\n",
        "        features = pd.DataFrame()\n",
        "        edge_index = torch.tensor([], dtype=torch.long)\n",
        "\n",
        "        for i, raw_file_name in enumerate(self.raw_file_names):\n",
        "            mat = loadmat(os.path.join(self.raw_dir, raw_file_name))\n",
        "            mat_features = pd.DataFrame(mat['local_info'][:, :-1], columns=self.targets)\n",
        "            mat_edge_index = from_scipy_sparse_matrix(mat['A'])[0] + len(features)\n",
        "            if i < 75:\n",
        "                mat_features['split'] = 'train'\n",
        "            elif i < 85:\n",
        "                mat_features['split'] = 'val'\n",
        "            else:\n",
        "                mat_features['split'] = 'test'\n",
        "            features = pd.concat([features, mat_features], ignore_index=True)\n",
        "            edge_index = torch.cat([edge_index, mat_edge_index], dim=1)\n",
        "\n",
        "        y = torch.from_numpy(LabelEncoder().fit_transform(features[self.target]))\n",
        "        if 0 in features[self.target].values:\n",
        "            y = y - 1\n",
        "\n",
        "        x = features.drop(columns=[self.target, 'minor', 'housing', 'split']).replace({0: None})\n",
        "        x = torch.tensor(pd.get_dummies(x).values, dtype=torch.float)\n",
        "\n",
        "        train_mask = torch.from_numpy((features['split'] == 'train').values)\n",
        "        val_mask = torch.from_numpy((features['split'] == 'val').values)\n",
        "        test_mask = torch.from_numpy((features['split'] == 'test').values)\n",
        "\n",
        "        # removed unlabled nodes\n",
        "        subset = y >= 0\n",
        "        edge_index, _ = subgraph(subset, edge_index, relabel_nodes=True, num_nodes=len(y))\n",
        "        x = x[subset]\n",
        "        y = y[subset]\n",
        "        train_mask = train_mask[subset]\n",
        "        val_mask = val_mask[subset]\n",
        "        test_mask = test_mask[subset]\n",
        "\n",
        "        data = Data(x=x, edge_index=edge_index, y=y, train_mask=train_mask, val_mask=val_mask, test_mask=test_mask)\n",
        "\n",
        "        if self.pre_transform is not None:\n",
        "            data = self.pre_transform(data)\n",
        "\n",
        "        torch.save(self.collate([data]), self.processed_paths[0])\n",
        "\n",
        "    def __repr__(self) -> str:\n",
        "        return f'Facebook-100()'"
      ]
    },
    {
      "cell_type": "markdown",
      "metadata": {
        "id": "CJMjLAMTewTT"
      },
      "source": [
        "### Reddit dataset is a pre-loaded dataset in `PyTorch Geometric`."
      ]
    },
    {
      "cell_type": "code",
      "execution_count": null,
      "metadata": {
        "id": "TL5H7DhZMsrq"
      },
      "outputs": [],
      "source": [
        "from torch_geometric.datasets import Reddit"
      ]
    },
    {
      "cell_type": "markdown",
      "metadata": {
        "id": "Q7q40jnRMtVD"
      },
      "source": [
        "Adding some helper functions, as well as a Console to push the extracted data entities onto,\n",
        "\n",
        "* In the following section, we define a helper function that converts dictionary data structure to a table format for viewing purposes."
      ]
    },
    {
      "cell_type": "code",
      "execution_count": null,
      "metadata": {
        "id": "cV4m75eMMea_"
      },
      "outputs": [],
      "source": [
        "import math\n",
        "from typing import Callable, Optional\n",
        "import numpy as np\n",
        "from numpy.typing import ArrayLike, NDArray\n",
        "from rich.table import Table\n",
        "from rich.highlighter import ReprHighlighter\n",
        "from rich import box\n",
        "from tabulate import tabulate\n",
        "\n",
        "\n",
        "def dict2table(input_dict: dict, num_cols: int = 4, title: Optional[str] = None) -> Table:\n",
        "    num_items = len(input_dict)\n",
        "    num_rows = math.ceil(num_items / num_cols)\n",
        "    col = 0\n",
        "    data = {}\n",
        "    keys = []\n",
        "    vals = []\n",
        "\n",
        "    for i, (key, val) in enumerate(input_dict.items()):\n",
        "        keys.append(f'{key}:')\n",
        "\n",
        "        vals.append(val)\n",
        "        if (i + 1) % num_rows == 0:\n",
        "            data[col] = keys\n",
        "            data[col+1] = vals\n",
        "            keys = []\n",
        "            vals = []\n",
        "            col += 2\n",
        "\n",
        "    data[col] = keys\n",
        "    data[col+1] = vals\n",
        "\n",
        "    highlighter = ReprHighlighter()\n",
        "    message = tabulate(data, tablefmt='plain')\n",
        "    table = Table(title=title, show_header=False, box=box.HORIZONTALS)\n",
        "    table.add_row(highlighter(message))\n",
        "    return table"
      ]
    },
    {
      "cell_type": "code",
      "execution_count": null,
      "metadata": {
        "id": "26sAkzJEM02_"
      },
      "outputs": [],
      "source": [
        "from rich.console import Console as RichConsole\n",
        "from rich.logging import RichHandler\n",
        "from rich.spinner import Spinner\n",
        "from rich.table import Table\n",
        "from rich.status import Status\n",
        "from rich.live import Live\n",
        "from rich._log_render import LogRender\n",
        "from time import time\n",
        "import logging\n",
        "\n",
        "\n",
        "class LogStatus(Status):\n",
        "    def __init__(self,\n",
        "        status,\n",
        "        console: RichConsole,\n",
        "        level: int = logging.INFO,\n",
        "        enabled: bool = True,\n",
        "        speed: float = 1.0,\n",
        "        refresh_per_second: float = 12.5,\n",
        "    ):\n",
        "        super().__init__(status,\n",
        "            console=console,\n",
        "            spinner='simpleDots',\n",
        "            speed=speed,\n",
        "            refresh_per_second=refresh_per_second\n",
        "        )\n",
        "\n",
        "        self.status = status\n",
        "        self.level = level\n",
        "        self.enabled = enabled\n",
        "        spinner = Spinner('simpleDots', style='status.spinner', speed=speed)\n",
        "        record = logging.LogRecord(name=None, level=level, pathname=None, lineno=None, msg=None, args=None, exc_info=None)\n",
        "        handler = RichHandler(console=console)\n",
        "        table = Table.grid()\n",
        "        table.add_row(self.status, spinner)\n",
        "\n",
        "        self._spinner = LogRender(show_level=True, time_format='[%X]')(\n",
        "            console=console,\n",
        "            level=handler.get_level_text(record),\n",
        "            renderables=[table]\n",
        "        )\n",
        "        self._live = Live(\n",
        "            self.renderable,\n",
        "            console=console,\n",
        "            refresh_per_second=refresh_per_second,\n",
        "            transient=True,\n",
        "        )\n",
        "\n",
        "    def __enter__(self):\n",
        "        if self.enabled:\n",
        "            self._start_time = time()\n",
        "            return super().__enter__()\n",
        "\n",
        "    def __exit__(self, exc_type, exc_val, exc_tb):\n",
        "        if self.enabled:\n",
        "            super().__exit__(exc_type, exc_val, exc_tb)\n",
        "            self._end_time = time()\n",
        "            self.console.log(f'{self.status}...done in {self._end_time - self._start_time:.2f} s', level=self.level)"
      ]
    },
    {
      "cell_type": "code",
      "execution_count": null,
      "metadata": {
        "id": "4IADowr3M7xf"
      },
      "outputs": [],
      "source": [
        "import os\n",
        "import logging\n",
        "from rich.console import Console as RichConsole\n",
        "from rich.logging import RichHandler\n",
        "from typing import Optional, Union\n",
        "from rich.console import JustifyMethod, NewLine\n",
        "from rich.scope import render_scope\n",
        "from rich.segment import Segment\n",
        "from rich.styled import Styled\n",
        "from rich.style import Style\n",
        "\n",
        "class Console(RichConsole):\n",
        "    CRITICAL = logging.CRITICAL\n",
        "    FATAL = logging.FATAL\n",
        "    ERROR = logging.ERROR\n",
        "    WARNING = logging.WARNING\n",
        "    WARN = logging.WARN\n",
        "    INFO = logging.INFO\n",
        "    DEBUG = logging.DEBUG\n",
        "    NOTSET = logging.NOTSET\n",
        "\n",
        "    def __init__(self, *args, log_level: int = INFO, **kwrags):\n",
        "        super().__init__(*args, **kwrags)\n",
        "        self.log_level = log_level\n",
        "\n",
        "    def status (self, status: str, level: int=INFO) -> LogStatus:\n",
        "        return LogStatus(status, console=self, level=level, enabled=level >= self.log_level)\n",
        "\n",
        "    def log(\n",
        "        self,\n",
        "        *objects,\n",
        "        level: int = logging.INFO,\n",
        "        sep: str = \" \",\n",
        "        end: str = \"\\n\",\n",
        "        style: Union[str, Style] = None,\n",
        "        justify: Optional[JustifyMethod] = None,\n",
        "        emoji: Optional[bool] = None,\n",
        "        markup: Optional[bool] = None,\n",
        "        highlight: Optional[bool] = None,\n",
        "        log_locals: bool = False,\n",
        "        _stack_offset: int = 2,\n",
        "    ) -> None:\n",
        "        \"\"\"Log rich content to the terminal.\n",
        "        Args:\n",
        "            objects (positional args): Objects to log to the terminal.\n",
        "            sep (str, optional): String to write between print data. Defaults to \" \".\n",
        "            end (str, optional): String to write at end of print data. Defaults to \"\\\\\\\\n\".\n",
        "            style (Union[str, Style], optional): A style to apply to output. Defaults to None.\n",
        "            justify (str, optional): One of \"left\", \"right\", \"center\", or \"full\". Defaults to ``None``.\n",
        "            emoji (Optional[bool], optional): Enable emoji code, or ``None`` to use console default. Defaults to None.\n",
        "            markup (Optional[bool], optional): Enable markup, or ``None`` to use console default. Defaults to None.\n",
        "            highlight (Optional[bool], optional): Enable automatic highlighting, or ``None`` to use console default. Defaults to None.\n",
        "            log_locals (bool, optional): Boolean to enable logging of locals where ``log()``\n",
        "                was called. Defaults to False.\n",
        "            _stack_offset (int, optional): Offset of caller from end of call stack. Defaults to 1.\n",
        "        \"\"\"\n",
        "        if level < self.log_level:\n",
        "            return\n",
        "\n",
        "        if not objects:\n",
        "            objects = (NewLine(),)\n",
        "\n",
        "        render_hooks = self._render_hooks[:]\n",
        "\n",
        "        with self:\n",
        "            renderables = self._collect_renderables(\n",
        "                objects, sep, end, justify=justify, emoji=emoji, markup=markup, highlight=highlight\n",
        "            )\n",
        "            if style is not None:\n",
        "                renderables = [Styled(renderable, style) for renderable in renderables]\n",
        "\n",
        "            filename, line_no, locals = self._caller_frame_info(_stack_offset)\n",
        "            link_path = None if filename.startswith(\"<\") else os.path.abspath(filename)\n",
        "            path = filename.rpartition(os.sep)[-1]\n",
        "            if log_locals:\n",
        "                locals_map = {key: value for key, value in locals.items() if not key.startswith(\"__\")}\n",
        "                renderables.append(render_scope(locals_map, title=\"[i]locals\"))\n",
        "\n",
        "            record = logging.LogRecord(name=None, level=level, pathname=None, lineno=None, msg=None, args=None, exc_info=None)\n",
        "            handler = RichHandler(console=self)\n",
        "            self._log_render.show_level = True\n",
        "\n",
        "            renderables = [\n",
        "                self._log_render(\n",
        "                    self,\n",
        "                    renderables,\n",
        "                    level=handler.get_level_text(record),\n",
        "                    log_time=self.get_datetime(),\n",
        "                    path=path,\n",
        "                    line_no=line_no,\n",
        "                    link_path=link_path,\n",
        "                )\n",
        "            ]\n",
        "            for hook in render_hooks:\n",
        "                renderables = hook.process_renderables(renderables)\n",
        "            new_segments = []\n",
        "            extend = new_segments.extend\n",
        "            render = self.render\n",
        "            render_options = self.options\n",
        "            for renderable in renderables:\n",
        "                extend(render(renderable, render_options))\n",
        "            buffer_extend = self._buffer.extend\n",
        "            for line in Segment.split_and_crop_lines(new_segments, self.width, pad=False):\n",
        "                buffer_extend(line)\n",
        "\n",
        "    def debug(self, *args, **kwargs):\n",
        "        self.log(*args, level=self.DEBUG, **kwargs)\n",
        "\n",
        "    def info(self, *args, **kwargs):\n",
        "        self.log(*args, level=self.INFO, **kwargs)\n",
        "\n",
        "    def warning(self, *args, **kwargs):\n",
        "        self.log(*args, level=self.WARNING, **kwargs)\n",
        "\n",
        "    def error(self, *args, **kwargs):\n",
        "        self.log(*args, level=self.ERROR, **kwargs)"
      ]
    },
    {
      "cell_type": "markdown",
      "metadata": {
        "id": "mcHOoxC4NYIa"
      },
      "source": [
        "Writing functions to perform data-preprocessing and filtering."
      ]
    },
    {
      "cell_type": "markdown",
      "metadata": {
        "id": "4xDuHUoSNcyZ"
      },
      "source": [
        "The following class acts upon the dataset, selecting the entries such that we specify the minimum clount of the class to be retained and also allows us to remove unlabeled data from the dataset."
      ]
    },
    {
      "cell_type": "code",
      "execution_count": null,
      "metadata": {
        "id": "7IcdVMl5NXyw"
      },
      "outputs": [],
      "source": [
        "import torch\n",
        "import torch.nn.functional as F\n",
        "from torch_geometric.transforms import BaseTransform\n",
        "from torch_geometric.data import Data\n",
        "\n",
        "\n",
        "class FilterClassByCount(BaseTransform):\n",
        "    def __init__(self, min_count: int, remove_unlabeled=False):\n",
        "        self.min_count = min_count\n",
        "        self.remove_unlabeled = remove_unlabeled\n",
        "\n",
        "    def __call__(self, data: Data) -> Data:\n",
        "        assert hasattr(data, 'y')\n",
        "\n",
        "        y: torch.Tensor = F.one_hot(data.y)\n",
        "        counts = y.sum(dim=0)\n",
        "        y = y[:, counts >= self.min_count]\n",
        "        mask = y.sum(dim=1).bool()        # nodes to keep\n",
        "        data.y = y.argmax(dim=1)\n",
        "\n",
        "        if self.remove_unlabeled:\n",
        "            data = data.subgraph(mask)\n",
        "        else:\n",
        "            data.y[~mask] = -1                # set filtered nodes as unlabeled\n",
        "            if hasattr(data, 'train_mask'):\n",
        "                data.train_mask = data.train_mask & mask\n",
        "                data.val_mask = data.val_mask & mask\n",
        "                data.test_mask = data.test_mask & mask\n",
        "\n",
        "        return data"
      ]
    },
    {
      "cell_type": "markdown",
      "metadata": {
        "id": "GRK-ml-fOI94"
      },
      "source": [
        "The following class creates a mask for the entire graph, sets its value as TRUE for the nodes connected via edges, and applies this mask onto the graph to filter out the nodes that are not connected to any other node."
      ]
    },
    {
      "cell_type": "code",
      "execution_count": null,
      "metadata": {
        "id": "MhM8uAMEOGTi"
      },
      "outputs": [],
      "source": [
        "from torch_geometric.transforms import BaseTransform\n",
        "from torch_geometric.data import Data\n",
        "\n",
        "\n",
        "class RemoveIsolatedNodes(BaseTransform):\n",
        "    def __call__(self, data: Data) -> Data:\n",
        "        mask = data.y.new_zeros(data.num_nodes, dtype=bool)\n",
        "        mask[data.edge_index[0]] = True\n",
        "        mask[data.edge_index[1]] = True\n",
        "        data = data.subgraph(mask)\n",
        "        return data"
      ]
    },
    {
      "cell_type": "markdown",
      "metadata": {
        "id": "-yBuiG61Oi-D"
      },
      "source": [
        "The following class removes self loops from the graph data structure, if any."
      ]
    },
    {
      "cell_type": "code",
      "execution_count": null,
      "metadata": {
        "id": "du_HnJNsOifH"
      },
      "outputs": [],
      "source": [
        "from torch_geometric.utils import remove_self_loops\n",
        "from torch_geometric.transforms import BaseTransform\n",
        "from torch_geometric.data import Data\n",
        "\n",
        "\n",
        "class RemoveSelfLoops(BaseTransform):\n",
        "    def __call__(self, data: Data) -> Data:\n",
        "        if hasattr(data, 'edge_index') and data.edge_index is not None:\n",
        "            data.edge_index, _ = remove_self_loops(data.edge_index)\n",
        "        if hasattr(data, 'adj_t'):\n",
        "            data.adj_t = data.adj_t.remove_diag()\n",
        "        return data"
      ]
    },
    {
      "cell_type": "markdown",
      "metadata": {
        "id": "3fGUyp0iO03j"
      },
      "source": [
        "Now, for transductive setting, we require that the same graph entity be used for training, testing and validation. Hence, we need to predict nodes' labels, for those nodes that are already existent in the graph structure provided.\n",
        "\n",
        "* Hence, we need to reserve subsets of nodes on the given graph, for training, testing and validation - a purpose for which we create masks.\n",
        "\n",
        "* The following class essentially facilitates the random split of graph data into training, testing and validation sets based on the specified ratios and ensures that each class has a balanced representation in each split."
      ]
    },
    {
      "cell_type": "code",
      "execution_count": null,
      "metadata": {
        "id": "cA8gBVjbOsWX"
      },
      "outputs": [],
      "source": [
        "import torch\n",
        "from torch_geometric.transforms import BaseTransform\n",
        "from torch_geometric.data import Data\n",
        "\n",
        "\n",
        "class RandomDataSplit(BaseTransform):\n",
        "    def __init__(self, num_nodes_per_class, train_ratio=0.7, test_ratio=0.2):\n",
        "        self.num_nodes_per_class = num_nodes_per_class\n",
        "        self.train_ratio = train_ratio\n",
        "        self.test_ratio = test_ratio\n",
        "\n",
        "    def __call__(self, data: Data) -> Data:\n",
        "        y = data.y\n",
        "        num_classes = y.max().item() + 1\n",
        "        num_train_nodes_per_class = int(self.num_nodes_per_class * self.train_ratio)\n",
        "        num_test_nodes_per_class = int(self.num_nodes_per_class * self.test_ratio)\n",
        "\n",
        "        train_mask = torch.zeros_like(y, dtype=torch.bool)\n",
        "        test_mask = torch.zeros_like(y, dtype=torch.bool)\n",
        "        val_mask = torch.zeros_like(y, dtype=torch.bool)\n",
        "\n",
        "        for c in range(num_classes):\n",
        "            idx = (y == c).nonzero(as_tuple=False).view(-1)\n",
        "            num_nodes = idx.size(0)\n",
        "            if num_nodes >= self.num_nodes_per_class:\n",
        "                idx = idx[torch.randperm(idx.size(0))][:self.num_nodes_per_class]\n",
        "                train_mask[idx[:num_train_nodes_per_class]] = True\n",
        "                test_mask[idx[num_train_nodes_per_class:num_train_nodes_per_class + num_test_nodes_per_class]] = True\n",
        "                val_mask[idx[num_train_nodes_per_class + num_test_nodes_per_class:]] = True\n",
        "\n",
        "        data.train_mask = train_mask\n",
        "        data.test_mask = test_mask\n",
        "        data.val_mask = val_mask\n",
        "\n",
        "        return data"
      ]
    },
    {
      "cell_type": "code",
      "execution_count": null,
      "metadata": {
        "id": "sNDM1BrGQfWh"
      },
      "outputs": [],
      "source": [
        "from typing import Annotated, Callable, Literal, Union, get_args, get_origin\n",
        "import inspect\n",
        "from argparse import SUPPRESS, ArgumentParser, ArgumentTypeError, Namespace\n",
        "\n",
        "\n",
        "ArgType = Union[Namespace, dict[str, object]]\n",
        "ArgInfo = dict[str, object]"
      ]
    },
    {
      "cell_type": "code",
      "execution_count": null,
      "metadata": {
        "id": "eyEgCuafMNEh"
      },
      "outputs": [],
      "source": [
        "import os\n",
        "from functools import partial\n",
        "from typing import Annotated\n",
        "import torch\n",
        "from torch_geometric.data import Data\n",
        "from torch_geometric.datasets import Reddit\n",
        "from torch_geometric.transforms import Compose, ToSparseTensor, RandomNodeSplit\n",
        "\n",
        "def load_wenet(root: str, transform=None) -> Data:\n",
        "    data = torch.load(os.path.join(root, 'data.pt'))\n",
        "    data = data if transform is None else transform(data)\n",
        "    return [data]\n",
        "\n",
        "\n",
        "class DatasetLoader:\n",
        "    supported_datasets = {\n",
        "        'reddit': partial(Reddit,\n",
        "            pre_transform=Compose([\n",
        "                RandomNodeSplit(num_val=0.1, num_test=0.15),\n",
        "                FilterClassByCount(min_count=10000, remove_unlabeled=True),\n",
        "                RemoveSelfLoops(), RemoveIsolatedNodes(),\n",
        "            ])\n",
        "        ),\n",
        "        'facebook': partial(Facebook, name='UIllinois20', target='year',\n",
        "            pre_transform=Compose([\n",
        "                RandomNodeSplit(num_val=0.1, num_test=0.15),\n",
        "                FilterClassByCount(min_count=1000, remove_unlabeled=True),\n",
        "                RemoveSelfLoops(), RemoveIsolatedNodes(),\n",
        "            ])\n",
        "        ),\n",
        "        'fb-100': partial(FB100, target='year',\n",
        "            pre_transform=Compose([\n",
        "                RandomNodeSplit(num_val=0.1, num_test=0.15),\n",
        "                FilterClassByCount(min_count=100000, remove_unlabeled=True),\n",
        "                RemoveSelfLoops(), RemoveIsolatedNodes(),\n",
        "            ])\n",
        "        )\n",
        "    }\n",
        "    console = Console()\n",
        "\n",
        "    def __init__(self,\n",
        "                 dataset:    Annotated[str, ArgInfo(help='name of the dataset', choices=supported_datasets)] = 'facebook',\n",
        "                 data_dir:   Annotated[str, ArgInfo(help='directory to store the dataset')] = './datasets',\n",
        "                 ):\n",
        "\n",
        "        self.name = dataset\n",
        "        self.data_dir = data_dir\n",
        "        self.console = Console()\n",
        "\n",
        "    def load(self, verbose=False) -> Data:\n",
        "        data = self.supported_datasets[self.name](root=os.path.join(self.data_dir, self.name))[0]\n",
        "        data = ToSparseTensor(layout=torch.sparse_csr)(data)\n",
        "\n",
        "        if verbose:\n",
        "            self.print_stats(data)\n",
        "\n",
        "        return data\n",
        "\n",
        "    def print_stats(self, data: Data):\n",
        "        nodes_degree: torch.Tensor = data.adj_t.to_sparse_coo().sum(dim=1).to_dense() # in degree\n",
        "        baseline: float = (data.y[data.test_mask].unique(return_counts=True)[1].max().item() * 100 / data.test_mask.sum().item())\n",
        "        train_ratio: float = data.train_mask.sum().item() / data.num_nodes * 100\n",
        "        val_ratio: float = data.val_mask.sum().item() / data.num_nodes * 100\n",
        "        test_ratio: float = data.test_mask.sum().item() / data.num_nodes * 100\n",
        "\n",
        "        stat = {\n",
        "            'nodes': f'{data.num_nodes:,}',\n",
        "            'edges': f'{data.num_edges:,}',\n",
        "            'features': f'{data.num_features:,}',\n",
        "            'classes': f'{int(data.y.max() + 1)}',\n",
        "            'mean degree': f'{nodes_degree.mean():.2f}',\n",
        "            'median degree': f'{nodes_degree.median()}',\n",
        "            'train/val/test (%)': f'{train_ratio:.1f}/{val_ratio:.1f}/{test_ratio:.1f}',\n",
        "            'baseline acc (%)': f'{baseline:.2f}'\n",
        "        }\n",
        "\n",
        "        table = dict2table(stat, num_cols=2, title=f'dataset: [yellow]{self.name}[/yellow]')\n",
        "        self.console.info(table)\n",
        "        self.console.print()"
      ]
    },
    {
      "cell_type": "code",
      "execution_count": null,
      "metadata": {
        "colab": {
          "base_uri": "https://localhost:8080/",
          "height": 1000
        },
        "id": "PhARsoqzST_f",
        "outputId": "aeb097dd-90bd-4a67-987d-865da7a36095"
      },
      "outputs": [
        {
          "name": "stderr",
          "output_type": "stream",
          "text": [
            "Downloading https://github.com/sisaman/pyg-datasets/raw/main/datasets/facebook100//Villanova62.mat\n",
            "Downloading https://github.com/sisaman/pyg-datasets/raw/main/datasets/facebook100//UCLA26.mat\n",
            "Downloading https://github.com/sisaman/pyg-datasets/raw/main/datasets/facebook100//Tennessee95.mat\n",
            "Downloading https://github.com/sisaman/pyg-datasets/raw/main/datasets/facebook100//NYU9.mat\n",
            "Downloading https://github.com/sisaman/pyg-datasets/raw/main/datasets/facebook100//Carnegie49.mat\n",
            "Downloading https://github.com/sisaman/pyg-datasets/raw/main/datasets/facebook100//GWU54.mat\n",
            "Downloading https://github.com/sisaman/pyg-datasets/raw/main/datasets/facebook100//USF51.mat\n",
            "Downloading https://github.com/sisaman/pyg-datasets/raw/main/datasets/facebook100//Vanderbilt48.mat\n",
            "Downloading https://github.com/sisaman/pyg-datasets/raw/main/datasets/facebook100//USC35.mat\n",
            "Downloading https://github.com/sisaman/pyg-datasets/raw/main/datasets/facebook100//Rutgers89.mat\n",
            "Downloading https://github.com/sisaman/pyg-datasets/raw/main/datasets/facebook100//UConn91.mat\n",
            "Downloading https://github.com/sisaman/pyg-datasets/raw/main/datasets/facebook100//MIT8.mat\n",
            "Downloading https://github.com/sisaman/pyg-datasets/raw/main/datasets/facebook100//USFCA72.mat\n",
            "Downloading https://github.com/sisaman/pyg-datasets/raw/main/datasets/facebook100//UChicago30.mat\n",
            "Downloading https://github.com/sisaman/pyg-datasets/raw/main/datasets/facebook100//UIllinois20.mat\n",
            "Downloading https://github.com/sisaman/pyg-datasets/raw/main/datasets/facebook100//UC61.mat\n",
            "Downloading https://github.com/sisaman/pyg-datasets/raw/main/datasets/facebook100//Cal65.mat\n",
            "Downloading https://github.com/sisaman/pyg-datasets/raw/main/datasets/facebook100//Yale4.mat\n",
            "Downloading https://github.com/sisaman/pyg-datasets/raw/main/datasets/facebook100//Northeastern19.mat\n",
            "Downloading https://github.com/sisaman/pyg-datasets/raw/main/datasets/facebook100//Dartmouth6.mat\n",
            "Downloading https://github.com/sisaman/pyg-datasets/raw/main/datasets/facebook100//Vermont70.mat\n",
            "Downloading https://github.com/sisaman/pyg-datasets/raw/main/datasets/facebook100//Northwestern25.mat\n",
            "Downloading https://github.com/sisaman/pyg-datasets/raw/main/datasets/facebook100//William77.mat\n",
            "Downloading https://github.com/sisaman/pyg-datasets/raw/main/datasets/facebook100//Harvard1.mat\n",
            "Downloading https://github.com/sisaman/pyg-datasets/raw/main/datasets/facebook100//Princeton12.mat\n",
            "Downloading https://github.com/sisaman/pyg-datasets/raw/main/datasets/facebook100//UC64.mat\n",
            "Downloading https://github.com/sisaman/pyg-datasets/raw/main/datasets/facebook100//Middlebury45.mat\n",
            "Downloading https://github.com/sisaman/pyg-datasets/raw/main/datasets/facebook100//Haverford76.mat\n",
            "Downloading https://github.com/sisaman/pyg-datasets/raw/main/datasets/facebook100//Bingham82.mat\n",
            "Downloading https://github.com/sisaman/pyg-datasets/raw/main/datasets/facebook100//UNC28.mat\n",
            "Downloading https://github.com/sisaman/pyg-datasets/raw/main/datasets/facebook100//Berkeley13.mat\n",
            "Downloading https://github.com/sisaman/pyg-datasets/raw/main/datasets/facebook100//Rochester38.mat\n",
            "Downloading https://github.com/sisaman/pyg-datasets/raw/main/datasets/facebook100//Swarthmore42.mat\n",
            "Downloading https://github.com/sisaman/pyg-datasets/raw/main/datasets/facebook100//Virginia63.mat\n",
            "Downloading https://github.com/sisaman/pyg-datasets/raw/main/datasets/facebook100//WashU32.mat\n",
            "Downloading https://github.com/sisaman/pyg-datasets/raw/main/datasets/facebook100//Columbia2.mat\n",
            "Downloading https://github.com/sisaman/pyg-datasets/raw/main/datasets/facebook100//NotreDame57.mat\n",
            "Downloading https://github.com/sisaman/pyg-datasets/raw/main/datasets/facebook100//Bucknell39.mat\n",
            "Downloading https://github.com/sisaman/pyg-datasets/raw/main/datasets/facebook100//UVA16.mat\n",
            "Downloading https://github.com/sisaman/pyg-datasets/raw/main/datasets/facebook100//Maine59.mat\n",
            "Downloading https://github.com/sisaman/pyg-datasets/raw/main/datasets/facebook100//MU78.mat\n",
            "Downloading https://github.com/sisaman/pyg-datasets/raw/main/datasets/facebook100//Simmons81.mat\n",
            "Downloading https://github.com/sisaman/pyg-datasets/raw/main/datasets/facebook100//MSU24.mat\n",
            "Downloading https://github.com/sisaman/pyg-datasets/raw/main/datasets/facebook100//Colgate88.mat\n",
            "Downloading https://github.com/sisaman/pyg-datasets/raw/main/datasets/facebook100//Temple83.mat\n",
            "Downloading https://github.com/sisaman/pyg-datasets/raw/main/datasets/facebook100//Cornell5.mat\n",
            "Downloading https://github.com/sisaman/pyg-datasets/raw/main/datasets/facebook100//Indiana69.mat\n",
            "Downloading https://github.com/sisaman/pyg-datasets/raw/main/datasets/facebook100//Oklahoma97.mat\n",
            "Downloading https://github.com/sisaman/pyg-datasets/raw/main/datasets/facebook100//Michigan23.mat\n",
            "Downloading https://github.com/sisaman/pyg-datasets/raw/main/datasets/facebook100//BU10.mat\n",
            "Downloading https://github.com/sisaman/pyg-datasets/raw/main/datasets/facebook100//Brown11.mat\n",
            "Downloading https://github.com/sisaman/pyg-datasets/raw/main/datasets/facebook100//Auburn71.mat\n",
            "Downloading https://github.com/sisaman/pyg-datasets/raw/main/datasets/facebook100//FSU53.mat\n",
            "Downloading https://github.com/sisaman/pyg-datasets/raw/main/datasets/facebook100//UGA50.mat\n",
            "Downloading https://github.com/sisaman/pyg-datasets/raw/main/datasets/facebook100//UCF52.mat\n",
            "Downloading https://github.com/sisaman/pyg-datasets/raw/main/datasets/facebook100//Howard90.mat\n",
            "Downloading https://github.com/sisaman/pyg-datasets/raw/main/datasets/facebook100//UCSD34.mat\n",
            "Downloading https://github.com/sisaman/pyg-datasets/raw/main/datasets/facebook100//Vassar85.mat\n",
            "Downloading https://github.com/sisaman/pyg-datasets/raw/main/datasets/facebook100//Tufts18.mat\n",
            "Downloading https://github.com/sisaman/pyg-datasets/raw/main/datasets/facebook100//UPenn7.mat\n",
            "Downloading https://github.com/sisaman/pyg-datasets/raw/main/datasets/facebook100//Baylor93.mat\n",
            "Downloading https://github.com/sisaman/pyg-datasets/raw/main/datasets/facebook100//UMass92.mat\n",
            "Downloading https://github.com/sisaman/pyg-datasets/raw/main/datasets/facebook100//Bowdoin47.mat\n",
            "Downloading https://github.com/sisaman/pyg-datasets/raw/main/datasets/facebook100//Maryland58.mat\n",
            "Downloading https://github.com/sisaman/pyg-datasets/raw/main/datasets/facebook100//Penn94.mat\n",
            "Downloading https://github.com/sisaman/pyg-datasets/raw/main/datasets/facebook100//Wesleyan43.mat\n",
            "Downloading https://github.com/sisaman/pyg-datasets/raw/main/datasets/facebook100//UC33.mat\n",
            "Downloading https://github.com/sisaman/pyg-datasets/raw/main/datasets/facebook100//Rice31.mat\n",
            "Downloading https://github.com/sisaman/pyg-datasets/raw/main/datasets/facebook100//UCSC68.mat\n",
            "Downloading https://github.com/sisaman/pyg-datasets/raw/main/datasets/facebook100//Smith60.mat\n",
            "Downloading https://github.com/sisaman/pyg-datasets/raw/main/datasets/facebook100//Caltech36.mat\n",
            "Downloading https://github.com/sisaman/pyg-datasets/raw/main/datasets/facebook100//Hamilton46.mat\n",
            "Downloading https://github.com/sisaman/pyg-datasets/raw/main/datasets/facebook100//Oberlin44.mat\n",
            "Downloading https://github.com/sisaman/pyg-datasets/raw/main/datasets/facebook100//American75.mat\n",
            "Downloading https://github.com/sisaman/pyg-datasets/raw/main/datasets/facebook100//Mich67.mat\n",
            "Downloading https://github.com/sisaman/pyg-datasets/raw/main/datasets/facebook100//Mississippi66.mat\n",
            "Downloading https://github.com/sisaman/pyg-datasets/raw/main/datasets/facebook100//Williams40.mat\n",
            "Downloading https://github.com/sisaman/pyg-datasets/raw/main/datasets/facebook100//UCSB37.mat\n",
            "Downloading https://github.com/sisaman/pyg-datasets/raw/main/datasets/facebook100//Amherst41.mat\n",
            "Downloading https://github.com/sisaman/pyg-datasets/raw/main/datasets/facebook100//Duke14.mat\n",
            "Downloading https://github.com/sisaman/pyg-datasets/raw/main/datasets/facebook100//Pepperdine86.mat\n",
            "Downloading https://github.com/sisaman/pyg-datasets/raw/main/datasets/facebook100//Wake73.mat\n",
            "Downloading https://github.com/sisaman/pyg-datasets/raw/main/datasets/facebook100//Lehigh96.mat\n",
            "Downloading https://github.com/sisaman/pyg-datasets/raw/main/datasets/facebook100//Reed98.mat\n",
            "Downloading https://github.com/sisaman/pyg-datasets/raw/main/datasets/facebook100//Tulane29.mat\n",
            "Downloading https://github.com/sisaman/pyg-datasets/raw/main/datasets/facebook100//Texas84.mat\n",
            "Downloading https://github.com/sisaman/pyg-datasets/raw/main/datasets/facebook100//Wellesley22.mat\n",
            "Downloading https://github.com/sisaman/pyg-datasets/raw/main/datasets/facebook100//JMU79.mat\n",
            "Downloading https://github.com/sisaman/pyg-datasets/raw/main/datasets/facebook100//Santa74.mat\n",
            "Downloading https://github.com/sisaman/pyg-datasets/raw/main/datasets/facebook100//Wisconsin87.mat\n",
            "Downloading https://github.com/sisaman/pyg-datasets/raw/main/datasets/facebook100//Stanford3.mat\n",
            "Downloading https://github.com/sisaman/pyg-datasets/raw/main/datasets/facebook100//Texas80.mat\n",
            "Downloading https://github.com/sisaman/pyg-datasets/raw/main/datasets/facebook100//UF21.mat\n",
            "Downloading https://github.com/sisaman/pyg-datasets/raw/main/datasets/facebook100//JohnsHopkins55.mat\n",
            "Downloading https://github.com/sisaman/pyg-datasets/raw/main/datasets/facebook100//Syracuse56.mat\n",
            "Downloading https://github.com/sisaman/pyg-datasets/raw/main/datasets/facebook100//BC17.mat\n",
            "Downloading https://github.com/sisaman/pyg-datasets/raw/main/datasets/facebook100//Georgetown15.mat\n",
            "Downloading https://github.com/sisaman/pyg-datasets/raw/main/datasets/facebook100//Trinity100.mat\n",
            "Downloading https://github.com/sisaman/pyg-datasets/raw/main/datasets/facebook100//Brandeis99.mat\n",
            "Downloading https://github.com/sisaman/pyg-datasets/raw/main/datasets/facebook100//Emory27.mat\n",
            "Processing...\n",
            "Done!\n",
            "/usr/local/lib/python3.10/dist-packages/torch_geometric/utils/sparse.py:268: UserWarning: Sparse CSR tensor support is in beta state. If you miss a functionality in the sparse tensor support, please submit a feature request to https://github.com/pytorch/pytorch/issues. (Triggered internally at ../aten/src/ATen/SparseCsrTensorImpl.cpp:53.)\n",
            "  adj = torch.sparse_csr_tensor(\n"
          ]
        },
        {
          "data": {
            "text/html": [
              "<pre style=\"white-space:pre;overflow-x:auto;line-height:normal;font-family:Menlo,'DejaVu Sans Mono',consolas,'Courier New',monospace\"><span style=\"color: #7fbfbf; text-decoration-color: #7fbfbf\">[15:00:32] </span><span style=\"color: #000080; text-decoration-color: #000080\">INFO    </span> <span style=\"font-style: italic\">                      dataset: </span><span style=\"color: #808000; text-decoration-color: #808000; font-style: italic\">fb-100</span><span style=\"font-style: italic\">                       </span> <span style=\"color: #7f7f7f; text-decoration-color: #7f7f7f\">&lt;ipython-input-13-a5a07c187594&gt;:78</span>\n",
              "<span style=\"color: #7fbfbf; text-decoration-color: #7fbfbf\">           </span>          ──────────────────────────────────────────────────────────  <span style=\"color: #7f7f7f; text-decoration-color: #7f7f7f\">                                  </span>\n",
              "<span style=\"color: #7fbfbf; text-decoration-color: #7fbfbf\">           </span>           nodes:     <span style=\"color: #008080; text-decoration-color: #008080; font-weight: bold\">1</span>,<span style=\"color: #008080; text-decoration-color: #008080; font-weight: bold\">120</span>,<span style=\"color: #008080; text-decoration-color: #008080; font-weight: bold\">280</span>   mean degree:         <span style=\"color: #008080; text-decoration-color: #008080; font-weight: bold\">77.04</span>          <span style=\"color: #7f7f7f; text-decoration-color: #7f7f7f\">                                  </span>\n",
              "<span style=\"color: #7fbfbf; text-decoration-color: #7fbfbf\">           </span>           edges:     <span style=\"color: #008080; text-decoration-color: #008080; font-weight: bold\">86</span>,<span style=\"color: #008080; text-decoration-color: #008080; font-weight: bold\">304</span>,<span style=\"color: #008080; text-decoration-color: #008080; font-weight: bold\">478</span>  median degree:       <span style=\"color: #008080; text-decoration-color: #008080; font-weight: bold\">57.0</span>           <span style=\"color: #7f7f7f; text-decoration-color: #7f7f7f\">                                  </span>\n",
              "<span style=\"color: #7fbfbf; text-decoration-color: #7fbfbf\">           </span>           features:  <span style=\"color: #008080; text-decoration-color: #008080; font-weight: bold\">537</span>         train/val/test <span style=\"font-weight: bold\">(</span>%<span style=\"font-weight: bold\">)</span>:                 <span style=\"color: #7f7f7f; text-decoration-color: #7f7f7f\">                                  </span>\n",
              "<span style=\"color: #7fbfbf; text-decoration-color: #7fbfbf\">           </span>           <span style=\"color: #008080; text-decoration-color: #008080; font-weight: bold\">75.0</span>/<span style=\"color: #008080; text-decoration-color: #008080; font-weight: bold\">10.0</span>/<span style=\"color: #008080; text-decoration-color: #008080; font-weight: bold\">15.0</span>                                             <span style=\"color: #7f7f7f; text-decoration-color: #7f7f7f\">                                  </span>\n",
              "<span style=\"color: #7fbfbf; text-decoration-color: #7fbfbf\">           </span>           classes:   <span style=\"color: #008080; text-decoration-color: #008080; font-weight: bold\">6</span>           baseline acc <span style=\"font-weight: bold\">(</span>%<span style=\"font-weight: bold\">)</span>:    <span style=\"color: #008080; text-decoration-color: #008080; font-weight: bold\">19.45</span>          <span style=\"color: #7f7f7f; text-decoration-color: #7f7f7f\">                                  </span>\n",
              "<span style=\"color: #7fbfbf; text-decoration-color: #7fbfbf\">           </span>          ──────────────────────────────────────────────────────────  <span style=\"color: #7f7f7f; text-decoration-color: #7f7f7f\">                                  </span>\n",
              "</pre>\n"
            ],
            "text/plain": [
              "\u001b[2;36m[15:00:32]\u001b[0m\u001b[2;36m \u001b[0m\u001b[34mINFO    \u001b[0m \u001b[3m                      dataset: \u001b[0m\u001b[3;33mfb-100\u001b[0m\u001b[3m                       \u001b[0m \u001b[2m<ipython-input-13-a5a07c187594>:78\u001b[0m\n",
              "\u001b[2;36m           \u001b[0m          ──────────────────────────────────────────────────────────  \u001b[2m                                  \u001b[0m\n",
              "\u001b[2;36m           \u001b[0m           nodes:     \u001b[1;36m1\u001b[0m,\u001b[1;36m120\u001b[0m,\u001b[1;36m280\u001b[0m   mean degree:         \u001b[1;36m77.04\u001b[0m          \u001b[2m                                  \u001b[0m\n",
              "\u001b[2;36m           \u001b[0m           edges:     \u001b[1;36m86\u001b[0m,\u001b[1;36m304\u001b[0m,\u001b[1;36m478\u001b[0m  median degree:       \u001b[1;36m57.0\u001b[0m           \u001b[2m                                  \u001b[0m\n",
              "\u001b[2;36m           \u001b[0m           features:  \u001b[1;36m537\u001b[0m         train/val/test \u001b[1m(\u001b[0m%\u001b[1m)\u001b[0m:                 \u001b[2m                                  \u001b[0m\n",
              "\u001b[2;36m           \u001b[0m           \u001b[1;36m75.0\u001b[0m/\u001b[1;36m10.0\u001b[0m/\u001b[1;36m15.0\u001b[0m                                             \u001b[2m                                  \u001b[0m\n",
              "\u001b[2;36m           \u001b[0m           classes:   \u001b[1;36m6\u001b[0m           baseline acc \u001b[1m(\u001b[0m%\u001b[1m)\u001b[0m:    \u001b[1;36m19.45\u001b[0m          \u001b[2m                                  \u001b[0m\n",
              "\u001b[2;36m           \u001b[0m          ──────────────────────────────────────────────────────────  \u001b[2m                                  \u001b[0m\n"
            ]
          },
          "metadata": {},
          "output_type": "display_data"
        },
        {
          "data": {
            "text/html": [
              "<pre style=\"white-space:pre;overflow-x:auto;line-height:normal;font-family:Menlo,'DejaVu Sans Mono',consolas,'Courier New',monospace\">\n",
              "</pre>\n"
            ],
            "text/plain": [
              "\n"
            ]
          },
          "metadata": {},
          "output_type": "display_data"
        }
      ],
      "source": [
        "# Initialize the DatasetLoader class with the desired dataset\n",
        "loader = DatasetLoader(dataset='fb-100')\n",
        "\n",
        "# Load the dataset\n",
        "data = loader.load(verbose=True)"
      ]
    },
    {
      "cell_type": "code",
      "execution_count": null,
      "metadata": {
        "id": "POJwOy5vDYFv"
      },
      "outputs": [],
      "source": []
    },
    {
      "cell_type": "code",
      "execution_count": null,
      "metadata": {
        "colab": {
          "base_uri": "https://localhost:8080/",
          "height": 358
        },
        "id": "49G18jaofnkS",
        "outputId": "a73f6405-8208-4bbb-a3c5-9f8c9cbaa3c3"
      },
      "outputs": [
        {
          "name": "stderr",
          "output_type": "stream",
          "text": [
            "Downloading https://data.dgl.ai/dataset/reddit.zip\n",
            "Extracting datasets/reddit/raw/reddit.zip\n",
            "Processing...\n",
            "Done!\n"
          ]
        },
        {
          "data": {
            "text/html": [
              "<pre style=\"white-space:pre;overflow-x:auto;line-height:normal;font-family:Menlo,'DejaVu Sans Mono',consolas,'Courier New',monospace\"><span style=\"color: #7fbfbf; text-decoration-color: #7fbfbf\">[15:01:26] </span><span style=\"color: #000080; text-decoration-color: #000080\">INFO    </span> <span style=\"font-style: italic\">                      dataset: </span><span style=\"color: #808000; text-decoration-color: #808000; font-style: italic\">reddit</span><span style=\"font-style: italic\">                       </span> <span style=\"color: #7f7f7f; text-decoration-color: #7f7f7f\">&lt;ipython-input-13-a5a07c187594&gt;:78</span>\n",
              "<span style=\"color: #7fbfbf; text-decoration-color: #7fbfbf\">           </span>          ──────────────────────────────────────────────────────────  <span style=\"color: #7f7f7f; text-decoration-color: #7f7f7f\">                                  </span>\n",
              "<span style=\"color: #7fbfbf; text-decoration-color: #7fbfbf\">           </span>           nodes:     <span style=\"color: #008080; text-decoration-color: #008080; font-weight: bold\">116</span>,<span style=\"color: #008080; text-decoration-color: #008080; font-weight: bold\">713</span>     mean degree:         <span style=\"color: #008080; text-decoration-color: #008080; font-weight: bold\">396.13</span>         <span style=\"color: #7f7f7f; text-decoration-color: #7f7f7f\">                                  </span>\n",
              "<span style=\"color: #7fbfbf; text-decoration-color: #7fbfbf\">           </span>           edges:     <span style=\"color: #008080; text-decoration-color: #008080; font-weight: bold\">46</span>,<span style=\"color: #008080; text-decoration-color: #008080; font-weight: bold\">233</span>,<span style=\"color: #008080; text-decoration-color: #008080; font-weight: bold\">380</span>  median degree:       <span style=\"color: #008080; text-decoration-color: #008080; font-weight: bold\">209.0</span>          <span style=\"color: #7f7f7f; text-decoration-color: #7f7f7f\">                                  </span>\n",
              "<span style=\"color: #7fbfbf; text-decoration-color: #7fbfbf\">           </span>           features:  <span style=\"color: #008080; text-decoration-color: #008080; font-weight: bold\">602</span>         train/val/test <span style=\"font-weight: bold\">(</span>%<span style=\"font-weight: bold\">)</span>:                 <span style=\"color: #7f7f7f; text-decoration-color: #7f7f7f\">                                  </span>\n",
              "<span style=\"color: #7fbfbf; text-decoration-color: #7fbfbf\">           </span>           <span style=\"color: #008080; text-decoration-color: #008080; font-weight: bold\">75.1</span>/<span style=\"color: #008080; text-decoration-color: #008080; font-weight: bold\">9.9</span>/<span style=\"color: #008080; text-decoration-color: #008080; font-weight: bold\">15.0</span>                                              <span style=\"color: #7f7f7f; text-decoration-color: #7f7f7f\">                                  </span>\n",
              "<span style=\"color: #7fbfbf; text-decoration-color: #7fbfbf\">           </span>           classes:   <span style=\"color: #008080; text-decoration-color: #008080; font-weight: bold\">8</span>           baseline acc <span style=\"font-weight: bold\">(</span>%<span style=\"font-weight: bold\">)</span>:    <span style=\"color: #008080; text-decoration-color: #008080; font-weight: bold\">24.37</span>          <span style=\"color: #7f7f7f; text-decoration-color: #7f7f7f\">                                  </span>\n",
              "<span style=\"color: #7fbfbf; text-decoration-color: #7fbfbf\">           </span>          ──────────────────────────────────────────────────────────  <span style=\"color: #7f7f7f; text-decoration-color: #7f7f7f\">                                  </span>\n",
              "</pre>\n"
            ],
            "text/plain": [
              "\u001b[2;36m[15:01:26]\u001b[0m\u001b[2;36m \u001b[0m\u001b[34mINFO    \u001b[0m \u001b[3m                      dataset: \u001b[0m\u001b[3;33mreddit\u001b[0m\u001b[3m                       \u001b[0m \u001b[2m<ipython-input-13-a5a07c187594>:78\u001b[0m\n",
              "\u001b[2;36m           \u001b[0m          ──────────────────────────────────────────────────────────  \u001b[2m                                  \u001b[0m\n",
              "\u001b[2;36m           \u001b[0m           nodes:     \u001b[1;36m116\u001b[0m,\u001b[1;36m713\u001b[0m     mean degree:         \u001b[1;36m396.13\u001b[0m         \u001b[2m                                  \u001b[0m\n",
              "\u001b[2;36m           \u001b[0m           edges:     \u001b[1;36m46\u001b[0m,\u001b[1;36m233\u001b[0m,\u001b[1;36m380\u001b[0m  median degree:       \u001b[1;36m209.0\u001b[0m          \u001b[2m                                  \u001b[0m\n",
              "\u001b[2;36m           \u001b[0m           features:  \u001b[1;36m602\u001b[0m         train/val/test \u001b[1m(\u001b[0m%\u001b[1m)\u001b[0m:                 \u001b[2m                                  \u001b[0m\n",
              "\u001b[2;36m           \u001b[0m           \u001b[1;36m75.1\u001b[0m/\u001b[1;36m9.9\u001b[0m/\u001b[1;36m15.0\u001b[0m                                              \u001b[2m                                  \u001b[0m\n",
              "\u001b[2;36m           \u001b[0m           classes:   \u001b[1;36m8\u001b[0m           baseline acc \u001b[1m(\u001b[0m%\u001b[1m)\u001b[0m:    \u001b[1;36m24.37\u001b[0m          \u001b[2m                                  \u001b[0m\n",
              "\u001b[2;36m           \u001b[0m          ──────────────────────────────────────────────────────────  \u001b[2m                                  \u001b[0m\n"
            ]
          },
          "metadata": {},
          "output_type": "display_data"
        },
        {
          "data": {
            "text/html": [
              "<pre style=\"white-space:pre;overflow-x:auto;line-height:normal;font-family:Menlo,'DejaVu Sans Mono',consolas,'Courier New',monospace\">\n",
              "</pre>\n"
            ],
            "text/plain": [
              "\n"
            ]
          },
          "metadata": {},
          "output_type": "display_data"
        },
        {
          "data": {
            "text/html": [
              "<pre style=\"white-space:pre;overflow-x:auto;line-height:normal;font-family:Menlo,'DejaVu Sans Mono',consolas,'Courier New',monospace\"><span style=\"color: #7fbfbf; text-decoration-color: #7fbfbf\">[15:01:29] </span><span style=\"color: #000080; text-decoration-color: #000080\">INFO    </span> <span style=\"font-style: italic\">                      dataset: </span><span style=\"color: #808000; text-decoration-color: #808000; font-style: italic\">reddit</span><span style=\"font-style: italic\">                       </span> <span style=\"color: #7f7f7f; text-decoration-color: #7f7f7f\">&lt;ipython-input-13-a5a07c187594&gt;:78</span>\n",
              "<span style=\"color: #7fbfbf; text-decoration-color: #7fbfbf\">           </span>          ──────────────────────────────────────────────────────────  <span style=\"color: #7f7f7f; text-decoration-color: #7f7f7f\">                                  </span>\n",
              "<span style=\"color: #7fbfbf; text-decoration-color: #7fbfbf\">           </span>           nodes:     <span style=\"color: #008080; text-decoration-color: #008080; font-weight: bold\">116</span>,<span style=\"color: #008080; text-decoration-color: #008080; font-weight: bold\">713</span>     mean degree:         <span style=\"color: #008080; text-decoration-color: #008080; font-weight: bold\">396.13</span>         <span style=\"color: #7f7f7f; text-decoration-color: #7f7f7f\">                                  </span>\n",
              "<span style=\"color: #7fbfbf; text-decoration-color: #7fbfbf\">           </span>           edges:     <span style=\"color: #008080; text-decoration-color: #008080; font-weight: bold\">46</span>,<span style=\"color: #008080; text-decoration-color: #008080; font-weight: bold\">233</span>,<span style=\"color: #008080; text-decoration-color: #008080; font-weight: bold\">380</span>  median degree:       <span style=\"color: #008080; text-decoration-color: #008080; font-weight: bold\">209.0</span>          <span style=\"color: #7f7f7f; text-decoration-color: #7f7f7f\">                                  </span>\n",
              "<span style=\"color: #7fbfbf; text-decoration-color: #7fbfbf\">           </span>           features:  <span style=\"color: #008080; text-decoration-color: #008080; font-weight: bold\">602</span>         train/val/test <span style=\"font-weight: bold\">(</span>%<span style=\"font-weight: bold\">)</span>:                 <span style=\"color: #7f7f7f; text-decoration-color: #7f7f7f\">                                  </span>\n",
              "<span style=\"color: #7fbfbf; text-decoration-color: #7fbfbf\">           </span>           <span style=\"color: #008080; text-decoration-color: #008080; font-weight: bold\">75.1</span>/<span style=\"color: #008080; text-decoration-color: #008080; font-weight: bold\">9.9</span>/<span style=\"color: #008080; text-decoration-color: #008080; font-weight: bold\">15.0</span>                                              <span style=\"color: #7f7f7f; text-decoration-color: #7f7f7f\">                                  </span>\n",
              "<span style=\"color: #7fbfbf; text-decoration-color: #7fbfbf\">           </span>           classes:   <span style=\"color: #008080; text-decoration-color: #008080; font-weight: bold\">8</span>           baseline acc <span style=\"font-weight: bold\">(</span>%<span style=\"font-weight: bold\">)</span>:    <span style=\"color: #008080; text-decoration-color: #008080; font-weight: bold\">24.37</span>          <span style=\"color: #7f7f7f; text-decoration-color: #7f7f7f\">                                  </span>\n",
              "<span style=\"color: #7fbfbf; text-decoration-color: #7fbfbf\">           </span>          ──────────────────────────────────────────────────────────  <span style=\"color: #7f7f7f; text-decoration-color: #7f7f7f\">                                  </span>\n",
              "</pre>\n"
            ],
            "text/plain": [
              "\u001b[2;36m[15:01:29]\u001b[0m\u001b[2;36m \u001b[0m\u001b[34mINFO    \u001b[0m \u001b[3m                      dataset: \u001b[0m\u001b[3;33mreddit\u001b[0m\u001b[3m                       \u001b[0m \u001b[2m<ipython-input-13-a5a07c187594>:78\u001b[0m\n",
              "\u001b[2;36m           \u001b[0m          ──────────────────────────────────────────────────────────  \u001b[2m                                  \u001b[0m\n",
              "\u001b[2;36m           \u001b[0m           nodes:     \u001b[1;36m116\u001b[0m,\u001b[1;36m713\u001b[0m     mean degree:         \u001b[1;36m396.13\u001b[0m         \u001b[2m                                  \u001b[0m\n",
              "\u001b[2;36m           \u001b[0m           edges:     \u001b[1;36m46\u001b[0m,\u001b[1;36m233\u001b[0m,\u001b[1;36m380\u001b[0m  median degree:       \u001b[1;36m209.0\u001b[0m          \u001b[2m                                  \u001b[0m\n",
              "\u001b[2;36m           \u001b[0m           features:  \u001b[1;36m602\u001b[0m         train/val/test \u001b[1m(\u001b[0m%\u001b[1m)\u001b[0m:                 \u001b[2m                                  \u001b[0m\n",
              "\u001b[2;36m           \u001b[0m           \u001b[1;36m75.1\u001b[0m/\u001b[1;36m9.9\u001b[0m/\u001b[1;36m15.0\u001b[0m                                              \u001b[2m                                  \u001b[0m\n",
              "\u001b[2;36m           \u001b[0m           classes:   \u001b[1;36m8\u001b[0m           baseline acc \u001b[1m(\u001b[0m%\u001b[1m)\u001b[0m:    \u001b[1;36m24.37\u001b[0m          \u001b[2m                                  \u001b[0m\n",
              "\u001b[2;36m           \u001b[0m          ──────────────────────────────────────────────────────────  \u001b[2m                                  \u001b[0m\n"
            ]
          },
          "metadata": {},
          "output_type": "display_data"
        },
        {
          "data": {
            "text/html": [
              "<pre style=\"white-space:pre;overflow-x:auto;line-height:normal;font-family:Menlo,'DejaVu Sans Mono',consolas,'Courier New',monospace\">\n",
              "</pre>\n"
            ],
            "text/plain": [
              "\n"
            ]
          },
          "metadata": {},
          "output_type": "display_data"
        }
      ],
      "source": [
        "reddit_loader = DatasetLoader(dataset = 'reddit')\n",
        "reddit_data = reddit_loader.load(verbose = True)\n",
        "reddit_loader.print_stats(reddit_data)"
      ]
    },
    {
      "cell_type": "markdown",
      "metadata": {
        "id": "LBWKA8j5S6wW"
      },
      "source": [
        "* Now, the dataset has been loaded, complete with the connectivity (adjacency\n",
        "  matrix) - `adj_t`, `train_mask`, `test_mask`, `val_mask` and `y`.\n",
        "* The feature matrix is stored under `data.x`"
      ]
    },
    {
      "cell_type": "code",
      "execution_count": null,
      "metadata": {
        "colab": {
          "base_uri": "https://localhost:8080/"
        },
        "id": "9f3kJBvWS0XI",
        "outputId": "74b8409a-93e1-46f0-eb47-d5330262abab"
      },
      "outputs": [
        {
          "name": "stdout",
          "output_type": "stream",
          "text": [
            "Data(x=[1120280, 537], y=[1120280], train_mask=[1120280], val_mask=[1120280], test_mask=[1120280], adj_t=[1120280, 1120280])\n"
          ]
        }
      ],
      "source": [
        "print(data)"
      ]
    },
    {
      "cell_type": "code",
      "execution_count": null,
      "metadata": {
        "colab": {
          "base_uri": "https://localhost:8080/",
          "height": 153
        },
        "id": "nFqil_4gTJ64",
        "outputId": "e1ffe797-6f4d-44c9-a673-65f2f1707dd7"
      },
      "outputs": [
        {
          "data": {
            "text/html": [
              "<pre style=\"white-space:pre;overflow-x:auto;line-height:normal;font-family:Menlo,'DejaVu Sans Mono',consolas,'Courier New',monospace\"><span style=\"color: #7fbfbf; text-decoration-color: #7fbfbf\">[15:01:35] </span><span style=\"color: #000080; text-decoration-color: #000080\">INFO    </span> <span style=\"font-style: italic\">                      dataset: </span><span style=\"color: #808000; text-decoration-color: #808000; font-style: italic\">fb-100</span><span style=\"font-style: italic\">                       </span> <span style=\"color: #7f7f7f; text-decoration-color: #7f7f7f\">&lt;ipython-input-13-a5a07c187594&gt;:78</span>\n",
              "<span style=\"color: #7fbfbf; text-decoration-color: #7fbfbf\">           </span>          ──────────────────────────────────────────────────────────  <span style=\"color: #7f7f7f; text-decoration-color: #7f7f7f\">                                  </span>\n",
              "<span style=\"color: #7fbfbf; text-decoration-color: #7fbfbf\">           </span>           nodes:     <span style=\"color: #008080; text-decoration-color: #008080; font-weight: bold\">1</span>,<span style=\"color: #008080; text-decoration-color: #008080; font-weight: bold\">120</span>,<span style=\"color: #008080; text-decoration-color: #008080; font-weight: bold\">280</span>   mean degree:         <span style=\"color: #008080; text-decoration-color: #008080; font-weight: bold\">77.04</span>          <span style=\"color: #7f7f7f; text-decoration-color: #7f7f7f\">                                  </span>\n",
              "<span style=\"color: #7fbfbf; text-decoration-color: #7fbfbf\">           </span>           edges:     <span style=\"color: #008080; text-decoration-color: #008080; font-weight: bold\">86</span>,<span style=\"color: #008080; text-decoration-color: #008080; font-weight: bold\">304</span>,<span style=\"color: #008080; text-decoration-color: #008080; font-weight: bold\">478</span>  median degree:       <span style=\"color: #008080; text-decoration-color: #008080; font-weight: bold\">57.0</span>           <span style=\"color: #7f7f7f; text-decoration-color: #7f7f7f\">                                  </span>\n",
              "<span style=\"color: #7fbfbf; text-decoration-color: #7fbfbf\">           </span>           features:  <span style=\"color: #008080; text-decoration-color: #008080; font-weight: bold\">537</span>         train/val/test <span style=\"font-weight: bold\">(</span>%<span style=\"font-weight: bold\">)</span>:                 <span style=\"color: #7f7f7f; text-decoration-color: #7f7f7f\">                                  </span>\n",
              "<span style=\"color: #7fbfbf; text-decoration-color: #7fbfbf\">           </span>           <span style=\"color: #008080; text-decoration-color: #008080; font-weight: bold\">75.0</span>/<span style=\"color: #008080; text-decoration-color: #008080; font-weight: bold\">10.0</span>/<span style=\"color: #008080; text-decoration-color: #008080; font-weight: bold\">15.0</span>                                             <span style=\"color: #7f7f7f; text-decoration-color: #7f7f7f\">                                  </span>\n",
              "<span style=\"color: #7fbfbf; text-decoration-color: #7fbfbf\">           </span>           classes:   <span style=\"color: #008080; text-decoration-color: #008080; font-weight: bold\">6</span>           baseline acc <span style=\"font-weight: bold\">(</span>%<span style=\"font-weight: bold\">)</span>:    <span style=\"color: #008080; text-decoration-color: #008080; font-weight: bold\">19.45</span>          <span style=\"color: #7f7f7f; text-decoration-color: #7f7f7f\">                                  </span>\n",
              "<span style=\"color: #7fbfbf; text-decoration-color: #7fbfbf\">           </span>          ──────────────────────────────────────────────────────────  <span style=\"color: #7f7f7f; text-decoration-color: #7f7f7f\">                                  </span>\n",
              "</pre>\n"
            ],
            "text/plain": [
              "\u001b[2;36m[15:01:35]\u001b[0m\u001b[2;36m \u001b[0m\u001b[34mINFO    \u001b[0m \u001b[3m                      dataset: \u001b[0m\u001b[3;33mfb-100\u001b[0m\u001b[3m                       \u001b[0m \u001b[2m<ipython-input-13-a5a07c187594>:78\u001b[0m\n",
              "\u001b[2;36m           \u001b[0m          ──────────────────────────────────────────────────────────  \u001b[2m                                  \u001b[0m\n",
              "\u001b[2;36m           \u001b[0m           nodes:     \u001b[1;36m1\u001b[0m,\u001b[1;36m120\u001b[0m,\u001b[1;36m280\u001b[0m   mean degree:         \u001b[1;36m77.04\u001b[0m          \u001b[2m                                  \u001b[0m\n",
              "\u001b[2;36m           \u001b[0m           edges:     \u001b[1;36m86\u001b[0m,\u001b[1;36m304\u001b[0m,\u001b[1;36m478\u001b[0m  median degree:       \u001b[1;36m57.0\u001b[0m           \u001b[2m                                  \u001b[0m\n",
              "\u001b[2;36m           \u001b[0m           features:  \u001b[1;36m537\u001b[0m         train/val/test \u001b[1m(\u001b[0m%\u001b[1m)\u001b[0m:                 \u001b[2m                                  \u001b[0m\n",
              "\u001b[2;36m           \u001b[0m           \u001b[1;36m75.0\u001b[0m/\u001b[1;36m10.0\u001b[0m/\u001b[1;36m15.0\u001b[0m                                             \u001b[2m                                  \u001b[0m\n",
              "\u001b[2;36m           \u001b[0m           classes:   \u001b[1;36m6\u001b[0m           baseline acc \u001b[1m(\u001b[0m%\u001b[1m)\u001b[0m:    \u001b[1;36m19.45\u001b[0m          \u001b[2m                                  \u001b[0m\n",
              "\u001b[2;36m           \u001b[0m          ──────────────────────────────────────────────────────────  \u001b[2m                                  \u001b[0m\n"
            ]
          },
          "metadata": {},
          "output_type": "display_data"
        },
        {
          "data": {
            "text/html": [
              "<pre style=\"white-space:pre;overflow-x:auto;line-height:normal;font-family:Menlo,'DejaVu Sans Mono',consolas,'Courier New',monospace\">\n",
              "</pre>\n"
            ],
            "text/plain": [
              "\n"
            ]
          },
          "metadata": {},
          "output_type": "display_data"
        }
      ],
      "source": [
        "loader.print_stats(data)"
      ]
    },
    {
      "cell_type": "code",
      "execution_count": null,
      "metadata": {
        "colab": {
          "base_uri": "https://localhost:8080/"
        },
        "id": "1d5mzDu4lK5h",
        "outputId": "f35f86e9-e3a0-40d6-d42a-5c53f58dcf84"
      },
      "outputs": [
        {
          "data": {
            "text/plain": [
              "86304478"
            ]
          },
          "execution_count": 18,
          "metadata": {},
          "output_type": "execute_result"
        }
      ],
      "source": [
        "data.num_edges"
      ]
    },
    {
      "cell_type": "markdown",
      "metadata": {
        "id": "jjLaCNq-Utm2"
      },
      "source": [
        "Now, as present in the ProGAP paper, which establishes a baseline using MLP Classifier (not taking adjacency information into account) for edge-private case, we work to write code to perform such node-classfication using MLP."
      ]
    },
    {
      "cell_type": "markdown",
      "metadata": {
        "id": "cKi5WjyvWcV-"
      },
      "source": [
        "* First, we write the class `TrainerProgress` to define a custom progress bar that aids our tracking of the training/testing processes while training any model."
      ]
    },
    {
      "cell_type": "code",
      "execution_count": null,
      "metadata": {
        "id": "xEpuhdGdWC9d"
      },
      "outputs": [],
      "source": [
        "from typing import Literal, TypeVar\n",
        "from torch.types import Number\n",
        "\n",
        "\n",
        "RT = TypeVar('RT')\n",
        "Phase = Literal['train', 'val', 'test', 'predict']\n",
        "Metrics = dict[str, Number]"
      ]
    },
    {
      "cell_type": "code",
      "execution_count": null,
      "metadata": {
        "id": "12y5_Eg7V63P"
      },
      "outputs": [],
      "source": [
        "from typing import Iterable\n",
        "from rich.console import Group\n",
        "from rich.padding import Padding\n",
        "from rich.table import Column, Table\n",
        "from rich.progress import Progress, SpinnerColumn, BarColumn, TimeElapsedColumn, Task\n",
        "from rich.highlighter import ReprHighlighter\n",
        "\n",
        "\n",
        "\n",
        "\n",
        "\n",
        "class TrainerProgress(Progress):\n",
        "    def __init__(self,\n",
        "                 num_epochs: int,\n",
        "                 **kwargs\n",
        "                 ):\n",
        "\n",
        "        progress_bar = [\n",
        "            SpinnerColumn(),\n",
        "            \"{task.description}\",\n",
        "            \"[cyan]{task.completed:>3}[/cyan]/[cyan]{task.total}[/cyan]\",\n",
        "            \"{task.fields[unit]}\",\n",
        "            BarColumn(),\n",
        "            \"[cyan]{task.percentage:>3.0f}[/cyan]%\",\n",
        "            TimeElapsedColumn(),\n",
        "            # \"{task.fields[metrics]}\"\n",
        "        ]\n",
        "\n",
        "        console = Console()\n",
        "\n",
        "        super().__init__(*progress_bar, console=console, **kwargs)\n",
        "\n",
        "        self.trainer_tasks = {\n",
        "            'epoch': self.add_task(total=num_epochs, metrics='', unit='epochs', description='overal progress'),\n",
        "            'train': self.add_task(metrics='', unit='steps', description='training', visible=False),\n",
        "            'val':   self.add_task(metrics='', unit='steps', description='validation', visible=False),\n",
        "            'test':  self.add_task(metrics='', unit='steps', description='testing', visible=False),\n",
        "        }\n",
        "\n",
        "        self.max_rows = 0\n",
        "\n",
        "    def update(self, task: Task, **kwargs):\n",
        "        if 'metrics' in kwargs:\n",
        "            kwargs['metrics'] = self.render_metrics(kwargs['metrics'])\n",
        "\n",
        "        super().update(self.trainer_tasks[task], **kwargs)\n",
        "\n",
        "    def reset(self, task: Task, **kwargs):\n",
        "        super().reset(self.trainer_tasks[task], **kwargs)\n",
        "\n",
        "    def render_metrics(self, metrics: Metrics) -> str:\n",
        "        out = []\n",
        "        for split in ['train', 'val', 'test']:\n",
        "            metric_str = ' '.join(f'{k}: {v:.3f}' for k, v in metrics.items() if f'{split}/' in k)\n",
        "            out.append(metric_str)\n",
        "\n",
        "        return '  '.join(out)\n",
        "\n",
        "    def make_tasks_table(self, tasks: Iterable[Task]) -> Table:\n",
        "        \"\"\"Get a table to render the Progress display.\n",
        "\n",
        "        Args:\n",
        "            tasks (Iterable[Task]): An iterable of Task instances, one per row of the table.\n",
        "\n",
        "        Returns:\n",
        "            Table: A table instance.\n",
        "        \"\"\"\n",
        "        table_columns = (\n",
        "            (\n",
        "                Column(no_wrap=True)\n",
        "                if isinstance(_column, str)\n",
        "                else _column.get_table_column().copy()\n",
        "            )\n",
        "            for _column in self.columns\n",
        "        )\n",
        "\n",
        "        highlighter = ReprHighlighter()\n",
        "        table = Table.grid(*table_columns, padding=(0, 1), expand=self.expand)\n",
        "\n",
        "        if tasks:\n",
        "            epoch_task = tasks[0]\n",
        "            metrics = epoch_task.fields['metrics']\n",
        "\n",
        "            for task in tasks:\n",
        "                if task.visible:\n",
        "                    table.add_row(\n",
        "                        *(\n",
        "                            (\n",
        "                                column.format(task=task)\n",
        "                                if isinstance(column, str)\n",
        "                                else column(task)\n",
        "                            )\n",
        "                            for column in self.columns\n",
        "                        )\n",
        "                    )\n",
        "\n",
        "            self.max_rows = max(self.max_rows, table.row_count)\n",
        "            pad_top = 0 if epoch_task.finished else self.max_rows - table.row_count\n",
        "            group = Group(table, Padding(highlighter(metrics), pad=(pad_top,0,0,2)))\n",
        "            return Padding(group, pad=(0,0,1,18))\n",
        "\n",
        "        else:\n",
        "            return table"
      ]
    },
    {
      "cell_type": "markdown",
      "metadata": {
        "id": "0K9FIvUBYVZK"
      },
      "source": [
        "Since we are training multiple models on the given dataset, we require a template class that can be used to create trainable modules in PyTorch.\n",
        "The following class `TrainableModule` does just that.\n",
        "\n",
        "* This class abstracts away common functionalities related to optimization, such as configuring optimizers, handling forward passes, taking optimization steps, and making predictions."
      ]
    },
    {
      "cell_type": "code",
      "execution_count": null,
      "metadata": {
        "id": "j9_8SBEgXS78"
      },
      "outputs": [],
      "source": [
        "from typing import Optional\n",
        "from torch import Tensor\n",
        "from torch.nn import Module\n",
        "from torch.optim.optimizer import Optimizer\n",
        "from torch_geometric.data import Data\n",
        "from abc import ABC, abstractmethod\n",
        "from class_resolver.contrib.torch import optimizer_resolver\n",
        "\n",
        "# Defined as a subclass of both Module and ABC, inheriting attributes from both.\n",
        "\n",
        "# Serves as a base class for all the trainable modules in the project (nonPrivate, Edge-Private etc.)\n",
        "class TrainableModule(Module, ABC):\n",
        "    def __init__(self, optimizer: str, learning_rate: float, weight_decay: float):\n",
        "        super().__init__()\n",
        "        self.optimizer_name = optimizer\n",
        "        self.learning_rate = learning_rate\n",
        "        self.weight_decay = weight_decay\n",
        "\n",
        "    @abstractmethod\n",
        "    def forward(self, *args, **kwargs): pass\n",
        "\n",
        "    @abstractmethod\n",
        "    def step(self, data: Data, phase: Phase) -> tuple[Optional[Tensor], Metrics]: pass\n",
        "\n",
        "    @abstractmethod\n",
        "    def predict(self, data: Data) -> Tensor: pass\n",
        "\n",
        "    @abstractmethod\n",
        "    def reset_parameters(self): pass\n",
        "\n",
        "    def configure_optimizers(self):\n",
        "        optimizer = optimizer_resolver.make(\n",
        "            query=self.optimizer_name,\n",
        "            params=self.parameters(),\n",
        "            lr=self.learning_rate,\n",
        "            weight_decay=self.weight_decay\n",
        "        )\n",
        "        return optimizer"
      ]
    },
    {
      "cell_type": "code",
      "execution_count": null,
      "metadata": {
        "id": "e_tKT8DKmwCN"
      },
      "outputs": [],
      "source": [
        "from abc import ABC, abstractmethod\n",
        "from torch.nn import Module\n",
        "\n",
        "\n",
        "class LoggerBase(ABC):\n",
        "    @property\n",
        "    @abstractmethod\n",
        "    def experiment(self): pass\n",
        "\n",
        "    @abstractmethod\n",
        "    def log(self, metrics: dict[str, object]): pass\n",
        "\n",
        "    @abstractmethod\n",
        "    def log_summary(self, metrics: dict[str, object]): pass\n",
        "\n",
        "    @abstractmethod\n",
        "    def watch(self, model: Module, **kwargs): pass\n",
        "\n",
        "    @abstractmethod\n",
        "    def finish(self): pass\n",
        "\n",
        "class DummyLogger(LoggerBase):\n",
        "    def __init__(self, *args, **kwargs):\n",
        "        super().__init__(*args, **kwargs)\n",
        "\n",
        "    @property\n",
        "    def experiment(self): pass\n",
        "    def log(self, metrics: dict[str, object]): pass\n",
        "    def log_summary(self, metrics: dict[str, object]): pass\n",
        "    def watch(self, model: Module, **kwargs): pass\n",
        "    def finish(self): pass"
      ]
    },
    {
      "cell_type": "code",
      "execution_count": null,
      "metadata": {
        "id": "Z-pR8u-UnC_l"
      },
      "outputs": [],
      "source": [
        "try:\n",
        "    import wandb\n",
        "    from wandb.wandb_run import Run\n",
        "except ImportError:\n",
        "    wandb = None\n",
        "\n",
        "\n",
        "class WandbLogger(LoggerBase):\n",
        "    def __init__(self, project: str, output_dir: str, config: dict = {}):\n",
        "        self.project = project\n",
        "        self.output_dir = output_dir\n",
        "        self.config = config\n",
        "\n",
        "        if wandb is None:\n",
        "            raise ImportError(\n",
        "                \"wandb is not installed yet, install it with `pip install wandb`.\"\n",
        "            )\n",
        "\n",
        "    @property\n",
        "    def experiment(self) -> Run:\n",
        "        if not hasattr(self, \"_experiment\"):\n",
        "            os.environ[\"WANDB_SILENT\"] = \"true\"\n",
        "            settings = wandb.Settings(start_method=\"fork\")\n",
        "            os.makedirs(self.output_dir, exist_ok=True)\n",
        "\n",
        "            self._experiment = wandb.init(\n",
        "                project=self.project,\n",
        "                dir=self.output_dir,\n",
        "                reinit=True,\n",
        "                resume=\"allow\",\n",
        "                config=self.config,\n",
        "                save_code=True,\n",
        "                settings=settings,\n",
        "            )\n",
        "\n",
        "        return self._experiment\n",
        "\n",
        "    def log(self, metrics: dict[str, object]):\n",
        "        self.experiment.log(metrics)\n",
        "\n",
        "    def log_summary(self, metrics: dict[str, object]):\n",
        "        for metric, value in metrics.items():\n",
        "            self.experiment.summary[metric] = value\n",
        "\n",
        "    def watch(self, model: Module, **kwargs):\n",
        "        self.experiment.watch(model, **kwargs)\n",
        "\n",
        "    def finish(self):\n",
        "        self.experiment.finish()\n",
        "\n",
        "class Logger(LoggerBase):\n",
        "    supported_loggers = {\n",
        "        'wandb': WandbLogger\n",
        "    }\n",
        "\n",
        "    def __init__(self,\n",
        "        logger:     Annotated[str,  ArgInfo(help='select logger type', choices=supported_loggers)] = None,\n",
        "        project:    Annotated[str,  ArgInfo(help=\"project name for logger\")] = 'ProGAP',\n",
        "        output_dir: Annotated[str,  ArgInfo(help=\"directory to store the results\")] = './output',\n",
        "        config:     dict = {},\n",
        "        prefix:     str = '',\n",
        "        ) -> None:\n",
        "\n",
        "        self.logger_name = logger\n",
        "        self.project = project\n",
        "        self.output_dir = output_dir\n",
        "        self.config = config\n",
        "        self.prefix = prefix\n",
        "\n",
        "        if self.logger_name == 'wandb':\n",
        "            self.logger = WandbLogger(\n",
        "                project=project,\n",
        "                output_dir=output_dir,\n",
        "                config=config\n",
        "            )\n",
        "        else:\n",
        "            self.logger = DummyLogger()\n",
        "\n",
        "    @property\n",
        "    def experiment(self):\n",
        "        return self.logger.experiment\n",
        "\n",
        "    def log(self, metrics: dict[str, object]):\n",
        "        metrics = self._add_prefix(metrics)\n",
        "        self.logger.log(metrics)\n",
        "\n",
        "    def log_summary(self, metrics: dict[str, object]):\n",
        "        metrics = self._add_prefix(metrics)\n",
        "        self.logger.log_summary(metrics)\n",
        "\n",
        "    def watch(self, model: Module, **kwargs):\n",
        "        self.logger.watch(model, **kwargs)\n",
        "\n",
        "    def finish(self):\n",
        "        self.logger.finish()\n",
        "\n",
        "    def set_prefix(self, prefix: str):\n",
        "        self.prefix = prefix\n",
        "\n",
        "    def _add_prefix(self, metrics: dict[str, object]) -> dict[str, object]:\n",
        "        return {f'{self.prefix}{metric}': value for metric, value in metrics.items()}"
      ]
    },
    {
      "cell_type": "markdown",
      "metadata": {
        "id": "tJbdnkg2ZO3b"
      },
      "source": [
        "Writing code to train our models -->\n",
        "This class `Trainer` has an attribute defined, by the name of `model`, which is an initialization of the `TrainableModule` class. Hence, `Trainer` accesses any such module that is requried to be trained via this attribute.\n",
        "\n",
        "* Secondly, all the information is cast to the `cuda` device, if present on the system.\n",
        "\n",
        "* The reason I chose not to utilize logger for now is because I am not using any HPC cluster for my job."
      ]
    },
    {
      "cell_type": "code",
      "execution_count": null,
      "metadata": {
        "id": "gvGWxPX8VyLK"
      },
      "outputs": [],
      "source": [
        "from copy import deepcopy\n",
        "from typing import Iterable, Optional, Annotated, Literal\n",
        "from torch.optim import Optimizer\n",
        "from torch.types import Number\n",
        "from torchmetrics import MeanMetric\n",
        "\n",
        "\n",
        "class Trainer:\n",
        "    def __init__(self,\n",
        "                 monitor:       str = 'val/acc',\n",
        "                 monitor_mode:  Literal['min', 'max'] = 'max',\n",
        "                 epochs:        Annotated[int,  ArgInfo(help='number of epochs for training')] = 100,\n",
        "                 device:        Annotated[str,  ArgInfo(help='device to use for training', choices=['cpu', 'cuda', 'auto'])] = 'auto',\n",
        "                 verbose:       Annotated[bool, ArgInfo(help='display progress')] = True,\n",
        "                 logger:        Logger = None,\n",
        "                 ):\n",
        "\n",
        "        self.epochs = epochs\n",
        "        self.monitor = monitor\n",
        "        self.monitor_mode = monitor_mode\n",
        "        self.verbose = verbose\n",
        "        self.logger = logger or DummyLogger()\n",
        "\n",
        "        # setup device\n",
        "        if device == 'auto':\n",
        "            self.device = torch.device('cuda') if torch.cuda.is_available() else torch.device('cpu')\n",
        "        else:\n",
        "            self.device = torch.device(device)\n",
        "\n",
        "        # trainer internal state\n",
        "        self.model: TrainableModule = None\n",
        "        self.metrics: dict[str, MeanMetric] = {}\n",
        "\n",
        "    def reset(self) -> None:\n",
        "        self.model = None\n",
        "        self.metrics.clear()\n",
        "\n",
        "    def update_metrics(self, metric_name: str, metric_value: object, batch_size: int = 1) -> None:\n",
        "        # if this is a new metric, add it to self.metrics\n",
        "        device = metric_value.device if torch.is_tensor(metric_value) else 'cpu'\n",
        "        if metric_name not in self.metrics:\n",
        "            self.metrics[metric_name] = MeanMetric().to(device)\n",
        "\n",
        "        # update the metric\n",
        "        self.metrics[metric_name].update(metric_value, weight=batch_size)\n",
        "\n",
        "    def aggregate_metrics(self, phase: Phase='train') -> Metrics:\n",
        "        metrics = {}\n",
        "\n",
        "        for metric_name, metric_value in self.metrics.items():\n",
        "            if phase in metric_name.split('/'):\n",
        "                value = metric_value.compute()\n",
        "                metric_value.reset()\n",
        "                metrics[metric_name] = value\n",
        "\n",
        "        return metrics\n",
        "\n",
        "    def is_better(self, current_metric: Number, previous_metric: Number) -> bool:\n",
        "        assert self.monitor_mode in ['min', 'max'], f'Unknown metric mode: {self.monitor_mode}'\n",
        "        if self.monitor_mode == 'max':\n",
        "            return current_metric > previous_metric\n",
        "        elif self.monitor_mode == 'min':\n",
        "            return current_metric < previous_metric\n",
        "\n",
        "    def fit(self,\n",
        "            model: TrainableModule,\n",
        "            train_dataloader: Iterable,\n",
        "            val_dataloader: Optional[Iterable]=None,\n",
        "            test_dataloader: Optional[Iterable]=None,\n",
        "            ) -> Metrics:\n",
        "\n",
        "        self.model = model.to(self.device)\n",
        "        self.optimizer: Optimizer = self.model.configure_optimizers()\n",
        "\n",
        "        self.progress = TrainerProgress(\n",
        "            num_epochs=self.epochs,\n",
        "            disable=not self.verbose,\n",
        "        )\n",
        "\n",
        "        best_state_dict = None\n",
        "        best_metrics = None\n",
        "\n",
        "        with self.progress:\n",
        "            for epoch in range(1, self.epochs + 1):\n",
        "                metrics = {f'epoch': epoch}\n",
        "\n",
        "                # train loop\n",
        "                train_metrics = self.loop(train_dataloader, phase='train')\n",
        "                metrics.update(train_metrics)\n",
        "\n",
        "                # validation loop\n",
        "                if val_dataloader:\n",
        "                    val_metrics = self.loop(val_dataloader, phase='val')\n",
        "                    metrics.update(val_metrics)\n",
        "\n",
        "                    if best_metrics is None or self.is_better(\n",
        "                        metrics[self.monitor], best_metrics[self.monitor]\n",
        "                        ):\n",
        "                        best_metrics = metrics\n",
        "                        best_state_dict = deepcopy(self.model.state_dict())\n",
        "\n",
        "                # test loop\n",
        "                if test_dataloader:\n",
        "                    test_metrics = self.loop(test_dataloader, phase='test')\n",
        "                    metrics.update(test_metrics)\n",
        "\n",
        "                # log and update progress\n",
        "                self.progress.update(task='epoch', metrics=metrics, advance=1)\n",
        "                self.logger.log(metrics)\n",
        "\n",
        "        if best_metrics is None:\n",
        "            best_metrics = metrics\n",
        "        else:\n",
        "            self.model.load_state_dict(best_state_dict)\n",
        "\n",
        "        # log and return best metrics\n",
        "        self.logger.log_summary(best_metrics)\n",
        "\n",
        "        return best_metrics\n",
        "\n",
        "    def test(self, dataloader: Iterable) -> Metrics:\n",
        "        self.metrics.clear()\n",
        "        metrics = self.loop(dataloader, phase='test')\n",
        "        return metrics\n",
        "\n",
        "    def predict(self, dataloader: Iterable, move_to_cpu: bool=False) -> Metrics:\n",
        "        preds = []\n",
        "        self.model.eval()\n",
        "        with torch.no_grad():\n",
        "            for batch in dataloader:\n",
        "                batch = self.to_device(batch)\n",
        "                # out might be a tuple of predictions\n",
        "                out = self.model.predict(batch)\n",
        "                if move_to_cpu:\n",
        "                    out = out.cpu()\n",
        "                preds.append(out)\n",
        "\n",
        "        # concatenate predictions, check if they are tuples\n",
        "        if isinstance(preds[0], tuple):\n",
        "            preds = tuple(torch.cat([p[i] for p in preds]) for i in range(len(preds[0])))\n",
        "        else:\n",
        "            preds = torch.cat(preds)\n",
        "\n",
        "        return preds\n",
        "\n",
        "    def loop(self, dataloader: Iterable, phase: Phase) -> Metrics:\n",
        "        self.model.train(phase == 'train')\n",
        "        grad_state = torch.is_grad_enabled()\n",
        "        torch.set_grad_enabled(phase == 'train')\n",
        "        self.progress.update(phase, visible=len(dataloader) > 1, total=len(dataloader))\n",
        "\n",
        "        for batch in dataloader:\n",
        "            batch = self.to_device(batch)\n",
        "            metrics = self.step(batch, phase)\n",
        "            for item in metrics:\n",
        "                self.update_metrics(item, metrics[item], batch_size=batch.batch_nodes.size(0))\n",
        "            self.progress.update(phase, advance=1)\n",
        "\n",
        "        self.progress.reset(phase, visible=False)\n",
        "        torch.set_grad_enabled(grad_state)\n",
        "        return self.aggregate_metrics(phase)\n",
        "\n",
        "    def step(self, batch, phase: Phase) -> Metrics:\n",
        "        if phase == 'train':\n",
        "            self.optimizer.zero_grad(set_to_none=True)\n",
        "\n",
        "        loss, metrics = self.model.step(batch, phase=phase)\n",
        "\n",
        "        if phase == 'train':\n",
        "            loss.backward()\n",
        "            self.optimizer.step()\n",
        "\n",
        "        return metrics\n",
        "\n",
        "    def to_device(self, batch):\n",
        "        if isinstance(batch, tuple):\n",
        "            return tuple(item.to(self.device) for item in batch)\n",
        "        return batch.to(self.device)"
      ]
    },
    {
      "cell_type": "markdown",
      "metadata": {
        "id": "-7VUbrw7VTqN"
      },
      "source": [
        "There is a custom node-wise dataloader defined in the following cell. It is provided with the graph `Data` object, containing the node features matrix, the `train`, `test` and `val` masks, etc.\n",
        "\n",
        "* There are also options to specify other parameters.\n",
        "\n",
        "* For our transductive setting, since we do not have any memory constraints to work on our sufficiently small-sized `Facebook` or `Reddit` dataset, we can specify the `batch_size` parameter as `full` to use the entire graph as a single batch."
      ]
    },
    {
      "cell_type": "code",
      "execution_count": null,
      "metadata": {
        "id": "d76kgZBfaatw"
      },
      "outputs": [],
      "source": [
        "from typing import Literal, Optional, Union\n",
        "import torch\n",
        "from torch import Tensor\n",
        "from collections.abc import Iterator\n",
        "from torch_geometric.data import Data\n",
        "from torch_geometric.utils import k_hop_subgraph, to_edge_index\n",
        "from torch_geometric.transforms import ToSparseTensor\n",
        "\n",
        "\n",
        "class NodeDataLoader:\n",
        "    \"\"\" A fast dataloader for node-wise training.\n",
        "\n",
        "    We have three settings:\n",
        "    1. batch_size = 'full', hops = None\n",
        "        The entire graph is used as a single batch.\n",
        "    2. batch_size = int, hops = None\n",
        "        The entire graph is returned at every iteration with a new phase mask corresponding to the nodes in the batch.\n",
        "    3. batch_size = int, hops = int\n",
        "        The k-hop subgraph is returned at every iteration corresponding to the nodes in the batch.\n",
        "\n",
        "    Args:\n",
        "        data (Data): The graph data object.\n",
        "        subset (LongTensor or BoolTensor, optional): The subset of nodes to use for batching.\n",
        "            If set to None, all nodes are used. (default: None)\n",
        "        batch_size (int or 'full', optional): The batch size.\n",
        "            If set to 'full', the entire graph is used as a single batch.\n",
        "            (default: 'full')\n",
        "        hops (int, optional): The number of hops to sample neighbors.\n",
        "            If set to None, all neighbors are included. (default: None)\n",
        "        shuffle (bool, optional): If set to True, the nodes are shuffled\n",
        "            before batching. (default: True)\n",
        "        drop_last (bool, optional): If set to True, the last batch is\n",
        "            dropped if it is smaller than the batch size. (default: False)\n",
        "        poisson_sampling (bool, optional): If set to True, poisson sampling\n",
        "            is used to sample nodes. (default: False)\n",
        "    \"\"\"\n",
        "    def __init__(self,\n",
        "                 data: Data,\n",
        "                 subset: Optional[Tensor] = None,\n",
        "                 batch_size: Union[int, Literal['full']] = 'full',\n",
        "                 hops: Optional[int] = None,\n",
        "                 shuffle: bool = True,\n",
        "                 drop_last: bool = False,\n",
        "                 poisson_sampling: bool = False):\n",
        "\n",
        "        self.data = Data(**data.to_dict())\n",
        "        self.batch_size = batch_size\n",
        "        self.hops = hops\n",
        "        self.shuffle = shuffle\n",
        "        self.drop_last = drop_last\n",
        "        self.poisson_sampling = poisson_sampling\n",
        "        self.device = data.x.device\n",
        "\n",
        "        if subset is None:\n",
        "            self.node_indices = torch.arange(data.num_nodes, device=self.device)\n",
        "        else:\n",
        "            if subset.dtype == torch.bool:\n",
        "                self.node_indices = subset.nonzero().view(-1)\n",
        "            else:\n",
        "                self.node_indices = subset\n",
        "\n",
        "        self.num_nodes = self.node_indices.size(0)\n",
        "        self.is_sparse = hasattr(data, 'adj_t')\n",
        "\n",
        "    def __iter__(self) -> Iterator[Data]:\n",
        "        if self.batch_size == 'full':\n",
        "            self.data.batch_nodes = self.node_indices\n",
        "            yield self.data\n",
        "            return\n",
        "\n",
        "        if self.shuffle and not self.poisson_sampling:\n",
        "            perm = torch.randperm(self.num_nodes, device=self.device)\n",
        "            self.node_indices = self.node_indices[perm]\n",
        "\n",
        "        for i in range(0, self.num_nodes, self.batch_size):\n",
        "            if self.drop_last and i + self.batch_size > self.num_nodes:\n",
        "                break\n",
        "\n",
        "            if self.poisson_sampling:\n",
        "                sampling_prob = self.batch_size / self.num_nodes\n",
        "                sample_mask = torch.rand(self.num_nodes, device=self.device) < sampling_prob\n",
        "                batch_nodes = self.node_indices[sample_mask]\n",
        "            else:\n",
        "                batch_nodes = self.node_indices[i:i + self.batch_size]\n",
        "\n",
        "            if self.hops is None:\n",
        "                data = self.data\n",
        "                data.batch_nodes = batch_nodes\n",
        "            else:\n",
        "                if not hasattr(self, 'edge_index'):\n",
        "                    if self.is_sparse:\n",
        "                        self.edge_index, _ = to_edge_index(self.data.adj_t)\n",
        "                    else:\n",
        "                        self.edge_index = self.data.edge_index\n",
        "\n",
        "                subset, batch_edge_index, mapping, _ = k_hop_subgraph(\n",
        "                    node_idx=batch_nodes,\n",
        "                    num_hops=self.hops,\n",
        "                    edge_index=self.edge_index,\n",
        "                    relabel_nodes=True,\n",
        "                    num_nodes=self.data.num_nodes\n",
        "                )\n",
        "\n",
        "                data = Data(\n",
        "                    x=self.data.x[subset],\n",
        "                    y=self.data.y[subset],\n",
        "                    edge_index=batch_edge_index,\n",
        "                    batch_nodes=mapping,\n",
        "                )\n",
        "\n",
        "                if self.is_sparse:\n",
        "                    data = ToSparseTensor(layout=torch.sparse_csr)(data)\n",
        "\n",
        "            yield data\n",
        "\n",
        "    def __len__(self) -> int:\n",
        "        if self.batch_size == 'full':\n",
        "            return 1\n",
        "        elif self.drop_last:\n",
        "            return self.num_nodes // self.batch_size\n",
        "        else:\n",
        "            return (self.num_nodes + self.batch_size - 1) // self.batch_size"
      ]
    },
    {
      "cell_type": "markdown",
      "metadata": {
        "id": "DAYZge1sb5Ww"
      },
      "source": [
        "Now that the trainer and the model-interaction module, which are self-sufficient are defined, we define an abstract class that performs node-level classification on all graph data structures. This will automatically call upon `NodeDataLoader` that accesses the `train_mask`, 'val_mask` etc. to perform training in a node-wise manner and transductive setting."
      ]
    },
    {
      "cell_type": "code",
      "execution_count": null,
      "metadata": {
        "id": "cogfzY_TVS-b"
      },
      "outputs": [],
      "source": [
        "from abc import ABC, abstractmethod\n",
        "from typing import Annotated, Literal, Union\n",
        "from torch import Tensor\n",
        "from torch_geometric.data import Data\n",
        "#from core.data.loader.node import NodeDataLoader\n",
        "\n",
        "\n",
        "\n",
        "\n",
        "class NodeClassification(ABC):\n",
        "    def __init__(self,\n",
        "                 num_classes:      int,\n",
        "                 batch_size:       Annotated[Union[Literal['full'], int],\n",
        "                                                    ArgInfo(help='batch size, or \"full\" for full-batch training')] = 'full',\n",
        "                 full_batch_eval:  Annotated[bool,  ArgInfo(help='if true, then model uses full-batch evaluation')] = True,\n",
        "                 **trainer_args:   Annotated[dict,  ArgInfo(help='extra options passed to the trainer class', bases=[Trainer])]\n",
        "                 ):\n",
        "\n",
        "        self.num_classes = num_classes\n",
        "        self.batch_size = batch_size\n",
        "        self.full_batch_eval = full_batch_eval\n",
        "        self.trainer_args = trainer_args\n",
        "\n",
        "        self.data = None\n",
        "        self.classifier = self.configure_classifier()\n",
        "        self.trainer = self.configure_trainer()\n",
        "\n",
        "    def reset(self):\n",
        "        self.classifier.reset_parameters()\n",
        "        self.trainer = self.configure_trainer()\n",
        "        self.data = None\n",
        "\n",
        "    @abstractmethod\n",
        "    def configure_classifier(self) -> TrainableModule:\n",
        "        \"\"\"Configure the classifier module.\"\"\"\n",
        "\n",
        "    def configure_trainer(self) -> Trainer:\n",
        "        \"\"\"Configure the trainer\"\"\"\n",
        "        trainer = Trainer(**self.trainer_args)\n",
        "        return trainer\n",
        "\n",
        "    def setup(self, data: Data) -> None:\n",
        "        \"\"\"Setup method for the given data.\"\"\"\n",
        "        # with console.status('moving data to device'):\n",
        "        #     data = self.to_device(data)\n",
        "\n",
        "        self.data = Data(**data.to_dict())\n",
        "\n",
        "    def run(self, data: Data, fit: bool = True, test: bool = True) -> Metrics:\n",
        "        \"\"\"Setup the model for the given data, and run the training and testing procedures.\"\"\"\n",
        "        metrics = {}\n",
        "        self.setup(data)\n",
        "\n",
        "        if fit:\n",
        "            train_metrics = self.fit()\n",
        "            metrics.update(train_metrics)\n",
        "        if test:\n",
        "            test_metrics = self.test()\n",
        "            metrics.update(test_metrics)\n",
        "\n",
        "        return metrics\n",
        "\n",
        "    def fit(self) -> Metrics:\n",
        "        \"\"\"Fit the method to the given data.\"\"\"\n",
        "        metrics = self.trainer.fit(\n",
        "            model=self.classifier,\n",
        "            train_dataloader=self.data_loader('train'),\n",
        "            val_dataloader=self.data_loader('val'),\n",
        "            test_dataloader=self.data_loader('test')\n",
        "        )\n",
        "\n",
        "        return metrics\n",
        "\n",
        "    def test(self) -> Metrics:\n",
        "        \"\"\"Test the method on the given data.\"\"\"\n",
        "        return self.trainer.test(\n",
        "            dataloader=self.data_loader('test')\n",
        "        )\n",
        "\n",
        "    def predict(self) -> Tensor:\n",
        "        \"\"\"Predict output for the given data.\"\"\"\n",
        "        return self.trainer.predict(\n",
        "            dataloader=self.data_loader('predict'),\n",
        "        )\n",
        "\n",
        "    def data_loader(self, phase: Phase) -> NodeDataLoader:\n",
        "        \"\"\"Return a dataloader for the given phase.\"\"\"\n",
        "        batch_size = 'full' if (phase != 'train' and self.full_batch_eval) else self.batch_size\n",
        "        subset = self.data[f'{phase}_mask'] if phase != 'predict' else None\n",
        "        shuffle = phase == 'train'\n",
        "\n",
        "        dataloader = NodeDataLoader(\n",
        "            data=self.data,\n",
        "            subset=subset,\n",
        "            batch_size=batch_size,\n",
        "            shuffle=shuffle,\n",
        "            drop_last=phase == 'train',\n",
        "            poisson_sampling=False,\n",
        "        )\n",
        "\n",
        "        return dataloader\n",
        "\n",
        "    def to_device(self, data: Union[Data, Tensor]):\n",
        "        \"\"\"Move the data to the device.\"\"\"\n",
        "        return self.trainer.to_device(data)"
      ]
    },
    {
      "cell_type": "markdown",
      "metadata": {
        "id": "SZJKr35adUy6"
      },
      "source": [
        "### NON-PRIVATE NODE CLASSIFICATION METHOD : 1 (Multi-Layer Perceptron)\n"
      ]
    },
    {
      "cell_type": "code",
      "execution_count": null,
      "metadata": {
        "id": "qCJLrfA-dnGc"
      },
      "outputs": [],
      "source": [
        "from typing import Callable\n",
        "import torch\n",
        "from torch import Tensor\n",
        "from torch.nn import Dropout, ModuleList, BatchNorm1d, Module\n",
        "from torch_geometric.nn import Linear\n",
        "from opacus.grad_sample import register_grad_sampler, compute_linear_grad_sample\n",
        "\n",
        "\n",
        "@register_grad_sampler(Linear)\n",
        "def compute_lazy_linear_grad_sample(layer, activations, backprops):\n",
        "    return compute_linear_grad_sample(layer, activations, backprops)\n",
        "\n",
        "\n",
        "class MLP(Module):\n",
        "    \"\"\"\n",
        "    A multi-layer perceptron (MLP) model.\n",
        "    This implementation handles 0-layer configurations as well.\n",
        "    \"\"\"\n",
        "    def __init__(self, *,\n",
        "                 output_dim: int,\n",
        "                 hidden_dim: int = 16,\n",
        "                 num_layers: int = 2,\n",
        "                 dropout: float = 0.0,\n",
        "                 activation_fn: Callable[[Tensor], Tensor] = torch.relu_,\n",
        "                 batch_norm: bool = False,\n",
        "                 plain_last: bool = True,\n",
        "                 ):\n",
        "        super().__init__()\n",
        "        self.num_layers = num_layers\n",
        "        self.dropout_fn = Dropout(dropout, inplace=True)\n",
        "        self.activation_fn = activation_fn\n",
        "        self.plain_last = plain_last\n",
        "\n",
        "        dimensions = [hidden_dim] * (num_layers - 1) + [output_dim] * (num_layers > 0)\n",
        "        self.layers: list[Linear] = ModuleList([Linear(-1, dim) for dim in dimensions])\n",
        "\n",
        "        self.bns: list[BatchNorm1d] = []\n",
        "        if batch_norm:\n",
        "            self.bns = ModuleList([BatchNorm1d(hidden_dim) for _ in range(num_layers - 1)])\n",
        "            if not plain_last:\n",
        "                self.bns.append(BatchNorm1d(output_dim))\n",
        "\n",
        "    def forward(self, x: Tensor) -> Tensor:\n",
        "        for i, layer in enumerate(self.layers):\n",
        "            x = layer(x)\n",
        "            if i < self.num_layers - self.plain_last:\n",
        "                x = self.activation_fn(x)\n",
        "                x = self.bns[i](x) if self.bns else x\n",
        "                x = self.dropout_fn(x)\n",
        "        return x\n",
        "\n",
        "    def reset_parameters(self):\n",
        "        for layer in self.layers:\n",
        "            layer.reset_parameters()\n",
        "\n",
        "        for bn in self.bns:\n",
        "            bn.reset_parameters()"
      ]
    },
    {
      "cell_type": "code",
      "execution_count": null,
      "metadata": {
        "id": "shuBpDghVmSx"
      },
      "outputs": [],
      "source": [
        "from typing import Callable, Optional\n",
        "import torch\n",
        "from torch import Tensor\n",
        "import torch.nn.functional as F\n",
        "from torch_geometric.data import Data\n",
        "\n",
        "\n",
        "class MLPNodeClassifier(TrainableModule):\n",
        "    def __init__(self, *,\n",
        "                 num_classes: int,\n",
        "                 hidden_dim: int = 16,\n",
        "                 num_layers: int = 2,\n",
        "                 dropout: float = 0.0,\n",
        "                 activation_fn: Callable[[Tensor], Tensor] = torch.relu_,\n",
        "                 batch_norm: bool = False,\n",
        "                 **kwargs,\n",
        "                 ):\n",
        "\n",
        "        super().__init__(**kwargs)\n",
        "\n",
        "        self.model = MLP(\n",
        "            output_dim=num_classes,\n",
        "            hidden_dim=hidden_dim,\n",
        "            num_layers=num_layers,\n",
        "            dropout=dropout,\n",
        "            activation_fn=activation_fn,\n",
        "            batch_norm=batch_norm,\n",
        "            plain_last=True,\n",
        "        )\n",
        "\n",
        "    def forward(self, x: Tensor) -> Tensor:\n",
        "        return self.model(x)\n",
        "\n",
        "    def step(self, data: Data, phase: Phase) -> tuple[Optional[Tensor], Metrics]:\n",
        "        x, y = data.x[data.batch_nodes], data.y[data.batch_nodes]\n",
        "        preds = F.log_softmax(self(x), dim=-1)\n",
        "        acc = preds.detach().argmax(dim=1).eq(y).float().mean() * 100\n",
        "        metrics = {f'{phase}/acc': acc}\n",
        "\n",
        "        loss = None\n",
        "        if phase != 'test':\n",
        "            loss = F.nll_loss(input=preds, target=y)\n",
        "            metrics[f'{phase}/loss'] = loss.detach()\n",
        "\n",
        "        return loss, metrics\n",
        "\n",
        "    def predict(self, data: Data) -> Tensor:\n",
        "        h = self(data.x[data.batch_nodes])\n",
        "        return torch.softmax(h, dim=-1)\n",
        "\n",
        "    def reset_parameters(self):\n",
        "        return self.model.reset_parameters()"
      ]
    },
    {
      "cell_type": "code",
      "execution_count": null,
      "metadata": {
        "colab": {
          "base_uri": "https://localhost:8080/"
        },
        "id": "W789AqgWfZQz",
        "outputId": "48f61500-16c7-4a8a-f124-725e62a229b9"
      },
      "outputs": [
        {
          "name": "stdout",
          "output_type": "stream",
          "text": [
            "Data(x=[1120280, 537], y=[1120280], train_mask=[1120280], val_mask=[1120280], test_mask=[1120280], adj_t=[1120280, 1120280])\n"
          ]
        }
      ],
      "source": [
        "print(data)"
      ]
    },
    {
      "cell_type": "code",
      "execution_count": null,
      "metadata": {
        "colab": {
          "base_uri": "https://localhost:8080/"
        },
        "id": "MCogrXzxfdgK",
        "outputId": "6ea543b2-0e8a-4658-ed9a-88865144810d"
      },
      "outputs": [
        {
          "data": {
            "text/plain": [
              "tensor(5)"
            ]
          },
          "execution_count": 30,
          "metadata": {},
          "output_type": "execute_result"
        }
      ],
      "source": [
        "data.y.max()"
      ]
    },
    {
      "cell_type": "code",
      "execution_count": null,
      "metadata": {
        "id": "WUiLSrOjgRg6",
        "outputId": "ec09bdc1-35e0-422a-c9a3-835fb7afa109",
        "colab": {
          "base_uri": "https://localhost:8080/",
          "height": 386
        }
      },
      "outputs": [
        {
          "output_type": "error",
          "ename": "ModuleNotFoundError",
          "evalue": "No module named 'class_resolver'",
          "traceback": [
            "\u001b[0;31m---------------------------------------------------------------------------\u001b[0m",
            "\u001b[0;31mModuleNotFoundError\u001b[0m                       Traceback (most recent call last)",
            "\u001b[0;32m<ipython-input-1-cd09abc563a4>\u001b[0m in \u001b[0;36m<cell line: 2>\u001b[0;34m()\u001b[0m\n\u001b[1;32m      1\u001b[0m \u001b[0;32mfrom\u001b[0m \u001b[0mtyping\u001b[0m \u001b[0;32mimport\u001b[0m \u001b[0mAnnotated\u001b[0m\u001b[0;34m\u001b[0m\u001b[0;34m\u001b[0m\u001b[0m\n\u001b[0;32m----> 2\u001b[0;31m \u001b[0;32mfrom\u001b[0m \u001b[0mclass_resolver\u001b[0m\u001b[0;34m.\u001b[0m\u001b[0mcontrib\u001b[0m\u001b[0;34m.\u001b[0m\u001b[0mtorch\u001b[0m \u001b[0;32mimport\u001b[0m \u001b[0mactivation_resolver\u001b[0m\u001b[0;34m\u001b[0m\u001b[0;34m\u001b[0m\u001b[0m\n\u001b[0m\u001b[1;32m      3\u001b[0m \u001b[0;34m\u001b[0m\u001b[0m\n\u001b[1;32m      4\u001b[0m \u001b[0;32mclass\u001b[0m \u001b[0mSimpleMLP\u001b[0m \u001b[0;34m(\u001b[0m\u001b[0mNodeClassification\u001b[0m\u001b[0;34m)\u001b[0m\u001b[0;34m:\u001b[0m\u001b[0;34m\u001b[0m\u001b[0;34m\u001b[0m\u001b[0m\n\u001b[1;32m      5\u001b[0m     \u001b[0;34m\"\"\"Non-private MLP method\"\"\"\u001b[0m\u001b[0;34m\u001b[0m\u001b[0;34m\u001b[0m\u001b[0m\n",
            "\u001b[0;31mModuleNotFoundError\u001b[0m: No module named 'class_resolver'",
            "",
            "\u001b[0;31m---------------------------------------------------------------------------\u001b[0;32m\nNOTE: If your import is failing due to a missing package, you can\nmanually install dependencies using either !pip or !apt.\n\nTo view examples of installing some common dependencies, click the\n\"Open Examples\" button below.\n\u001b[0;31m---------------------------------------------------------------------------\u001b[0m\n"
          ],
          "errorDetails": {
            "actions": [
              {
                "action": "open_url",
                "actionText": "Open Examples",
                "url": "/notebooks/snippets/importing_libraries.ipynb"
              }
            ]
          }
        }
      ],
      "source": [
        "from typing import Annotated\n",
        "from class_resolver.contrib.torch import activation_resolver\n",
        "\n",
        "class SimpleMLP (NodeClassification):\n",
        "    \"\"\"Non-private MLP method\"\"\"\n",
        "\n",
        "    def __init__(self,\n",
        "                 num_classes,\n",
        "                 hidden_dim:      Annotated[int,   ArgInfo(help='dimension of the hidden layers')] = 16,\n",
        "                 num_layers:      Annotated[int,   ArgInfo(help='number of MLP layers')] = 2,\n",
        "                 activation:      Annotated[str,   ArgInfo(help='type of activation function', choices=['relu', 'selu', 'tanh'])] = 'selu',\n",
        "                 dropout:         Annotated[float, ArgInfo(help='dropout rate')] = 0.0,\n",
        "                 batch_norm:      Annotated[bool,  ArgInfo(help='if true, then model uses batch normalization')] = True,\n",
        "                 optimizer:       Annotated[str,   ArgInfo(help='optimization algorithm', choices=['sgd', 'adam'])] = 'adam',\n",
        "                 learning_rate:   Annotated[float, ArgInfo(help='learning rate', option='--lr')] = 0.01,\n",
        "                 weight_decay:    Annotated[float, ArgInfo(help='weight decay (L2 penalty)')] = 0.0,\n",
        "                 **kwargs:        Annotated[dict,  ArgInfo(help='extra options passed to base class', bases=[NodeClassification])]\n",
        "                 ):\n",
        "\n",
        "        self.num_classes = num_classes\n",
        "        self.hidden_dim = hidden_dim\n",
        "        self.num_layers = num_layers\n",
        "        self.activation = activation\n",
        "        self.dropout = dropout\n",
        "        self.batch_norm = batch_norm\n",
        "        self.optimizer = optimizer\n",
        "        self.learning_rate = learning_rate\n",
        "        self.weight_decay = weight_decay\n",
        "\n",
        "        super().__init__(num_classes, **kwargs)\n",
        "\n",
        "    def configure_classifier(self) -> TrainableModule:\n",
        "        return MLPNodeClassifier(\n",
        "            num_classes=self.num_classes,\n",
        "            hidden_dim=self.hidden_dim,\n",
        "            num_layers=self.num_layers,\n",
        "            activation_fn=activation_resolver.make(self.activation),\n",
        "            dropout=self.dropout,\n",
        "            batch_norm=self.batch_norm,\n",
        "            optimizer=self.optimizer,\n",
        "            learning_rate=self.learning_rate,\n",
        "            weight_decay=self.weight_decay,\n",
        "        )"
      ]
    },
    {
      "cell_type": "code",
      "execution_count": null,
      "metadata": {
        "id": "28UWYVapidiF"
      },
      "outputs": [],
      "source": [
        "#--dataset facebook --hidden_dim 16 --activation selu --optimizer adam --learning_rate 0.01 --repeats 10 --epochs 100 --batch_size full --verbose False --base_layers 1 --head_layers 1 --jk cat --depth 1 --layerwise False --logger wandb --project ProGAP"
      ]
    },
    {
      "cell_type": "code",
      "execution_count": null,
      "metadata": {
        "colab": {
          "base_uri": "https://localhost:8080/",
          "height": 87,
          "referenced_widgets": [
            "e629fa88b5f043a6aa6d935d5da48ba8",
            "7de337c84a3640a68c3c50c859b8a780"
          ]
        },
        "id": "IBfbimLag77k",
        "outputId": "f27f78f2-131f-4c39-f0b3-dc3ed8598ffc"
      },
      "outputs": [
        {
          "data": {
            "application/vnd.jupyter.widget-view+json": {
              "model_id": "e629fa88b5f043a6aa6d935d5da48ba8",
              "version_major": 2,
              "version_minor": 0
            },
            "text/plain": [
              "Output()"
            ]
          },
          "metadata": {},
          "output_type": "display_data"
        },
        {
          "data": {
            "text/html": [
              "<pre style=\"white-space:pre;overflow-x:auto;line-height:normal;font-family:Menlo,'DejaVu Sans Mono',consolas,'Courier New',monospace\"></pre>\n"
            ],
            "text/plain": []
          },
          "metadata": {},
          "output_type": "display_data"
        },
        {
          "data": {
            "text/html": [
              "<pre style=\"white-space:pre;overflow-x:auto;line-height:normal;font-family:Menlo,'DejaVu Sans Mono',consolas,'Courier New',monospace\">\n",
              "</pre>\n"
            ],
            "text/plain": [
              "\n"
            ]
          },
          "metadata": {},
          "output_type": "display_data"
        },
        {
          "name": "stdout",
          "output_type": "stream",
          "text": [
            "{'epoch': 79, 'train/acc': tensor(35.4878), 'train/loss': tensor(1.4758), 'val/acc': tensor(34.6386), 'val/loss': tensor(1.4829), 'test/acc': tensor(34.9495)}\n"
          ]
        }
      ],
      "source": [
        "# Instantiate the SimpleMLP model with the desired number of classes and other parameters\n",
        "num_classes = data.y.max() + 1\n",
        "model = SimpleMLP(num_classes= num_classes, hidden_dim=16, num_layers=2, activation='selu', dropout=0.0, batch_norm=True, optimizer='adam', learning_rate=0.01, weight_decay=0.0)\n",
        "\n",
        "# Train the model on the data\n",
        "metrics_base_mlp = model.run(data, fit=True, test=True)\n",
        "\n",
        "# Print the metrics\n",
        "print(metrics_base_mlp)"
      ]
    },
    {
      "cell_type": "markdown",
      "metadata": {
        "id": "5rMnCSDjFsMu"
      },
      "source": [
        "#### Running baseline model for Reddit data :"
      ]
    },
    {
      "cell_type": "code",
      "execution_count": null,
      "metadata": {
        "colab": {
          "base_uri": "https://localhost:8080/",
          "height": 87,
          "referenced_widgets": [
            "1099b26d1696436a9a48017562acad8d",
            "d093526d7989486d9500b32fb6bf6ad8"
          ]
        },
        "id": "p4AWu_wNEpNq",
        "outputId": "75b4dfe0-fa61-4c8a-96d2-28ff088f591e"
      },
      "outputs": [
        {
          "data": {
            "application/vnd.jupyter.widget-view+json": {
              "model_id": "1099b26d1696436a9a48017562acad8d",
              "version_major": 2,
              "version_minor": 0
            },
            "text/plain": [
              "Output()"
            ]
          },
          "metadata": {},
          "output_type": "display_data"
        },
        {
          "data": {
            "text/html": [
              "<pre style=\"white-space:pre;overflow-x:auto;line-height:normal;font-family:Menlo,'DejaVu Sans Mono',consolas,'Courier New',monospace\"></pre>\n"
            ],
            "text/plain": []
          },
          "metadata": {},
          "output_type": "display_data"
        },
        {
          "data": {
            "text/html": [
              "<pre style=\"white-space:pre;overflow-x:auto;line-height:normal;font-family:Menlo,'DejaVu Sans Mono',consolas,'Courier New',monospace\">\n",
              "</pre>\n"
            ],
            "text/plain": [
              "\n"
            ]
          },
          "metadata": {},
          "output_type": "display_data"
        },
        {
          "name": "stdout",
          "output_type": "stream",
          "text": [
            "{'epoch': 97, 'train/acc': tensor(84.0992), 'train/loss': tensor(0.4731), 'val/acc': tensor(81.9710), 'val/loss': tensor(0.5501), 'test/acc': tensor(82.2602)}\n"
          ]
        }
      ],
      "source": [
        "# Instantiate the SimpleMLP model with the desired number of classes and other parameters\n",
        "num_classes_reddit = reddit_data.y.max() + 1\n",
        "model = SimpleMLP(num_classes= num_classes_reddit, hidden_dim=16, num_layers=2, activation='selu', dropout=0.0, batch_norm=True, optimizer='adam', learning_rate=0.01, weight_decay=0.0)\n",
        "\n",
        "# Train the model on the data\n",
        "metrics_base_mlp_reddit = model.run(reddit_data, fit=True, test=True)\n",
        "\n",
        "# Print the metrics\n",
        "print(metrics_base_mlp_reddit)"
      ]
    },
    {
      "cell_type": "markdown",
      "metadata": {
        "id": "UGl8YophqcI5"
      },
      "source": [
        "Now that we have the first baseline, let's establish the second baseline for non-private setting.\n",
        "\n",
        "NON-PRIVATE NODE CLASSIFICATION METHOD : 2 (GraphSAGE)"
      ]
    },
    {
      "cell_type": "code",
      "execution_count": null,
      "metadata": {
        "id": "wy8MxMJFiuIU"
      },
      "outputs": [],
      "source": [
        "from torch_geometric.nn import GraphSAGE, GCN, GAT\n",
        "\n",
        "\n",
        "class GNN(Module):\n",
        "    \"\"\"\n",
        "    A flexible GNN model.\n",
        "    This implementation supports plain_last option.\n",
        "    \"\"\"\n",
        "    def __init__(self, *,\n",
        "                 conv: str,\n",
        "                 output_dim: int,\n",
        "                 hidden_dim: int = 16,\n",
        "                 num_layers: int = 2,\n",
        "                 dropout: float = 0.0,\n",
        "                 activation_fn: Callable[[Tensor], Tensor] = torch.relu_,\n",
        "                 batch_norm: bool = False,\n",
        "                 jk: str = None,\n",
        "                 plain_last: bool = True,\n",
        "                 **conv_kwargs\n",
        "                 ):\n",
        "\n",
        "        super().__init__()\n",
        "\n",
        "        model_kwargs = dict(\n",
        "            in_channels=-1,\n",
        "            hidden_channels=hidden_dim,\n",
        "            out_channels=output_dim,\n",
        "            num_layers=num_layers,\n",
        "            act=activation_fn,\n",
        "            dropout=dropout,\n",
        "            norm='batchnorm' if batch_norm else None,\n",
        "            jk=jk,\n",
        "        )\n",
        "\n",
        "        if conv == 'sage':\n",
        "            self.model = GraphSAGE(\n",
        "                project=False,\n",
        "                **model_kwargs,\n",
        "                **conv_kwargs,\n",
        "            )\n",
        "        elif conv == 'gcn':\n",
        "            self.model = GCN(\n",
        "                **model_kwargs,\n",
        "                **conv_kwargs,\n",
        "            )\n",
        "        elif conv == 'gat':\n",
        "            self.model = GAT(\n",
        "                **model_kwargs,\n",
        "                **conv_kwargs,\n",
        "            )\n",
        "        else:\n",
        "            raise NotImplementedError(f'Unknown conv type: {conv}')\n",
        "\n",
        "        self.dropout_fn = Dropout(dropout, inplace=True)\n",
        "        self.activation_fn = activation_fn\n",
        "        self.batch_norm = batch_norm\n",
        "        self.plain_last = plain_last\n",
        "        if not plain_last and batch_norm:\n",
        "            self.bn = BatchNorm1d(output_dim)\n",
        "\n",
        "    def forward(self, x: Tensor, adj_t: Tensor) -> Tensor:\n",
        "        x = self.model(x, adj_t)\n",
        "        if not self.plain_last:\n",
        "            x = self.bn(x) if self.batch_norm else x\n",
        "            x = self.dropout_fn(x)\n",
        "            x = self.activation_fn(x)\n",
        "        return x\n",
        "\n",
        "    def reset_parameters(self):\n",
        "        self.model.reset_parameters()\n",
        "        if hasattr(self, 'bn'):\n",
        "            self.bn.reset_parameters()"
      ]
    },
    {
      "cell_type": "code",
      "execution_count": null,
      "metadata": {
        "id": "mil3OjCdsoF6"
      },
      "outputs": [],
      "source": [
        "class MultiMLP(Module):\n",
        "    CombType = Literal['cat', 'sum', 'max', 'mean', 'att']\n",
        "    supported_combinations = get_args(CombType)\n",
        "\n",
        "    def __init__(self, *,\n",
        "                 num_channels: int,\n",
        "                 output_dim: int,\n",
        "                 hidden_dim: int = 16,\n",
        "                 base_layers: int = 2,\n",
        "                 head_layers: int = 1,\n",
        "                 combination: CombType = 'cat',\n",
        "                 activation_fn: Callable[[Tensor], Tensor] = torch.relu_,\n",
        "                 dropout: float = 0.0,\n",
        "                 batch_norm: bool = False,\n",
        "                 plain_last: bool = True,\n",
        "                 ):\n",
        "\n",
        "        super().__init__()\n",
        "\n",
        "        self.combination = combination\n",
        "        self.activation_fn = activation_fn\n",
        "        self.dropout_fn = Dropout(dropout, inplace=True)\n",
        "\n",
        "        self.base_mlps: list[MLP] = ModuleList([\n",
        "            MLP(\n",
        "                hidden_dim=hidden_dim,\n",
        "                output_dim=hidden_dim,\n",
        "                num_layers=base_layers,\n",
        "                dropout=dropout,\n",
        "                activation_fn=activation_fn,\n",
        "                batch_norm=batch_norm,\n",
        "                plain_last=True,\n",
        "            ) for _ in range(num_channels)]\n",
        "        )\n",
        "\n",
        "        if combination == 'att':\n",
        "            self.hidden_dim = hidden_dim\n",
        "            self.num_heads = num_channels\n",
        "            self.Q = Linear(in_features=hidden_dim, out_features=self.num_heads, bias=False)\n",
        "\n",
        "        self.bn = LazyBatchNorm1d() if batch_norm else False\n",
        "\n",
        "        self.head_mlp = MLP(\n",
        "            output_dim=output_dim,\n",
        "            hidden_dim=hidden_dim,\n",
        "            num_layers=head_layers,\n",
        "            dropout=dropout,\n",
        "            activation_fn=activation_fn,\n",
        "            batch_norm=batch_norm,\n",
        "            plain_last=plain_last,\n",
        "        )\n",
        "\n",
        "    def forward(self, x_stack: Tensor) -> Tensor:\n",
        "        x_stack = x_stack.permute(2, 0, 1) # (hop, node, input_dim)\n",
        "        h_list = [mlp(x) for x, mlp in zip(x_stack, self.base_mlps)]\n",
        "        h = self.combine(h_list)\n",
        "        h = F.normalize(h, p=2, dim=-1)\n",
        "        h = self.bn(h) if self.bn else h\n",
        "        h = self.dropout_fn(h)\n",
        "        h = self.activation_fn(h)\n",
        "        h = self.head_mlp(h)\n",
        "        return h\n",
        "\n",
        "    def combine(self, h_list: Iterable[Tensor]) -> Tensor:\n",
        "        if self.combination == 'cat':\n",
        "            return torch.cat(h_list, dim=-1)\n",
        "        elif self.combination == 'sum':\n",
        "            return torch.stack(h_list, dim=0).sum(dim=0)\n",
        "        elif self.combination == 'mean':\n",
        "            return torch.stack(h_list, dim=0).mean(dim=0)\n",
        "        elif self.combination == 'max':\n",
        "            return torch.stack(h_list, dim=0).max(dim=0).values\n",
        "        elif self.combination == 'att':\n",
        "            H = torch.stack(h_list, dim=1)  # (node, hop, dim)\n",
        "            W = F.leaky_relu(self.Q(H), 0.2).softmax(dim=0)  # (node, hop, head)\n",
        "            out = H.transpose(1, 2).matmul(W).view(-1, self.hidden_dim * self.num_heads)\n",
        "            return out\n",
        "        else:\n",
        "            raise ValueError(f'Unknown combination type {self.combination}')\n",
        "\n",
        "    def reset_parameters(self):\n",
        "        for mlp in self.base_mlps: mlp.reset_parameters()\n",
        "        if self.combination == 'att':\n",
        "            self.Q.reset_parameters()\n",
        "        if self.bn: self.bn.reset_parameters()\n",
        "        self.head_mlp.reset_parameters()"
      ]
    },
    {
      "cell_type": "code",
      "execution_count": null,
      "metadata": {
        "id": "Mjui5C0vte0V"
      },
      "outputs": [],
      "source": [
        "from torch.nn import Module, MultiheadAttention\n",
        "from torch_geometric.nn import JumpingKnowledge as JK, Linear\n",
        "\n",
        "\n",
        "class SelfAttention(MultiheadAttention):\n",
        "    def forward(self, xs: Tensor) -> Tensor:\n",
        "        \"\"\"forward propagation\n",
        "\n",
        "        Args:\n",
        "            xs (Tensor): input with shape (batch_size, hidden_dim, num_phases)\n",
        "\n",
        "        Returns:\n",
        "            Tensor: output tensor with size (num_nodes, hidden_dim)\n",
        "        \"\"\"\n",
        "        x = xs.transpose(2, int(self.batch_first))\n",
        "        out: Tensor = super().forward(x, x, x, need_weights=True)[0]\n",
        "        return out.mean(dim=int(self.batch_first))\n",
        "\n",
        "    def reset_parameters(self):\n",
        "        super()._reset_parameters()\n",
        "\n",
        "\n",
        "class WeightedSum(Module):\n",
        "    def __init__(self, hidden_dim: int, num_heads: int):\n",
        "        super().__init__()\n",
        "        self.hidden_dim = hidden_dim\n",
        "        self.num_heads = num_heads\n",
        "        self.Q = Linear(in_channels=hidden_dim, out_channels=num_heads, bias=False)\n",
        "\n",
        "        if num_heads > 1:\n",
        "            self.fc = Linear(in_channels=num_heads, out_channels=1, bias=False)\n",
        "\n",
        "    def forward(self, xs: Tensor) -> Tensor:\n",
        "        \"\"\"forward propagation\n",
        "\n",
        "        Args:\n",
        "            xs (Tensor): input with shape (batch_size, hidden_dim, num_phases)\n",
        "\n",
        "        Returns:\n",
        "            Tensor: output tensor with size (num_nodes, hidden_dim)\n",
        "        \"\"\"\n",
        "        H = xs.transpose(1, 2)  # (node, hop, dim)\n",
        "        W = self.Q(H).softmax(dim=1)  # (node, hop, head)\n",
        "        Z = H.transpose(1, 2).matmul(W)\n",
        "\n",
        "        if self.num_heads > 1:\n",
        "            Z = self.fc(Z)\n",
        "\n",
        "        return Z.squeeze(-1)\n",
        "\n",
        "    def reset_parameters(self):\n",
        "        self.Q.reset_parameters()\n",
        "        if self.num_heads > 1:\n",
        "            self.fc.reset_parameters()\n",
        "\n",
        "\n",
        "class JumpingKnowledge(Module):\n",
        "    supported_modes = ['cat', 'max', 'lstm', 'sum', 'mean', 'attn', 'wsum']\n",
        "    def __init__(self, mode: str, **kwargs):\n",
        "        super().__init__()\n",
        "        self.mode = mode\n",
        "        if mode == 'attn':\n",
        "            self.hidden_dim = kwargs['hidden_dim']\n",
        "            self.num_heads = kwargs['num_heads']\n",
        "            self.attn = SelfAttention(self.hidden_dim, num_heads=self.num_heads, batch_first=True)\n",
        "        elif mode == 'wsum':\n",
        "            self.hidden_dim = kwargs['hidden_dim']\n",
        "            self.num_heads = kwargs['num_heads']\n",
        "            self.wsum = WeightedSum(self.hidden_dim, num_heads=self.num_heads)\n",
        "        elif mode == 'lstm':\n",
        "            self.lstm = JK(mode='lstm', **kwargs)\n",
        "\n",
        "    def forward(self, xs: Tensor) -> Tensor:\n",
        "        \"\"\"forward propagation\n",
        "\n",
        "        Args:\n",
        "            xs (Tensor): input with shape (batch_size, hidden_dim, num_phases)\n",
        "\n",
        "        Returns:\n",
        "            Tensor: aggregated output with shape (batch_size, hidden_dim)\n",
        "        \"\"\"\n",
        "        if self.mode == 'cat':\n",
        "            return xs.transpose(1,2).reshape(xs.size(0), -1)\n",
        "        elif self.mode == 'sum':\n",
        "            return xs.sum(dim=-1)\n",
        "        elif self.mode == 'mean':\n",
        "            return xs.mean(dim=-1)\n",
        "        elif self.mode == 'max':\n",
        "            return xs.max(dim=-1)[0]\n",
        "        elif self.mode == 'attn':\n",
        "            return self.attn(xs)\n",
        "        elif self.mode == 'wsum':\n",
        "            return self.wsum(xs)\n",
        "        elif self.mode == 'lstm':\n",
        "            return self.lstm(xs.unbind(dim=-1))\n",
        "        else:\n",
        "            raise NotImplementedError(f'Unsupported JK mode: {self.mode}')\n",
        "\n",
        "    def reset_parameters(self):\n",
        "        for module in self.children():\n",
        "            module.reset_parameters()"
      ]
    },
    {
      "cell_type": "markdown",
      "metadata": {
        "id": "JB1Dh6zbtmE3"
      },
      "source": [
        "he above modules will be used as single layers (part of a larger architecture) in our process of node classification. We ensure learnability and at the same time, ensure epsilon-Differential Privacy."
      ]
    },
    {
      "cell_type": "code",
      "execution_count": null,
      "metadata": {
        "id": "tv-OiLOVtjM8"
      },
      "outputs": [],
      "source": [
        "class GNNNodeClassifier(TrainableModule):\n",
        "    def __init__(self, *,\n",
        "                 num_classes: int,\n",
        "                 hidden_dim: int = 16,\n",
        "                 base_layers: int = 1,\n",
        "                 mp_layers: int = 2,\n",
        "                 head_layers: int = 0,\n",
        "                 conv: str = 'sage',\n",
        "                 conv_kwargs: dict = {},\n",
        "                 jk: str = None,\n",
        "                 activation_fn: Callable[[Tensor], Tensor] = torch.relu_,\n",
        "                 dropout: float = 0.0,\n",
        "                 batch_norm: bool = False,\n",
        "                 **kwargs\n",
        "                 ):\n",
        "\n",
        "        assert mp_layers > 0, 'Must have at least one message passing layer'\n",
        "\n",
        "        super().__init__(**kwargs)\n",
        "\n",
        "        self.base_mlp = MLP(\n",
        "            hidden_dim=hidden_dim,\n",
        "            output_dim=hidden_dim,\n",
        "            num_layers=base_layers,\n",
        "            activation_fn=activation_fn,\n",
        "            dropout=dropout,\n",
        "            batch_norm=batch_norm,\n",
        "            plain_last=False,\n",
        "        )\n",
        "# Defining message passing layer (individual)\n",
        "        self.gnn = GNN(\n",
        "            conv=conv,\n",
        "            output_dim=num_classes if head_layers == 0 else hidden_dim,\n",
        "            hidden_dim=hidden_dim,\n",
        "            num_layers=mp_layers,\n",
        "            dropout=dropout,\n",
        "            jk=jk,\n",
        "            activation_fn=activation_fn,\n",
        "            batch_norm=batch_norm,\n",
        "            plain_last=head_layers == 0,\n",
        "            **conv_kwargs,\n",
        "        )\n",
        "\n",
        "# Defining classification Head\n",
        "        self.head_mlp = MLP(\n",
        "            hidden_dim=hidden_dim,\n",
        "            output_dim=num_classes,\n",
        "            num_layers=head_layers,\n",
        "            activation_fn=activation_fn,\n",
        "            dropout=dropout,\n",
        "            batch_norm=batch_norm,\n",
        "            plain_last=True,\n",
        "        )\n",
        "\n",
        "    def forward(self, x: Tensor, adj_t: Tensor) -> Tensor:\n",
        "        x = self.base_mlp(x)\n",
        "        x = self.gnn(x, adj_t)\n",
        "        x = self.head_mlp(x)\n",
        "        return x\n",
        "\n",
        "    def step(self, data: Data, phase: Phase) -> tuple[Optional[Tensor], Metrics]:\n",
        "        h = self(data.x, data.adj_t)\n",
        "        h, y = h[data.batch_nodes], data.y[data.batch_nodes]\n",
        "        preds = F.log_softmax(h, dim=-1)\n",
        "        acc = preds.detach().argmax(dim=1).eq(y).float().mean() * 100\n",
        "        metrics = {f'{phase}/acc': acc}\n",
        "\n",
        "        loss = None\n",
        "        if phase != 'test':\n",
        "            loss = F.nll_loss(input=preds, target=y)\n",
        "            metrics[f'{phase}/loss'] = loss.detach()\n",
        "\n",
        "        return loss, metrics\n",
        "\n",
        "    def predict(self, data: Data) -> Tensor:\n",
        "        h = self(data.x, data.adj_t)[data.batch_nodes]\n",
        "        return torch.softmax(h, dim=-1)\n",
        "\n",
        "    def reset_parameters(self):\n",
        "        self.base_mlp.reset_parameters()\n",
        "        self.gnn.reset_parameters()\n",
        "        self.head_mlp.reset_parameters()"
      ]
    },
    {
      "cell_type": "code",
      "execution_count": null,
      "metadata": {
        "id": "lDtSEl_its3k"
      },
      "outputs": [],
      "source": [
        "from class_resolver.contrib.torch import activation_resolver\n",
        "class StandardGNN (NodeClassification):\n",
        "    \"\"\"Non-private GNN method\"\"\"\n",
        "\n",
        "    def __init__(self,\n",
        "                 num_classes,\n",
        "                 conv:                  Annotated[str,   ArgInfo(help='type of convolution layer', choices=['sage', 'gcn', 'gin', 'gat'])] = 'sage',\n",
        "                 hidden_dim:            Annotated[int,   ArgInfo(help='dimension of the hidden layers')] = 16,\n",
        "                 base_layers:           Annotated[int,   ArgInfo(help='number of base MLP layers')] = 1,\n",
        "                 mp_layers:             Annotated[int,   ArgInfo(help='number of message passing layers')] = 2,\n",
        "                 head_layers:           Annotated[int,   ArgInfo(help='number of head MLP layers')] = 1,\n",
        "                 activation:            Annotated[str,   ArgInfo(help='type of activation function', choices=['relu', 'selu', 'tanh'])] = 'selu',\n",
        "                 dropout:               Annotated[float, ArgInfo(help='dropout rate')] = 0.0,\n",
        "                 batch_norm:            Annotated[bool,  ArgInfo(help='if true, then model uses batch normalization')] = True,\n",
        "                 jk:                    Annotated[str,   ArgInfo(help='the jumping knowledge mode.', choices=[\"last\", \"cat\", \"max\", \"lstm\"])] = 'cat',\n",
        "                 # sage args\n",
        "                 sage_aggr:             Annotated[str,   ArgInfo(help='SAGE: type of aggregation function', choices=['mean', 'sum', 'max', 'lstm'])] = 'mean',\n",
        "                 sage_root_weight:      Annotated[bool,  ArgInfo(help='SAGE: if true, will add transformed root node features to the output')] = True,\n",
        "                 sage_normalize:        Annotated[bool,  ArgInfo(help='SAGE: if true, output features will be L2-normalized')] = True,\n",
        "                 # gcn args\n",
        "                 gcn_improved:          Annotated[bool,  ArgInfo(help='GCN: if true, will use improved version')] = False,\n",
        "                 gcn_add_self_loops:    Annotated[bool,  ArgInfo(help='GCN: if true, will add self loops to the adjacency matrix')] = True,\n",
        "                 gcn_cached:            Annotated[bool,  ArgInfo(help='GCN: if true, will cache the normalized adjacency matrix')] = True,\n",
        "                 gcn_normalize:         Annotated[bool,  ArgInfo(help='GCN: whether to add self-loops and compute symmetric normalization coefficients on the fly')] = True,\n",
        "                 # gat args\n",
        "                 gat_heads:             Annotated[int,   ArgInfo(help='GAT: number of attention heads')] = 1,\n",
        "                 gat_concat:            Annotated[bool,  ArgInfo(help='GAT: if true, will concatenate multi-head attentions; otherwise, will average them')] = True,\n",
        "                 gat_negative_slope:    Annotated[float, ArgInfo(help='GAT: negative slope of the leaky relu activation')] = 0.2,\n",
        "                 gat_add_self_loops:    Annotated[bool,  ArgInfo(help='GAT: if true, will add self loops to the adjacency matrix')] = True,\n",
        "                 # optimizer args\n",
        "                 optimizer:             Annotated[str,   ArgInfo(help='optimization algorithm', choices=['sgd', 'adam'])] = 'adam',\n",
        "                 learning_rate:         Annotated[float, ArgInfo(help='learning rate', option='--lr')] = 0.01,\n",
        "                 weight_decay:          Annotated[float, ArgInfo(help='weight decay (L2 penalty)')] = 0.0,\n",
        "                 **kwargs:              Annotated[dict,  ArgInfo(help='extra options passed to base class', bases=[NodeClassification])]\n",
        "                 ):\n",
        "\n",
        "        assert mp_layers >= 1, 'number of message-passing layers must be at least 1'\n",
        "\n",
        "        self.num_classes = num_classes\n",
        "        self.conv = conv\n",
        "        self.hidden_dim = hidden_dim\n",
        "        self.base_layers = base_layers\n",
        "        self.mp_layers = mp_layers\n",
        "        self.head_layers = head_layers\n",
        "        self.activation_fn = activation_resolver.make(activation)\n",
        "        self.dropout = dropout\n",
        "        self.batch_norm = batch_norm\n",
        "        self.jk = jk\n",
        "        self.optimizer = optimizer\n",
        "        self.learning_rate = learning_rate\n",
        "        self.weight_decay = weight_decay\n",
        "\n",
        "        if self.conv == 'sage':\n",
        "            self.conv_kwargs = {\n",
        "                'aggr': sage_aggr,\n",
        "                'root_weight': sage_root_weight,\n",
        "                'normalize': sage_normalize,\n",
        "            }\n",
        "        elif self.conv == 'gcn':\n",
        "            self.conv_kwargs = {\n",
        "                'improved': gcn_improved,\n",
        "                'add_self_loops': gcn_add_self_loops,\n",
        "                'cached': gcn_cached,\n",
        "                'normalize': gcn_normalize,\n",
        "            }\n",
        "        elif self.conv == 'gat':\n",
        "            self.conv_kwargs = {\n",
        "                'heads': gat_heads,\n",
        "                'concat': gat_concat,\n",
        "                'negative_slope': gat_negative_slope,\n",
        "                'add_self_loops': gat_add_self_loops,\n",
        "            }\n",
        "\n",
        "        super().__init__(num_classes, **kwargs)\n",
        "\n",
        "    def configure_classifier(self) -> TrainableModule:\n",
        "        return GNNNodeClassifier(\n",
        "            hidden_dim=self.hidden_dim,\n",
        "            num_classes=self.num_classes,\n",
        "            base_layers=self.base_layers,\n",
        "            mp_layers=self.mp_layers,\n",
        "            head_layers=self.head_layers,\n",
        "            conv=self.conv,\n",
        "            conv_kwargs=self.conv_kwargs,\n",
        "            activation_fn=self.activation_fn,\n",
        "            dropout=self.dropout,\n",
        "            batch_norm=self.batch_norm,\n",
        "            jk=self.jk,\n",
        "            optimizer=self.optimizer,\n",
        "            learning_rate=self.learning_rate,\n",
        "            weight_decay=self.weight_decay,\n",
        "        )"
      ]
    },
    {
      "cell_type": "code",
      "execution_count": null,
      "metadata": {
        "id": "AHnPm6chu7kX"
      },
      "outputs": [],
      "source": [
        "#pip install wandb"
      ]
    },
    {
      "cell_type": "code",
      "execution_count": null,
      "metadata": {
        "colab": {
          "background_save": true,
          "base_uri": "https://localhost:8080/",
          "height": 70
        },
        "id": "NUdHFtFTuKVJ",
        "outputId": "5aca260b-4a20-4a15-bc0b-4cf51e250cb9"
      },
      "outputs": [
        {
          "data": {
            "text/html": [
              "<pre style=\"white-space:pre;overflow-x:auto;line-height:normal;font-family:Menlo,'DejaVu Sans Mono',consolas,'Courier New',monospace\">                  <span style=\"color: #008000; text-decoration-color: #008000\">⠼</span> overal progress <span style=\"color: #008080; text-decoration-color: #008080\"> 99</span>/<span style=\"color: #008080; text-decoration-color: #008080\">100</span> epochs <span style=\"color: #f92672; text-decoration-color: #f92672\">━━━━━━━━━━━━━━━━━━━━━━━━━━━━━━━━━━━━━━━╸</span> <span style=\"color: #008080; text-decoration-color: #008080\"> 99</span>% <span style=\"color: #808000; text-decoration-color: #808000\">0:26:23</span>           \n",
              "                    train/acc: <span style=\"color: #008080; text-decoration-color: #008080; font-weight: bold\">60.425</span> train/loss: <span style=\"color: #008080; text-decoration-color: #008080; font-weight: bold\">1.039</span>  val/acc: <span style=\"color: #008080; text-decoration-color: #008080; font-weight: bold\">58.013</span> val/loss: <span style=\"color: #008080; text-decoration-color: #008080; font-weight: bold\">1.080</span>  test/acc: <span style=\"color: #008080; text-decoration-color: #008080; font-weight: bold\">57.961</span>         \n",
              "                                                                                                                   \n",
              "</pre>\n"
            ],
            "text/plain": [
              "                  \u001b[32m⠼\u001b[0m overal progress \u001b[36m 99\u001b[0m/\u001b[36m100\u001b[0m epochs \u001b[38;2;249;38;114m━━━━━━━━━━━━━━━━━━━━━━━━━━━━━━━━━━━━━━━\u001b[0m\u001b[38;2;249;38;114m╸\u001b[0m \u001b[36m 99\u001b[0m% \u001b[33m0:26:23\u001b[0m           \n",
              "                    train/acc: \u001b[1;36m60.425\u001b[0m train/loss: \u001b[1;36m1.039\u001b[0m  val/acc: \u001b[1;36m58.013\u001b[0m val/loss: \u001b[1;36m1.080\u001b[0m  test/acc: \u001b[1;36m57.961\u001b[0m         \n",
              "                                                                                                                   \n"
            ]
          },
          "metadata": {},
          "output_type": "display_data"
        },
        {
          "data": {
            "text/html": [
              "<pre style=\"white-space:pre;overflow-x:auto;line-height:normal;font-family:Menlo,'DejaVu Sans Mono',consolas,'Courier New',monospace\"></pre>\n"
            ],
            "text/plain": []
          },
          "metadata": {},
          "output_type": "display_data"
        },
        {
          "data": {
            "text/html": [
              "<pre style=\"white-space:pre;overflow-x:auto;line-height:normal;font-family:Menlo,'DejaVu Sans Mono',consolas,'Courier New',monospace\">\n",
              "</pre>\n"
            ],
            "text/plain": [
              "\n"
            ]
          },
          "metadata": {},
          "output_type": "display_data"
        },
        {
          "name": "stdout",
          "output_type": "stream",
          "text": [
            "{'epoch': 93, 'train/acc': tensor(60.3749), 'train/loss': tensor(1.0420), 'val/acc': tensor(58.7972), 'val/loss': tensor(1.0680), 'test/acc': tensor(58.8727)}\n"
          ]
        }
      ],
      "source": [
        "\n",
        "# Instantiate the StandardGNN model with the desired parameters\n",
        "model = StandardGNN(\n",
        "    num_classes=num_classes, # Assuming 'data.y' contains the class labels\n",
        "    conv='sage', # Convolution type\n",
        "    hidden_dim=16, # Dimension of the hidden layers\n",
        "    base_layers=1, # Number of base MLP layers\n",
        "    mp_layers=1, # Number of message passing layers\n",
        "    head_layers=1, # Number of head MLP layers\n",
        "    activation='selu', # Activation function\n",
        "    dropout=0.0, # Dropout rate\n",
        "    batch_norm=True, # Batch normalization\n",
        "    jk='cat', # Jumping knowledge mode\n",
        "    sage_aggr='mean', # SAGE aggregation function\n",
        "    sage_root_weight=True, # SAGE root weight\n",
        "    sage_normalize=True, # SAGE normalization\n",
        "    gcn_improved=False, # GCN improved version\n",
        "    gcn_add_self_loops=True, # GCN add self loops\n",
        "    gcn_cached=True, # GCN caching\n",
        "    gcn_normalize=True, # GCN normalization\n",
        "    gat_heads=1, # GAT number of heads\n",
        "    gat_concat=True, # GAT concatenation\n",
        "    gat_negative_slope=0.2, # GAT negative slope\n",
        "    gat_add_self_loops=True, # GAT add self loops\n",
        "    optimizer='adam', # Optimization algorithm\n",
        "    learning_rate=0.01, # Learning rate\n",
        "    weight_decay=0.0 # Weight decay\n",
        ")\n",
        "\n",
        "# Instantiate the Logger\n",
        "# logger = Logger(\n",
        "#     logger='wandb', # Logger type\n",
        "#     project='ProGAP', # Project name for logger\n",
        "#     output_dir='./output', # Directory to store the results\n",
        "#     config={} # Additional configuration for the logger\n",
        "# )\n",
        "\n",
        "# Train the model on the data\n",
        "metrics_base_gnn = model.run(data, fit=True, test=True)\n",
        "\n",
        "# Print the metrics\n",
        "print(metrics_base_gnn)"
      ]
    },
    {
      "cell_type": "markdown",
      "metadata": {
        "id": "9XgV8Q0pF_Ms"
      },
      "source": [
        "#### Running baseline GNN model for Reddit data"
      ]
    },
    {
      "cell_type": "code",
      "execution_count": null,
      "metadata": {
        "colab": {
          "background_save": true
        },
        "id": "r4Iq3jtMF5Hk",
        "outputId": "3456d9bf-312d-4360-b6ca-5777963368fd"
      },
      "outputs": [
        {
          "data": {
            "text/html": [
              "<pre style=\"white-space:pre;overflow-x:auto;line-height:normal;font-family:Menlo,'DejaVu Sans Mono',consolas,'Courier New',monospace\">                  <span style=\"color: #008000; text-decoration-color: #008000\">⠹</span> overal progress <span style=\"color: #008080; text-decoration-color: #008080\"> 99</span>/<span style=\"color: #008080; text-decoration-color: #008080\">100</span> epochs <span style=\"color: #f92672; text-decoration-color: #f92672\">━━━━━━━━━━━━━━━━━━━━━━━━━━━━━━━━━━━━━━━╸</span> <span style=\"color: #008080; text-decoration-color: #008080\"> 99</span>% <span style=\"color: #808000; text-decoration-color: #808000\">0:18:17</span>           \n",
              "                    train/acc: <span style=\"color: #008080; text-decoration-color: #008080; font-weight: bold\">99.299</span> train/loss: <span style=\"color: #008080; text-decoration-color: #008080; font-weight: bold\">0.028</span>  val/acc: <span style=\"color: #008080; text-decoration-color: #008080; font-weight: bold\">99.129</span> val/loss: <span style=\"color: #008080; text-decoration-color: #008080; font-weight: bold\">0.035</span>  test/acc: <span style=\"color: #008080; text-decoration-color: #008080; font-weight: bold\">99.097</span>         \n",
              "                                                                                                                   \n",
              "</pre>\n"
            ],
            "text/plain": [
              "                  \u001b[32m⠹\u001b[0m overal progress \u001b[36m 99\u001b[0m/\u001b[36m100\u001b[0m epochs \u001b[38;2;249;38;114m━━━━━━━━━━━━━━━━━━━━━━━━━━━━━━━━━━━━━━━\u001b[0m\u001b[38;2;249;38;114m╸\u001b[0m \u001b[36m 99\u001b[0m% \u001b[33m0:18:17\u001b[0m           \n",
              "                    train/acc: \u001b[1;36m99.299\u001b[0m train/loss: \u001b[1;36m0.028\u001b[0m  val/acc: \u001b[1;36m99.129\u001b[0m val/loss: \u001b[1;36m0.035\u001b[0m  test/acc: \u001b[1;36m99.097\u001b[0m         \n",
              "                                                                                                                   \n"
            ]
          },
          "metadata": {},
          "output_type": "display_data"
        },
        {
          "data": {
            "text/html": [
              "<pre style=\"white-space:pre;overflow-x:auto;line-height:normal;font-family:Menlo,'DejaVu Sans Mono',consolas,'Courier New',monospace\"></pre>\n"
            ],
            "text/plain": []
          },
          "metadata": {},
          "output_type": "display_data"
        },
        {
          "data": {
            "text/html": [
              "<pre style=\"white-space:pre;overflow-x:auto;line-height:normal;font-family:Menlo,'DejaVu Sans Mono',consolas,'Courier New',monospace\">\n",
              "</pre>\n"
            ],
            "text/plain": [
              "\n"
            ]
          },
          "metadata": {},
          "output_type": "display_data"
        },
        {
          "name": "stdout",
          "output_type": "stream",
          "text": [
            "{'epoch': 100, 'train/acc': tensor(99.3072), 'train/loss': tensor(0.0278), 'val/acc': tensor(99.1378), 'val/loss': tensor(0.0353), 'test/acc': tensor(99.0973)}\n"
          ]
        }
      ],
      "source": [
        "model = StandardGNN(\n",
        "    num_classes=num_classes_reddit, # Assuming 'data.y' contains the class labels\n",
        "    conv='sage', # Convolution type\n",
        "    hidden_dim=16, # Dimension of the hidden layers\n",
        "    base_layers=1, # Number of base MLP layers\n",
        "    mp_layers=1, # Number of message passing layers\n",
        "    head_layers=1, # Number of head MLP layers\n",
        "    activation='selu', # Activation function\n",
        "    dropout=0.0, # Dropout rate\n",
        "    batch_norm=True, # Batch normalization\n",
        "    jk='cat', # Jumping knowledge mode\n",
        "    sage_aggr='mean', # SAGE aggregation function\n",
        "    sage_root_weight=True, # SAGE root weight\n",
        "    sage_normalize=True, # SAGE normalization\n",
        "    gcn_improved=False, # GCN improved version\n",
        "    gcn_add_self_loops=True, # GCN add self loops\n",
        "    gcn_cached=True, # GCN caching\n",
        "    gcn_normalize=True, # GCN normalization\n",
        "    gat_heads=1, # GAT number of heads\n",
        "    gat_concat=True, # GAT concatenation\n",
        "    gat_negative_slope=0.2, # GAT negative slope\n",
        "    gat_add_self_loops=True, # GAT add self loops\n",
        "    optimizer='adam', # Optimization algorithm\n",
        "    learning_rate=0.01, # Learning rate\n",
        "    weight_decay=0.0 # Weight decay\n",
        ")\n",
        "\n",
        "# Instantiate the Logger\n",
        "# logger = Logger(\n",
        "#     logger='wandb', # Logger type\n",
        "#     project='ProGAP', # Project name for logger\n",
        "#     output_dir='./output', # Directory to store the results\n",
        "#     config={} # Additional configuration for the logger\n",
        "# )\n",
        "\n",
        "# Train the model on the data\n",
        "metrics_base_gnn_reddit = model.run(reddit_data, fit=True, test=True)\n",
        "\n",
        "# Print the metrics\n",
        "print(metrics_base_gnn_reddit)"
      ]
    },
    {
      "cell_type": "code",
      "execution_count": null,
      "metadata": {
        "colab": {
          "background_save": true
        },
        "id": "gDUh8omwy5oK",
        "outputId": "50da73d4-bf61-4b43-de33-f46b26378916"
      },
      "outputs": [
        {
          "name": "stdout",
          "output_type": "stream",
          "text": [
            "Collecting autodp\n",
            "  Downloading autodp-0.2.3.1.tar.gz (56 kB)\n",
            "\u001b[?25l     \u001b[90m━━━━━━━━━━━━━━━━━━━━━━━━━━━━━━━━━━━━━━━━\u001b[0m \u001b[32m0.0/56.3 kB\u001b[0m \u001b[31m?\u001b[0m eta \u001b[36m-:--:--\u001b[0m\r\u001b[2K     \u001b[90m━━━━━━━━━━━━━━━━━━━━━━━━━━━━━━━━━━━━━━━━\u001b[0m \u001b[32m56.3/56.3 kB\u001b[0m \u001b[31m2.2 MB/s\u001b[0m eta \u001b[36m0:00:00\u001b[0m\n",
            "\u001b[?25h  Preparing metadata (setup.py) ... \u001b[?25l\u001b[?25hdone\n",
            "Requirement already satisfied: absl-py in /usr/local/lib/python3.10/dist-packages (from autodp) (1.4.0)\n",
            "Requirement already satisfied: matplotlib in /usr/local/lib/python3.10/dist-packages (from autodp) (3.7.1)\n",
            "Requirement already satisfied: numpy>=1.18 in /usr/local/lib/python3.10/dist-packages (from autodp) (1.25.2)\n",
            "Requirement already satisfied: scipy>=1.2.1 in /usr/local/lib/python3.10/dist-packages (from autodp) (1.11.4)\n",
            "Requirement already satisfied: contourpy>=1.0.1 in /usr/local/lib/python3.10/dist-packages (from matplotlib->autodp) (1.2.1)\n",
            "Requirement already satisfied: cycler>=0.10 in /usr/local/lib/python3.10/dist-packages (from matplotlib->autodp) (0.12.1)\n",
            "Requirement already satisfied: fonttools>=4.22.0 in /usr/local/lib/python3.10/dist-packages (from matplotlib->autodp) (4.51.0)\n",
            "Requirement already satisfied: kiwisolver>=1.0.1 in /usr/local/lib/python3.10/dist-packages (from matplotlib->autodp) (1.4.5)\n",
            "Requirement already satisfied: packaging>=20.0 in /usr/local/lib/python3.10/dist-packages (from matplotlib->autodp) (24.0)\n",
            "Requirement already satisfied: pillow>=6.2.0 in /usr/local/lib/python3.10/dist-packages (from matplotlib->autodp) (9.4.0)\n",
            "Requirement already satisfied: pyparsing>=2.3.1 in /usr/local/lib/python3.10/dist-packages (from matplotlib->autodp) (3.1.2)\n",
            "Requirement already satisfied: python-dateutil>=2.7 in /usr/local/lib/python3.10/dist-packages (from matplotlib->autodp) (2.8.2)\n",
            "Requirement already satisfied: six>=1.5 in /usr/local/lib/python3.10/dist-packages (from python-dateutil>=2.7->matplotlib->autodp) (1.16.0)\n",
            "Building wheels for collected packages: autodp\n",
            "  Building wheel for autodp (setup.py) ... \u001b[?25l\u001b[?25hdone\n",
            "  Created wheel for autodp: filename=autodp-0.2.3.1-py3-none-any.whl size=59817 sha256=bea19ad7ad531fa26c78301d6a1ad02b46d89990ca68289d812a07c0f84fa91c\n",
            "  Stored in directory: /root/.cache/pip/wheels/bb/fa/09/a4bf92616f2b3353c47e75d36c14afc2aefce2b78ad6e3536f\n",
            "Successfully built autodp\n",
            "Installing collected packages: autodp\n",
            "Successfully installed autodp-0.2.3.1\n"
          ]
        }
      ],
      "source": [
        "!pip install autodp"
      ]
    },
    {
      "cell_type": "code",
      "execution_count": null,
      "metadata": {
        "colab": {
          "background_save": true
        },
        "id": "wbXY5NCZy549"
      },
      "outputs": [],
      "source": [
        "from typing_extensions import Self\n",
        "from scipy.optimize import minimize_scalar, OptimizeResult\n",
        "from autodp.mechanism_zoo import Mechanism\n",
        "import numpy as np\n",
        "from autodp.mechanism_zoo import ExactGaussianMechanism\n",
        "\n",
        "class ZeroMechanism(Mechanism):\n",
        "    def __init__(self):\n",
        "        super().__init__()\n",
        "        self.name = 'ZeroMechanism'\n",
        "        self.params = {}\n",
        "        self.propagate_updates(func=lambda _: 0, type_of_update='RDP')\n",
        "\n",
        "\n",
        "class InfMechanism(Mechanism):\n",
        "    def __init__(self):\n",
        "        super().__init__()\n",
        "        self.name = 'InfMechanism'\n",
        "        self.params = {}\n",
        "\n",
        "\n",
        "\n",
        "class NoisyMechanism(Mechanism):\n",
        "    def __init__(self, noise_scale: float):\n",
        "        # \"noise_scale\" is the std of the noise divide by the sensitivity\n",
        "        super().__init__()\n",
        "        self.name = 'NoisyMechanism'\n",
        "        self.params = {'noise_scale': noise_scale}\n",
        "        self.console = Console()\n",
        "\n",
        "    def update(self, noise_scale: float) -> Self:\n",
        "        self.params.pop('noise_scale')\n",
        "        self.__init__(noise_scale, **self.params)\n",
        "        return self\n",
        "\n",
        "    def is_zero(self) -> bool:\n",
        "        for alpha in range(2,100):\n",
        "            if self.RenyiDP(alpha) > 0:\n",
        "                return False\n",
        "        return True\n",
        "\n",
        "    def is_inf(self) -> bool:\n",
        "        for alpha in range(2,100):\n",
        "            if not np.isinf(self.RenyiDP(alpha)):\n",
        "                return False\n",
        "        return True\n",
        "\n",
        "    def calibrate(self, eps: float, delta: float) -> float:\n",
        "        if self.params['noise_scale'] == 0:\n",
        "            self.update(noise_scale=1)  # to avoid is_inf being true\n",
        "\n",
        "        self.console.debug('checking if the mechanism is inf or zero...')\n",
        "        if np.isinf(eps) or self.is_inf() or self.is_zero():\n",
        "            self.update(noise_scale=0)\n",
        "            return 0.0\n",
        "        else:\n",
        "            self.console.debug('calibration begins...')\n",
        "            fn_err = lambda x: abs(eps - self.update(np.exp(x)).get_approxDP(delta))\n",
        "\n",
        "            # check if the mechanism is already calibrated\n",
        "            if fn_err(self.params['noise_scale']) < 1e-3:\n",
        "                return self.params['noise_scale']\n",
        "\n",
        "            result: OptimizeResult = minimize_scalar(fn_err,\n",
        "                method='brent',\n",
        "                options={'xtol': 1e-5, 'maxiter': 1000000, 'disp': 0}\n",
        "            )\n",
        "\n",
        "            if result.success and result.fun < 1e-3:\n",
        "                noise_scale = np.exp(result.x)\n",
        "                self.update(noise_scale)\n",
        "                return noise_scale\n",
        "            else:\n",
        "                raise RuntimeError(f\"calibrator failed to find noise scale\\n{result}\")\n",
        "\n",
        "\n",
        "\n",
        "# Implementing the NAP layer :\n",
        "class GaussianMechanism(NoisyMechanism):\n",
        "    def __init__(self, noise_scale: float):\n",
        "        # \"noise_scale\" is the std of the noise divided by the L2 sensitivity\n",
        "        super().__init__(noise_scale=noise_scale)\n",
        "        gm = ExactGaussianMechanism(sigma=noise_scale)\n",
        "        self.name = 'GaussianMechanism'\n",
        "        self.set_all_representation(gm)\n",
        "\n",
        "    def perturb(self, data: Tensor, sensitivity: float) -> Tensor:\n",
        "        std = self.params['noise_scale'] * sensitivity\n",
        "        return torch.normal(mean=data, std=std) if std else data\n",
        "\n",
        "    def __call__(self, data: Tensor, sensitivity: float) -> Tensor:\n",
        "        return self.perturb(data, sensitivity)\n",
        "\n",
        "\n",
        "\n",
        "class NAP(Module):\n",
        "    def __init__(self, noise_std: float, sensitivity: float) -> None:\n",
        "        super().__init__()\n",
        "        self.sensitivity = sensitivity\n",
        "        noise_scale = noise_std / sensitivity\n",
        "        self.mechanism = GaussianMechanism(noise_scale)\n",
        "\n",
        "    def forward(self, x: Tensor, adj_t: Tensor) -> Tensor:\n",
        "        x = F.normalize(x, p=2, dim=-1)                     # normalize\n",
        "        x = torch.spmm(adj_t, x)                            # aggregate\n",
        "        x = self.mechanism.perturb(x, self.sensitivity)     # perturb\n",
        "        return x"
      ]
    },
    {
      "cell_type": "code",
      "execution_count": null,
      "metadata": {
        "colab": {
          "background_save": true
        },
        "id": "whxpPqud70XP"
      },
      "outputs": [],
      "source": [
        "from autodp.transformer_zoo import ComposeGaussian, Composition\n",
        "#from autodp.mechanism_zoo import GaussianMechanism, ExactGaussianMechanism\n",
        "\n",
        "class ComposedNoisyMechanism(NoisyMechanism):\n",
        "    def __init__(self,\n",
        "                 noise_scale: float,\n",
        "                 mechanism_list: list[NoisyMechanism],\n",
        "                 coeff_list: list[float]=None,\n",
        "                 weight_list: list[float]=None,\n",
        "                 ):\n",
        "        super().__init__(noise_scale)\n",
        "        if coeff_list is None:\n",
        "            coeff_list = [1] * len(mechanism_list)\n",
        "        if weight_list is None:\n",
        "            weight_list = [1] * len(mechanism_list)\n",
        "        self.params = {\n",
        "            'noise_scale': noise_scale,\n",
        "            'mechanism_list': mechanism_list,\n",
        "            'coeff_list': coeff_list,\n",
        "            'weight_list': weight_list\n",
        "        }\n",
        "        mechanism_list = [mech.update(noise_scale = weight * noise_scale) for mech, weight in zip(mechanism_list, weight_list)]\n",
        "        all_gaussian = all(isinstance(mech, (GaussianMechanism, ExactGaussianMechanism)) for mech in mechanism_list)\n",
        "        CompositionCls = Composition\n",
        "        mech = CompositionCls()(mechanism_list, coeff_list)\n",
        "        self.set_all_representation(mech)"
      ]
    },
    {
      "cell_type": "code",
      "execution_count": null,
      "metadata": {
        "colab": {
          "background_save": true
        },
        "id": "OEmb75rc8DNv"
      },
      "outputs": [],
      "source": []
    },
    {
      "cell_type": "code",
      "execution_count": null,
      "metadata": {
        "colab": {
          "background_save": true
        },
        "id": "wlrZ7l-E8Dbp"
      },
      "outputs": [],
      "source": [
        "from torch.nn import ModuleList, Parameter\n",
        "\n",
        "\n",
        "class ProgressiveModule(TrainableModule):\n",
        "    def __init__(self, *,\n",
        "                 num_classes: int,\n",
        "                 num_stages: int,\n",
        "                 hidden_dim: int = 16,\n",
        "                 base_layers: int = 2,\n",
        "                 head_layers: int = 1,\n",
        "                 normalize: bool = True,\n",
        "                 jk_mode: str = 'cat',\n",
        "                 dropout: float = 0.0,\n",
        "                 activation_fn: Callable[[Tensor], Tensor] = torch.relu_,\n",
        "                 batch_norm: bool = True,\n",
        "                 layerwise: bool = False,\n",
        "                 **kwargs,\n",
        "                 ):\n",
        "\n",
        "        super().__init__(**kwargs)\n",
        "\n",
        "        self.num_classes = num_classes\n",
        "        self.num_stages = num_stages\n",
        "        self.hidden_dim = hidden_dim\n",
        "        self.base_layers = base_layers\n",
        "        self.head_layers = head_layers\n",
        "        self.normalize = normalize\n",
        "        self.jk_mode = jk_mode\n",
        "        self.dropout = dropout\n",
        "        self.activation_fn = activation_fn\n",
        "        self.batch_norm = batch_norm\n",
        "        self.layerwise = layerwise\n",
        "\n",
        "        self.current_stage = 0\n",
        "\n",
        "        self.base = ModuleList(\n",
        "            MLP(\n",
        "                hidden_dim=hidden_dim,\n",
        "                output_dim=hidden_dim,\n",
        "                num_layers=base_layers,\n",
        "                activation_fn=activation_fn,\n",
        "                dropout=dropout,\n",
        "                batch_norm=batch_norm,\n",
        "                plain_last=False,\n",
        "            ) for _ in range(num_stages)\n",
        "        )\n",
        "\n",
        "        self.jk = ModuleList(\n",
        "            JumpingKnowledge(\n",
        "                mode=jk_mode,\n",
        "                hidden_dim=hidden_dim,\n",
        "                channels=hidden_dim,\n",
        "                num_layers=2,\n",
        "                num_heads=2\n",
        "            ) for _ in range(num_stages)\n",
        "        )\n",
        "\n",
        "        self.head = ModuleList(\n",
        "            MLP(\n",
        "                hidden_dim=hidden_dim,\n",
        "                output_dim=num_classes,\n",
        "                num_layers=head_layers,\n",
        "                dropout=dropout,\n",
        "                activation_fn=activation_fn,\n",
        "                batch_norm=batch_norm,\n",
        "                plain_last=True,\n",
        "            ) for _ in range(num_stages)\n",
        "        )\n",
        "\n",
        "    def set_stage(self, stage: int):\n",
        "        self.current_stage = stage\n",
        "        if self.layerwise:\n",
        "            # freeze previous layers\n",
        "            for i in range(self.current_stage):\n",
        "                for param in self.base[i].parameters():\n",
        "                    param.requires_grad = False\n",
        "                for param in self.jk[i].parameters():\n",
        "                    param.requires_grad = False\n",
        "                for param in self.head[i].parameters():\n",
        "                    param.requires_grad = False\n",
        "\n",
        "    def forward(self, xs: list[Tensor]) -> tuple[Tensor, Tensor]:\n",
        "        \"\"\"forward propagation\n",
        "\n",
        "        Args:\n",
        "            xs (list[Tensor]): list of aggregate node embeddings\n",
        "\n",
        "        Returns:\n",
        "            tuple[Tensor, Tensor]: node embeddings, node unnormalized predictions\n",
        "        \"\"\"\n",
        "\n",
        "        for i in range(self.current_stage + 1):\n",
        "            xs[i] = self.base[i](xs[i])\n",
        "\n",
        "        h = xs[-1]\n",
        "        x = self.jk[self.current_stage](torch.stack(xs, dim=-1))\n",
        "\n",
        "        if self.normalize:\n",
        "            x = F.normalize(x, p=2, dim=-1)\n",
        "\n",
        "        y = self.head[self.current_stage](x)\n",
        "        return h, y\n",
        "\n",
        "    def step(self, data: Data, phase: Phase) -> tuple[Optional[Tensor], Metrics]:\n",
        "        xs = [data[f'x{i}'][data.batch_nodes] for i in range(self.current_stage + 1)]\n",
        "        y = data.y[data.batch_nodes]\n",
        "\n",
        "        preds: Tensor = self(xs)[1]\n",
        "        acc = preds.detach().argmax(dim=1).eq(y).float().mean() * 100\n",
        "        metrics = {f'{phase}/acc': acc}\n",
        "\n",
        "        loss = None\n",
        "        if phase != 'test':\n",
        "            loss = F.cross_entropy(input=preds, target=y)\n",
        "            metrics[f'{phase}/loss'] = loss.detach()\n",
        "\n",
        "        return loss, metrics\n",
        "\n",
        "    def predict(self, data: Data) -> tuple[Tensor, Tensor]:\n",
        "        xs = [data[f'x{i}'][data.batch_nodes] for i in range(self.current_stage + 1)]\n",
        "        x, y = self(xs)\n",
        "        return x, torch.softmax(y, dim=-1)\n",
        "\n",
        "    def reset_parameters(self):\n",
        "        self.current_stage = 0\n",
        "        for encoder in self.base:\n",
        "            encoder.reset_parameters()\n",
        "        for jk in self.jk:\n",
        "            jk.reset_parameters()\n",
        "        for head in self.head:\n",
        "            head.reset_parameters()\n",
        "        for param in super().parameters():\n",
        "            param.requires_grad = True\n",
        "\n",
        "    def parameters(self, recurse: bool = True) -> Iterator[Parameter]:\n",
        "        if not self.layerwise:\n",
        "            for i in range(self.current_stage):\n",
        "                yield from self.base[i].parameters(recurse=recurse)\n",
        "        yield from self.base[self.current_stage].parameters(recurse=recurse)\n",
        "        yield from self.jk[self.current_stage].parameters(recurse=recurse)\n",
        "        yield from self.head[self.current_stage].parameters(recurse=recurse)"
      ]
    },
    {
      "cell_type": "code",
      "execution_count": null,
      "metadata": {
        "colab": {
          "background_save": true
        },
        "id": "I34DCZ3R8D53"
      },
      "outputs": [],
      "source": [
        "class ProGAP (NodeClassification):\n",
        "    \"\"\"Non-private ProGAP method\"\"\"\n",
        "\n",
        "    def __init__(self,\n",
        "                 num_classes,\n",
        "                 depth:         Annotated[int,   ArgInfo(help='model depth', option='-k')] = 2,\n",
        "                 hidden_dim:    Annotated[int,   ArgInfo(help='dimension of the hidden layers')] = 16,\n",
        "                 base_layers:   Annotated[int,   ArgInfo(help='number of base MLP layers')] = 1,\n",
        "                 head_layers:   Annotated[int,   ArgInfo(help='number of head MLP layers')] = 1,\n",
        "                 jk:            Annotated[str,   ArgInfo(help='jumping knowledge combination scheme', choices=JumpingKnowledge.supported_modes)] = 'cat',\n",
        "                 activation:    Annotated[str,   ArgInfo(help='type of activation function', choices=['relu', 'selu', 'tanh'])] = 'selu',\n",
        "                 dropout:       Annotated[float, ArgInfo(help='dropout rate')] = 0.0,\n",
        "                 batch_norm:    Annotated[bool,  ArgInfo(help='if true, then model uses batch normalization')] = True,\n",
        "                 layerwise:     Annotated[bool,  ArgInfo(help='if true, then model uses layerwise training')] = False,\n",
        "                 optimizer:     Annotated[str,   ArgInfo(help='optimization algorithm', choices=['sgd', 'adam'])] = 'adam',\n",
        "                 learning_rate: Annotated[float, ArgInfo(help='learning rate', option='--lr')] = 0.01,\n",
        "                 weight_decay:  Annotated[float, ArgInfo(help='weight decay (L2 penalty)')] = 0.0,\n",
        "                 **kwargs:      Annotated[dict,  ArgInfo(help='extra options passed to base class', bases=[NodeClassification])]\n",
        "                 ):\n",
        "\n",
        "        self.num_classes = num_classes\n",
        "        self.depth = depth\n",
        "        self.hidden_dim = hidden_dim\n",
        "        self.base_layers = base_layers\n",
        "        self.head_layers = head_layers\n",
        "        self.jk = jk\n",
        "        self.activation = activation\n",
        "        self.dropout = dropout\n",
        "        self.batch_norm = batch_norm\n",
        "        self.layerwise = layerwise\n",
        "        self.optimizer = optimizer\n",
        "        self.learning_rate = learning_rate\n",
        "        self.weight_decay = weight_decay\n",
        "        self.num_stages = depth + 1\n",
        "        self.nap = NAP(noise_std=0, sensitivity=1)\n",
        "        self.classifier: ProgressiveModule\n",
        "\n",
        "        self.console = Console()\n",
        "\n",
        "        super().__init__(num_classes, **kwargs)\n",
        "\n",
        "    def configure_classifier(self) -> ProgressiveModule:\n",
        "        return ProgressiveModule(\n",
        "            num_classes=self.num_classes,\n",
        "            num_stages=self.num_stages,\n",
        "            hidden_dim=self.hidden_dim,\n",
        "            base_layers=self.base_layers,\n",
        "            head_layers=self.head_layers,\n",
        "            normalize=True,\n",
        "            jk_mode=self.jk,\n",
        "            activation_fn=activation_resolver.make(self.activation),\n",
        "            dropout=self.dropout,\n",
        "            batch_norm=self.batch_norm,\n",
        "            layerwise=self.layerwise,\n",
        "            optimizer=self.optimizer,\n",
        "            learning_rate=self.learning_rate,\n",
        "            weight_decay=self.weight_decay,\n",
        "        )\n",
        "\n",
        "    def pipeline(self, fit: bool=False) -> Optional[Metrics]:\n",
        "        n = self.num_stages\n",
        "        self.data.x0 = self.data.x\n",
        "\n",
        "        for i in range(n):\n",
        "            if i > 0:\n",
        "                x, _ = self.trainer.predict(dataloader=self.data_loader('predict'))\n",
        "                x = self.nap(x, self.data.adj_t)\n",
        "                self.data[f'x{i}'] = x\n",
        "\n",
        "            self.classifier.set_stage(i)\n",
        "\n",
        "            if fit:\n",
        "                self.console.info(f'Fitting stage {i+1} of {n}')\n",
        "                self.trainer = self.configure_trainer()\n",
        "                metrics = super().fit()\n",
        "\n",
        "        self.data.ready = True\n",
        "        return metrics if fit else None\n",
        "\n",
        "    def fit(self) -> Metrics:\n",
        "        return self.pipeline(fit=True)\n",
        "\n",
        "    def test(self) -> Metrics:\n",
        "        \"\"\"Predict the labels for the given data, or the training data if data is None.\"\"\"\n",
        "        if not getattr(self.data, 'ready', False):\n",
        "            self.pipeline(fit=False)\n",
        "\n",
        "        return super().test()\n",
        "\n",
        "    def predict(self) -> torch.Tensor:\n",
        "        \"\"\"Predict the labels for the given data, or the training data if data is None.\"\"\"\n",
        "        if not getattr(self.data, 'ready', False):\n",
        "            self.pipeline(fit=False)\n",
        "\n",
        "        return super().predict()"
      ]
    },
    {
      "cell_type": "code",
      "execution_count": null,
      "metadata": {
        "colab": {
          "background_save": true
        },
        "id": "EXQeUcJxjYuX",
        "outputId": "9c6db224-196c-4ec0-c191-4bbc9af6279a"
      },
      "outputs": [
        {
          "data": {
            "text/html": [
              "<pre style=\"white-space:pre;overflow-x:auto;line-height:normal;font-family:Menlo,'DejaVu Sans Mono',consolas,'Courier New',monospace\">                  <span style=\"color: #008000; text-decoration-color: #008000\">⠙</span> overal progress <span style=\"color: #008080; text-decoration-color: #008080\"> 99</span>/<span style=\"color: #008080; text-decoration-color: #008080\">100</span> epochs <span style=\"color: #f92672; text-decoration-color: #f92672\">━━━━━━━━━━━━━━━━━━━━━━━━━━━━━━━━━━━━━━━╸</span> <span style=\"color: #008080; text-decoration-color: #008080\"> 99</span>% <span style=\"color: #808000; text-decoration-color: #808000\">0:05:00</span>           \n",
              "                    train/acc: <span style=\"color: #008080; text-decoration-color: #008080; font-weight: bold\">62.820</span> train/loss: <span style=\"color: #008080; text-decoration-color: #008080; font-weight: bold\">1.000</span>  val/acc: <span style=\"color: #008080; text-decoration-color: #008080; font-weight: bold\">62.630</span> val/loss: <span style=\"color: #008080; text-decoration-color: #008080; font-weight: bold\">1.006</span>  test/acc: <span style=\"color: #008080; text-decoration-color: #008080; font-weight: bold\">62.602</span>         \n",
              "                                                                                                                   \n",
              "</pre>\n"
            ],
            "text/plain": [
              "                  \u001b[32m⠙\u001b[0m overal progress \u001b[36m 99\u001b[0m/\u001b[36m100\u001b[0m epochs \u001b[38;2;249;38;114m━━━━━━━━━━━━━━━━━━━━━━━━━━━━━━━━━━━━━━━\u001b[0m\u001b[38;2;249;38;114m╸\u001b[0m \u001b[36m 99\u001b[0m% \u001b[33m0:05:00\u001b[0m           \n",
              "                    train/acc: \u001b[1;36m62.820\u001b[0m train/loss: \u001b[1;36m1.000\u001b[0m  val/acc: \u001b[1;36m62.630\u001b[0m val/loss: \u001b[1;36m1.006\u001b[0m  test/acc: \u001b[1;36m62.602\u001b[0m         \n",
              "                                                                                                                   \n"
            ]
          },
          "metadata": {},
          "output_type": "display_data"
        },
        {
          "data": {
            "text/html": [
              "<pre style=\"white-space:pre;overflow-x:auto;line-height:normal;font-family:Menlo,'DejaVu Sans Mono',consolas,'Courier New',monospace\"></pre>\n"
            ],
            "text/plain": []
          },
          "metadata": {},
          "output_type": "display_data"
        },
        {
          "data": {
            "text/html": [
              "<pre style=\"white-space:pre;overflow-x:auto;line-height:normal;font-family:Menlo,'DejaVu Sans Mono',consolas,'Courier New',monospace\">\n",
              "</pre>\n"
            ],
            "text/plain": [
              "\n"
            ]
          },
          "metadata": {},
          "output_type": "display_data"
        },
        {
          "name": "stdout",
          "output_type": "stream",
          "text": [
            "{'epoch': 100, 'train/acc': tensor(62.8259), 'train/loss': tensor(0.9990), 'val/acc': tensor(62.6649), 'val/loss': tensor(1.0053), 'test/acc': tensor(62.6287)}\n"
          ]
        }
      ],
      "source": [
        "# Instantiate the StandardGNN model with the desired parameters\n",
        "model = ProGAP(\n",
        "    num_classes=num_classes, # Assuming 'data.y' contains the class labels\n",
        "    hidden_dim=16, # Dimension of the hidden layers\n",
        "    base_layers=1, # Number of base MLP layers\n",
        "    head_layers=1, # Number of head MLP layers\n",
        "    activation='selu', # Activation function\n",
        "    dropout=0.0, # Dropout rate\n",
        "    batch_norm=True, # Batch normalization\n",
        "    jk='cat', # Jumping knowledge mode\n",
        "    optimizer='adam', # Optimization algorithm\n",
        "    learning_rate=0.01, # Learning rate\n",
        "    weight_decay=0.0 # Weight decay\n",
        ")\n",
        "\n",
        "# Instantiate the Logger\n",
        "# logger = Logger(\n",
        "#     logger='wandb', # Logger type\n",
        "#     project='ProGAP', # Project name for logger\n",
        "#     output_dir='./output', # Directory to store the results\n",
        "#     config={} # Additional configuration for the logger\n",
        "# )\n",
        "\n",
        "# Train the model on the data\n",
        "metrics_pro = model.run(data, fit=True, test=True)\n",
        "\n",
        "# Print the metrics\n",
        "print(metrics_pro)"
      ]
    },
    {
      "cell_type": "markdown",
      "metadata": {
        "id": "pv6LyMC7IpKM"
      },
      "source": [
        "#### For Reddit Data :"
      ]
    },
    {
      "cell_type": "code",
      "execution_count": null,
      "metadata": {
        "colab": {
          "background_save": true
        },
        "id": "MQ13g5ZeImsx",
        "outputId": "582a1f43-293d-4c95-88a5-99be27807d19"
      },
      "outputs": [
        {
          "data": {
            "text/html": [
              "<pre style=\"white-space:pre;overflow-x:auto;line-height:normal;font-family:Menlo,'DejaVu Sans Mono',consolas,'Courier New',monospace\">                  <span style=\"color: #008000; text-decoration-color: #008000\">⠙</span> overal progress <span style=\"color: #008080; text-decoration-color: #008080\"> 99</span>/<span style=\"color: #008080; text-decoration-color: #008080\">100</span> epochs <span style=\"color: #f92672; text-decoration-color: #f92672\">━━━━━━━━━━━━━━━━━━━━━━━━━━━━━━━━━━━━━━━╸</span> <span style=\"color: #008080; text-decoration-color: #008080\"> 99</span>% <span style=\"color: #808000; text-decoration-color: #808000\">0:00:28</span>           \n",
              "                    train/acc: <span style=\"color: #008080; text-decoration-color: #008080; font-weight: bold\">99.059</span> train/loss: <span style=\"color: #008080; text-decoration-color: #008080; font-weight: bold\">0.145</span>  val/acc: <span style=\"color: #008080; text-decoration-color: #008080; font-weight: bold\">98.767</span> val/loss: <span style=\"color: #008080; text-decoration-color: #008080; font-weight: bold\">0.156</span>  test/acc: <span style=\"color: #008080; text-decoration-color: #008080; font-weight: bold\">98.549</span>         \n",
              "                                                                                                                   \n",
              "</pre>\n"
            ],
            "text/plain": [
              "                  \u001b[32m⠙\u001b[0m overal progress \u001b[36m 99\u001b[0m/\u001b[36m100\u001b[0m epochs \u001b[38;2;249;38;114m━━━━━━━━━━━━━━━━━━━━━━━━━━━━━━━━━━━━━━━\u001b[0m\u001b[38;2;249;38;114m╸\u001b[0m \u001b[36m 99\u001b[0m% \u001b[33m0:00:28\u001b[0m           \n",
              "                    train/acc: \u001b[1;36m99.059\u001b[0m train/loss: \u001b[1;36m0.145\u001b[0m  val/acc: \u001b[1;36m98.767\u001b[0m val/loss: \u001b[1;36m0.156\u001b[0m  test/acc: \u001b[1;36m98.549\u001b[0m         \n",
              "                                                                                                                   \n"
            ]
          },
          "metadata": {},
          "output_type": "display_data"
        },
        {
          "data": {
            "text/html": [
              "<pre style=\"white-space:pre;overflow-x:auto;line-height:normal;font-family:Menlo,'DejaVu Sans Mono',consolas,'Courier New',monospace\"></pre>\n"
            ],
            "text/plain": []
          },
          "metadata": {},
          "output_type": "display_data"
        },
        {
          "data": {
            "text/html": [
              "<pre style=\"white-space:pre;overflow-x:auto;line-height:normal;font-family:Menlo,'DejaVu Sans Mono',consolas,'Courier New',monospace\">\n",
              "</pre>\n"
            ],
            "text/plain": [
              "\n"
            ]
          },
          "metadata": {},
          "output_type": "display_data"
        },
        {
          "name": "stdout",
          "output_type": "stream",
          "text": [
            "{'epoch': 99, 'train/acc': tensor(99.0595), 'train/loss': tensor(0.1445), 'val/acc': tensor(98.7670), 'val/loss': tensor(0.1560), 'test/acc': tensor(98.5488)}\n"
          ]
        }
      ],
      "source": [
        "# Instantiate the StandardGNN model with the desired parameters\n",
        "model = ProGAP(\n",
        "    num_classes=num_classes_reddit, # Assuming 'data.y' contains the class labels\n",
        "    hidden_dim=16, # Dimension of the hidden layers\n",
        "    base_layers=1, # Number of base MLP layers\n",
        "    head_layers=1, # Number of head MLP layers\n",
        "    activation='selu', # Activation function\n",
        "    dropout=0.0, # Dropout rate\n",
        "    batch_norm=True, # Batch normalization\n",
        "    jk='cat', # Jumping knowledge mode\n",
        "    optimizer='adam', # Optimization algorithm\n",
        "    learning_rate=0.01, # Learning rate\n",
        "    weight_decay=0.0 # Weight decay\n",
        ")\n",
        "\n",
        "# Instantiate the Logger\n",
        "# logger = Logger(\n",
        "#     logger='wandb', # Logger type\n",
        "#     project='ProGAP', # Project name for logger\n",
        "#     output_dir='./output', # Directory to store the results\n",
        "#     config={} # Additional configuration for the logger\n",
        "# )\n",
        "\n",
        "# Train the model on the data\n",
        "metrics_pro_reddit = model.run(reddit_data, fit=True, test=True)\n",
        "\n",
        "# Print the metrics\n",
        "print(metrics_pro_reddit)"
      ]
    },
    {
      "cell_type": "code",
      "execution_count": null,
      "metadata": {
        "colab": {
          "background_save": true
        },
        "id": "reutqmIp8riX"
      },
      "outputs": [],
      "source": [
        "class EdgeLevelProGAP (ProGAP):\n",
        "    \"\"\"Edge-level private ProGAP method\"\"\"\n",
        "\n",
        "    def __init__(self,\n",
        "                 num_classes,\n",
        "                 epsilon:       Annotated[float, ArgInfo(help='DP epsilon parameter', option='-e')],\n",
        "                 delta:         Annotated[Union[Literal['auto'], float],\n",
        "                                                 ArgInfo(help='DP delta parameter (if \"auto\", sets a proper value based on data size)', option='-d')] = 'auto',\n",
        "                 **kwargs:      Annotated[dict,  ArgInfo(help='extra options passed to base class', bases=[ProGAP])]\n",
        "                 ):\n",
        "\n",
        "        super().__init__(num_classes, **kwargs)\n",
        "        self.epsilon = epsilon\n",
        "        self.delta = delta\n",
        "        self.num_edges = None  # will be used to set delta if it is 'auto'\n",
        "        # Noise std of NAP is set to 0, and will be calibrated later\n",
        "        self.nap = NAP(noise_std=0, sensitivity=1)\n",
        "        self.console = Console()\n",
        "    def calibrate(self):\n",
        "        with self.console.status('calibrating noise to privacy budget'):\n",
        "            if self.delta == 'auto':\n",
        "                self.console.info('num_edges = %d' % self.num_edges)\n",
        "                delta = 0.0 if np.isinf(self.epsilon) else 1. / (10 ** len(str(self.num_edges)))\n",
        "                self.console.info('delta = %.0e' % delta)\n",
        "\n",
        "            if np.isinf(self.epsilon):\n",
        "                self.noise_scale = 0.0\n",
        "            else:\n",
        "                mechanism_list = [self.nap.mechanism]\n",
        "                # Check if all mechanisms are instances of GaussianMechanism or ExactGaussianMechanism\n",
        "                if all(isinstance(mech, (GaussianMechanism, ExactGaussianMechanism)) for mech in mechanism_list):\n",
        "                    composed_mechanism = ComposedNoisyMechanism(\n",
        "                        noise_scale=1.0,\n",
        "                        mechanism_list=mechanism_list,\n",
        "                    )\n",
        "\n",
        "                else:\n",
        "                    print(\"All mechanisms must be instances of GaussianMechanism or ExactGaussianMechanism.\")\n",
        "                self.noise_scale = composed_mechanism.calibrate(eps=self.epsilon, delta=delta)\n",
        "\n",
        "            self.console.info(f'noise scale: {self.noise_scale:.4f}\\n')\n",
        "\n",
        "    def setup(self, data: Data) -> None:\n",
        "        super().setup(data)\n",
        "        m = self.data.num_edges\n",
        "        if self.num_edges != m:\n",
        "            self.num_edges = m\n",
        "            self.calibrate()"
      ]
    },
    {
      "cell_type": "code",
      "execution_count": null,
      "metadata": {
        "colab": {
          "background_save": true
        },
        "id": "ufhw68L2Pv9s"
      },
      "outputs": [],
      "source": []
    },
    {
      "cell_type": "code",
      "execution_count": null,
      "metadata": {
        "colab": {
          "background_save": true
        },
        "id": "fTl0lKvfPS5J",
        "outputId": "8417600d-f18f-4132-e4cd-fdcf03228a91"
      },
      "outputs": [
        {
          "data": {
            "text/html": [
              "<pre style=\"white-space:pre;overflow-x:auto;line-height:normal;font-family:Menlo,'DejaVu Sans Mono',consolas,'Courier New',monospace\">                  <span style=\"color: #008000; text-decoration-color: #008000\">⠸</span> overal progress <span style=\"color: #008080; text-decoration-color: #008080\"> 99</span>/<span style=\"color: #008080; text-decoration-color: #008080\">100</span> epochs <span style=\"color: #f92672; text-decoration-color: #f92672\">━━━━━━━━━━━━━━━━━━━━━━━━━━━━━━━━━━━━━━━╸</span> <span style=\"color: #008080; text-decoration-color: #008080\"> 99</span>% <span style=\"color: #808000; text-decoration-color: #808000\">0:05:40</span>           \n",
              "                    train/acc: <span style=\"color: #008080; text-decoration-color: #008080; font-weight: bold\">62.454</span> train/loss: <span style=\"color: #008080; text-decoration-color: #008080; font-weight: bold\">0.998</span>  val/acc: <span style=\"color: #008080; text-decoration-color: #008080; font-weight: bold\">62.196</span> val/loss: <span style=\"color: #008080; text-decoration-color: #008080; font-weight: bold\">1.005</span>  test/acc: <span style=\"color: #008080; text-decoration-color: #008080; font-weight: bold\">62.201</span>         \n",
              "                                                                                                                   \n",
              "</pre>\n"
            ],
            "text/plain": [
              "                  \u001b[32m⠸\u001b[0m overal progress \u001b[36m 99\u001b[0m/\u001b[36m100\u001b[0m epochs \u001b[38;2;249;38;114m━━━━━━━━━━━━━━━━━━━━━━━━━━━━━━━━━━━━━━━\u001b[0m\u001b[38;2;249;38;114m╸\u001b[0m \u001b[36m 99\u001b[0m% \u001b[33m0:05:40\u001b[0m           \n",
              "                    train/acc: \u001b[1;36m62.454\u001b[0m train/loss: \u001b[1;36m0.998\u001b[0m  val/acc: \u001b[1;36m62.196\u001b[0m val/loss: \u001b[1;36m1.005\u001b[0m  test/acc: \u001b[1;36m62.201\u001b[0m         \n",
              "                                                                                                                   \n"
            ]
          },
          "metadata": {},
          "output_type": "display_data"
        },
        {
          "data": {
            "text/html": [
              "<pre style=\"white-space:pre;overflow-x:auto;line-height:normal;font-family:Menlo,'DejaVu Sans Mono',consolas,'Courier New',monospace\"></pre>\n"
            ],
            "text/plain": []
          },
          "metadata": {},
          "output_type": "display_data"
        },
        {
          "data": {
            "text/html": [
              "<pre style=\"white-space:pre;overflow-x:auto;line-height:normal;font-family:Menlo,'DejaVu Sans Mono',consolas,'Courier New',monospace\">\n",
              "</pre>\n"
            ],
            "text/plain": [
              "\n"
            ]
          },
          "metadata": {},
          "output_type": "display_data"
        }
      ],
      "source": [
        "epsilon_values = [0.1, 0.5, 1, 2, 5, 10] # Example epsilon values\n",
        "delta_value = 'auto'\n",
        "\n",
        "metrics_list = []\n",
        "\n",
        "for epsilon in epsilon_values:\n",
        "    model = EdgeLevelProGAP(num_classes=num_classes, epsilon=epsilon, delta=delta_value)\n",
        "    model.setup(data)\n",
        "    model.fit()\n",
        "    metrics = model.test()\n",
        "    metrics_list.append(metrics)"
      ]
    },
    {
      "cell_type": "code",
      "execution_count": null,
      "metadata": {
        "colab": {
          "background_save": true
        },
        "id": "lNPg_9LpPX9S",
        "outputId": "2b3a8fe7-150b-4d02-88f9-26e986ccfecd"
      },
      "outputs": [
        {
          "data": {
            "image/png": "[encoded data removed]",
            "text/plain": [
              "<Figure size 640x480 with 1 Axes>"
            ]
          },
          "metadata": {},
          "output_type": "display_data"
        }
      ],
      "source": [
        "import matplotlib.pyplot as plt\n",
        "\n",
        "# Assuming metrics_list contains dictionaries with 'accuracy' key\n",
        "accuracy_values = [metrics['test/acc'] for metrics in metrics_list]\n",
        "baseline_acc = [metrics_base_mlp['test/acc'] for metrics in metrics_list]\n",
        "baseline_gnn_acc = [metrics_base_gnn['test/acc'] for metrics in metrics_list]\n",
        "# Plotting\n",
        "plt.plot(epsilon_values, accuracy_values, marker='o', label = 'Our Differentially Private Model')\n",
        "plt.plot(epsilon_values, baseline_acc, marker = 'x', label = 'Baseline MLP')\n",
        "plt.plot(epsilon_values, baseline_gnn_acc, marker = 'x', label = 'Baseline GNN' )\n",
        "plt.legend()\n",
        "plt.title('Privacy Cost vs Inference Tradeoff : FB-100')\n",
        "plt.xlabel('Epsilon Values')\n",
        "plt.ylabel('Test Accuracy')\n",
        "plt.grid(True)\n",
        "plt.show()"
      ]
    },
    {
      "cell_type": "code",
      "execution_count": null,
      "metadata": {
        "colab": {
          "background_save": true
        },
        "id": "vbOx-bTH8-dK",
        "outputId": "2ecca829-9143-4b99-8f7c-16e61936bf74"
      },
      "outputs": [
        {
          "data": {
            "text/html": [
              "<pre style=\"white-space:pre;overflow-x:auto;line-height:normal;font-family:Menlo,'DejaVu Sans Mono',consolas,'Courier New',monospace\">                  <span style=\"color: #008000; text-decoration-color: #008000\">⠴</span> overal progress <span style=\"color: #008080; text-decoration-color: #008080\"> 99</span>/<span style=\"color: #008080; text-decoration-color: #008080\">100</span> epochs <span style=\"color: #f92672; text-decoration-color: #f92672\">━━━━━━━━━━━━━━━━━━━━━━━━━━━━━━━━━━━━━━━╸</span> <span style=\"color: #008080; text-decoration-color: #008080\"> 99</span>% <span style=\"color: #808000; text-decoration-color: #808000\">0:00:39</span>           \n",
              "                    train/acc: <span style=\"color: #008080; text-decoration-color: #008080; font-weight: bold\">98.968</span> train/loss: <span style=\"color: #008080; text-decoration-color: #008080; font-weight: bold\">0.146</span>  val/acc: <span style=\"color: #008080; text-decoration-color: #008080; font-weight: bold\">98.810</span> val/loss: <span style=\"color: #008080; text-decoration-color: #008080; font-weight: bold\">0.152</span>  test/acc: <span style=\"color: #008080; text-decoration-color: #008080; font-weight: bold\">98.503</span>         \n",
              "                                                                                                                   \n",
              "</pre>\n"
            ],
            "text/plain": [
              "                  \u001b[32m⠴\u001b[0m overal progress \u001b[36m 99\u001b[0m/\u001b[36m100\u001b[0m epochs \u001b[38;2;249;38;114m━━━━━━━━━━━━━━━━━━━━━━━━━━━━━━━━━━━━━━━\u001b[0m\u001b[38;2;249;38;114m╸\u001b[0m \u001b[36m 99\u001b[0m% \u001b[33m0:00:39\u001b[0m           \n",
              "                    train/acc: \u001b[1;36m98.968\u001b[0m train/loss: \u001b[1;36m0.146\u001b[0m  val/acc: \u001b[1;36m98.810\u001b[0m val/loss: \u001b[1;36m0.152\u001b[0m  test/acc: \u001b[1;36m98.503\u001b[0m         \n",
              "                                                                                                                   \n"
            ]
          },
          "metadata": {},
          "output_type": "display_data"
        },
        {
          "data": {
            "text/html": [
              "<pre style=\"white-space:pre;overflow-x:auto;line-height:normal;font-family:Menlo,'DejaVu Sans Mono',consolas,'Courier New',monospace\"></pre>\n"
            ],
            "text/plain": []
          },
          "metadata": {},
          "output_type": "display_data"
        },
        {
          "data": {
            "text/html": [
              "<pre style=\"white-space:pre;overflow-x:auto;line-height:normal;font-family:Menlo,'DejaVu Sans Mono',consolas,'Courier New',monospace\">\n",
              "</pre>\n"
            ],
            "text/plain": [
              "\n"
            ]
          },
          "metadata": {},
          "output_type": "display_data"
        }
      ],
      "source": [
        "epsilon_values = [0.1, 0.5, 1, 2, 5, 10] # Example epsilon values\n",
        "delta_value = 'auto'\n",
        "\n",
        "metrics_list = []\n",
        "\n",
        "for epsilon in epsilon_values:\n",
        "    model = EdgeLevelProGAP(num_classes=num_classes_reddit, epsilon=epsilon, delta=delta_value)\n",
        "    model.setup(reddit_data)\n",
        "    model.fit()\n",
        "    metrics = model.test()\n",
        "    metrics_list.append(metrics)"
      ]
    },
    {
      "cell_type": "code",
      "execution_count": null,
      "metadata": {
        "colab": {
          "background_save": true
        },
        "id": "dc-jGqb1-mmQ",
        "outputId": "9e8e3ac6-ee5a-4ff8-84b2-1d0118690714"
      },
      "outputs": [
        {
          "name": "stdout",
          "output_type": "stream",
          "text": [
            "Name: autodp\n",
            "Version: 0.2.3.1\n",
            "Summary: Automating Differential Privacy Computation\n",
            "Home-page: https://github.com/yuxiangw/autodp\n",
            "Author: Yu-Xiang Wang\n",
            "Author-email: yuxiangw@cs.ucsb.edu\n",
            "License: Apache\n",
            "Location: /usr/local/lib/python3.10/dist-packages\n",
            "Requires: absl-py, matplotlib, numpy, scipy\n",
            "Required-by: \n"
          ]
        }
      ],
      "source": [
        "!pip show autodp"
      ]
    },
    {
      "cell_type": "code",
      "execution_count": null,
      "metadata": {
        "colab": {
          "background_save": true
        },
        "id": "XB21H1bsqrIn",
        "outputId": "3cea1601-d974-4853-8c8f-5c80df847a08"
      },
      "outputs": [
        {
          "name": "stdout",
          "output_type": "stream",
          "text": [
            "tensor(93.2869)\n"
          ]
        }
      ],
      "source": [
        "print(metrics_list[0]['test/acc'])"
      ]
    },
    {
      "cell_type": "code",
      "execution_count": null,
      "metadata": {
        "colab": {
          "background_save": true
        },
        "id": "h24FG045B-mD"
      },
      "outputs": [],
      "source": [
        "# import matplotlib.pyplot as plt\n",
        "\n",
        "# # Assuming metrics_list contains dictionaries with 'accuracy' key\n",
        "# accuracy_values = [metrics['test/acc'] for metrics in metrics_list]\n",
        "# baseline_acc = [metrics_base_mlp_reddit['test/acc'] for metrics in metrics_list]\n",
        "# baseline_gnn_acc = [metrics_pro_reddit['test/acc'] for metrics in metrics_list]\n",
        "# # Plotting\n",
        "# plt.plot(epsilon_values, accuracy_values, marker='o')\n",
        "# plt.title('Privacy Cost vs Inference Tradeoff : Reddit Data')\n",
        "# plt.xlabel('Epsilon Values')\n",
        "# plt.ylabel('Test Accuracy')\n",
        "# plt.grid(True)\n",
        "# plt.show()"
      ]
    },
    {
      "cell_type": "code",
      "execution_count": null,
      "metadata": {
        "colab": {
          "background_save": true
        },
        "id": "eM82C2GQCn2j",
        "outputId": "86f36798-fefa-46f1-c054-c408a27cb76e"
      },
      "outputs": [
        {
          "data": {
            "text/plain": [
              "tensor(82.2602)"
            ]
          },
          "execution_count": 57,
          "metadata": {},
          "output_type": "execute_result"
        }
      ],
      "source": [
        "metrics_base_mlp_reddit['test/acc']"
      ]
    },
    {
      "cell_type": "code",
      "execution_count": null,
      "metadata": {
        "colab": {
          "background_save": true
        },
        "id": "R6A_O6VDecBj",
        "outputId": "ce149311-841e-4f01-b901-659c0c192679"
      },
      "outputs": [
        {
          "data": {
            "image/png": "[encoded data removed]",
            "text/plain": [
              "<Figure size 640x480 with 1 Axes>"
            ]
          },
          "metadata": {},
          "output_type": "display_data"
        }
      ],
      "source": [
        "import matplotlib.pyplot as plt\n",
        "\n",
        "# Assuming metrics_list contains dictionaries with 'accuracy' key\n",
        "accuracy_values = [metrics['test/acc'] for metrics in metrics_list]\n",
        "baseline_acc = [metrics_base_mlp_reddit['test/acc'] for metrics in metrics_list]\n",
        "baseline_gnn_acc = [metrics_pro_reddit['test/acc'] for metrics in metrics_list]\n",
        "# Plotting\n",
        "plt.plot(epsilon_values, accuracy_values, marker='o', label = 'Our Differentially Private Model')\n",
        "plt.plot(epsilon_values, baseline_acc, marker = 'x', label = 'Baseline MLP')\n",
        "plt.plot(epsilon_values, baseline_gnn_acc, marker = 'x', label = 'Baseline GNN' )\n",
        "plt.legend()\n",
        "plt.title('Privacy Cost vs Inference Tradeoff : Reddit Data')\n",
        "plt.xlabel('Epsilon Values')\n",
        "plt.ylabel('Test Accuracy')\n",
        "plt.grid(True)\n",
        "plt.show()"
      ]
    },
    {
      "cell_type": "code",
      "execution_count": null,
      "metadata": {
        "colab": {
          "background_save": true
        },
        "id": "83fZQ5AtfBlB"
      },
      "outputs": [],
      "source": []
    }
  ],
  "metadata": {
    "colab": {
      "machine_shape": "hm",
      "provenance": []
    },
    "kernelspec": {
      "display_name": "Python 3",
      "name": "python3"
    },
    "language_info": {
      "name": "python"
    },
    "widgets": {
      "application/vnd.jupyter.widget-state+json": {
        "1099b26d1696436a9a48017562acad8d": {
          "model_module": "@jupyter-widgets/output",
          "model_module_version": "1.0.0",
          "model_name": "OutputModel",
          "state": {
            "_dom_classes": [],
            "_model_module": "@jupyter-widgets/output",
            "_model_module_version": "1.0.0",
            "_model_name": "OutputModel",
            "_view_count": null,
            "_view_module": "@jupyter-widgets/output",
            "_view_module_version": "1.0.0",
            "_view_name": "OutputView",
            "layout": "IPY_MODEL_d093526d7989486d9500b32fb6bf6ad8",
            "msg_id": "",
            "outputs": [
              {
                "data": {
                  "text/html": "<pre style=\"white-space:pre;overflow-x:auto;line-height:normal;font-family:Menlo,'DejaVu Sans Mono',consolas,'Courier New',monospace\">                  <span style=\"color: #008000; text-decoration-color: #008000\">⠹</span> overal progress <span style=\"color: #008080; text-decoration-color: #008080\"> 99</span>/<span style=\"color: #008080; text-decoration-color: #008080\">100</span> epochs <span style=\"color: #f92672; text-decoration-color: #f92672\">━━━━━━━━━━━━━━━━━━━━━━━━━━━━━━━━━━━━━━━╸</span> <span style=\"color: #008080; text-decoration-color: #008080\"> 99</span>% <span style=\"color: #808000; text-decoration-color: #808000\">0:00:21</span>           \n                    train/acc: <span style=\"color: #008080; text-decoration-color: #008080; font-weight: bold\">84.148</span> train/loss: <span style=\"color: #008080; text-decoration-color: #008080; font-weight: bold\">0.472</span>  val/acc: <span style=\"color: #008080; text-decoration-color: #008080; font-weight: bold\">81.954</span> val/loss: <span style=\"color: #008080; text-decoration-color: #008080; font-weight: bold\">0.550</span>  test/acc: <span style=\"color: #008080; text-decoration-color: #008080; font-weight: bold\">82.220</span>         \n                                                                                                                   \n</pre>\n",
                  "text/plain": "                  \u001b[32m⠹\u001b[0m overal progress \u001b[36m 99\u001b[0m/\u001b[36m100\u001b[0m epochs \u001b[38;2;249;38;114m━━━━━━━━━━━━━━━━━━━━━━━━━━━━━━━━━━━━━━━\u001b[0m\u001b[38;2;249;38;114m╸\u001b[0m \u001b[36m 99\u001b[0m% \u001b[33m0:00:21\u001b[0m           \n                    train/acc: \u001b[1;36m84.148\u001b[0m train/loss: \u001b[1;36m0.472\u001b[0m  val/acc: \u001b[1;36m81.954\u001b[0m val/loss: \u001b[1;36m0.550\u001b[0m  test/acc: \u001b[1;36m82.220\u001b[0m         \n                                                                                                                   \n"
                },
                "metadata": {},
                "output_type": "display_data"
              }
            ]
          }
        },
        "7de337c84a3640a68c3c50c859b8a780": {
          "model_module": "@jupyter-widgets/base",
          "model_module_version": "1.2.0",
          "model_name": "LayoutModel",
          "state": {
            "_model_module": "@jupyter-widgets/base",
            "_model_module_version": "1.2.0",
            "_model_name": "LayoutModel",
            "_view_count": null,
            "_view_module": "@jupyter-widgets/base",
            "_view_module_version": "1.2.0",
            "_view_name": "LayoutView",
            "align_content": null,
            "align_items": null,
            "align_self": null,
            "border": null,
            "bottom": null,
            "display": null,
            "flex": null,
            "flex_flow": null,
            "grid_area": null,
            "grid_auto_columns": null,
            "grid_auto_flow": null,
            "grid_auto_rows": null,
            "grid_column": null,
            "grid_gap": null,
            "grid_row": null,
            "grid_template_areas": null,
            "grid_template_columns": null,
            "grid_template_rows": null,
            "height": null,
            "justify_content": null,
            "justify_items": null,
            "left": null,
            "margin": null,
            "max_height": null,
            "max_width": null,
            "min_height": null,
            "min_width": null,
            "object_fit": null,
            "object_position": null,
            "order": null,
            "overflow": null,
            "overflow_x": null,
            "overflow_y": null,
            "padding": null,
            "right": null,
            "top": null,
            "visibility": null,
            "width": null
          }
        },
        "d093526d7989486d9500b32fb6bf6ad8": {
          "model_module": "@jupyter-widgets/base",
          "model_module_version": "1.2.0",
          "model_name": "LayoutModel",
          "state": {
            "_model_module": "@jupyter-widgets/base",
            "_model_module_version": "1.2.0",
            "_model_name": "LayoutModel",
            "_view_count": null,
            "_view_module": "@jupyter-widgets/base",
            "_view_module_version": "1.2.0",
            "_view_name": "LayoutView",
            "align_content": null,
            "align_items": null,
            "align_self": null,
            "border": null,
            "bottom": null,
            "display": null,
            "flex": null,
            "flex_flow": null,
            "grid_area": null,
            "grid_auto_columns": null,
            "grid_auto_flow": null,
            "grid_auto_rows": null,
            "grid_column": null,
            "grid_gap": null,
            "grid_row": null,
            "grid_template_areas": null,
            "grid_template_columns": null,
            "grid_template_rows": null,
            "height": null,
            "justify_content": null,
            "justify_items": null,
            "left": null,
            "margin": null,
            "max_height": null,
            "max_width": null,
            "min_height": null,
            "min_width": null,
            "object_fit": null,
            "object_position": null,
            "order": null,
            "overflow": null,
            "overflow_x": null,
            "overflow_y": null,
            "padding": null,
            "right": null,
            "top": null,
            "visibility": null,
            "width": null
          }
        },
        "e629fa88b5f043a6aa6d935d5da48ba8": {
          "model_module": "@jupyter-widgets/output",
          "model_module_version": "1.0.0",
          "model_name": "OutputModel",
          "state": {
            "_dom_classes": [],
            "_model_module": "@jupyter-widgets/output",
            "_model_module_version": "1.0.0",
            "_model_name": "OutputModel",
            "_view_count": null,
            "_view_module": "@jupyter-widgets/output",
            "_view_module_version": "1.0.0",
            "_view_name": "OutputView",
            "layout": "IPY_MODEL_7de337c84a3640a68c3c50c859b8a780",
            "msg_id": "",
            "outputs": [
              {
                "data": {
                  "text/html": "<pre style=\"white-space:pre;overflow-x:auto;line-height:normal;font-family:Menlo,'DejaVu Sans Mono',consolas,'Courier New',monospace\">                  <span style=\"color: #008000; text-decoration-color: #008000\">⠼</span> overal progress <span style=\"color: #008080; text-decoration-color: #008080\"> 99</span>/<span style=\"color: #008080; text-decoration-color: #008080\">100</span> epochs <span style=\"color: #f92672; text-decoration-color: #f92672\">━━━━━━━━━━━━━━━━━━━━━━━━━━━━━━━━━━━━━━━╸</span> <span style=\"color: #008080; text-decoration-color: #008080\"> 99</span>% <span style=\"color: #808000; text-decoration-color: #808000\">0:02:29</span>           \n                    train/acc: <span style=\"color: #008080; text-decoration-color: #008080; font-weight: bold\">35.522</span> train/loss: <span style=\"color: #008080; text-decoration-color: #008080; font-weight: bold\">1.475</span>  val/acc: <span style=\"color: #008080; text-decoration-color: #008080; font-weight: bold\">34.563</span> val/loss: <span style=\"color: #008080; text-decoration-color: #008080; font-weight: bold\">1.482</span>  test/acc: <span style=\"color: #008080; text-decoration-color: #008080; font-weight: bold\">35.021</span>         \n                                                                                                                   \n</pre>\n",
                  "text/plain": "                  \u001b[32m⠼\u001b[0m overal progress \u001b[36m 99\u001b[0m/\u001b[36m100\u001b[0m epochs \u001b[38;2;249;38;114m━━━━━━━━━━━━━━━━━━━━━━━━━━━━━━━━━━━━━━━\u001b[0m\u001b[38;2;249;38;114m╸\u001b[0m \u001b[36m 99\u001b[0m% \u001b[33m0:02:29\u001b[0m           \n                    train/acc: \u001b[1;36m35.522\u001b[0m train/loss: \u001b[1;36m1.475\u001b[0m  val/acc: \u001b[1;36m34.563\u001b[0m val/loss: \u001b[1;36m1.482\u001b[0m  test/acc: \u001b[1;36m35.021\u001b[0m         \n                                                                                                                   \n"
                },
                "metadata": {},
                "output_type": "display_data"
              }
            ]
          }
        }
      }
    }
  },
  "nbformat": 4,
  "nbformat_minor": 0
}